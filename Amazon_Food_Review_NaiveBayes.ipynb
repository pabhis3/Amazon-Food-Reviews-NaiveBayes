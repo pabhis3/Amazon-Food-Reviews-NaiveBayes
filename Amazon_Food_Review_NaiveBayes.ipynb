{
 "cells": [
  {
   "cell_type": "markdown",
   "metadata": {
    "colab_type": "text",
    "id": "UIn1GsFNJkjH"
   },
   "source": [
    "# Amazon Fine Food Reviews Analysis\n",
    "\n",
    "\n",
    "Data Source: https://www.kaggle.com/snap/amazon-fine-food-reviews <br>\n",
    "\n",
    "EDA: https://nycdatascience.com/blog/student-works/amazon-fine-foods-visualization/\n",
    "\n",
    "\n",
    "The Amazon Fine Food Reviews dataset consists of reviews of fine foods from Amazon.<br>\n",
    "\n",
    "Number of reviews: 568,454<br>\n",
    "Number of users: 256,059<br>\n",
    "Number of products: 74,258<br>\n",
    "Timespan: Oct 1999 - Oct 2012<br>\n",
    "Number of Attributes/Columns in data: 10 \n",
    "\n",
    "Attribute Information:\n",
    "\n",
    "1. Id\n",
    "2. ProductId - unique identifier for the product\n",
    "3. UserId - unqiue identifier for the user\n",
    "4. ProfileName\n",
    "5. HelpfulnessNumerator - number of users who found the review helpful\n",
    "6. HelpfulnessDenominator - number of users who indicated whether they found the review helpful or not\n",
    "7. Score - rating between 1 and 5\n",
    "8. Time - timestamp for the review\n",
    "9. Summary - brief summary of the review\n",
    "10. Text - text of the review\n",
    "\n",
    "\n",
    "#### Objective:\n",
    "Given a review, determine whether the review is positive (rating of 4 or 5) or negative (rating of 1 or 2).\n",
    "\n",
    "<br>\n",
    "[Q] How to determine if a review is positive or negative?<br>\n",
    "<br> \n",
    "[Ans] We could use Score/Rating. A rating of 4 or 5 can be cosnidered as a positive review. A rating of 1 or 2 can be considered as negative one. A review of rating 3 is considered nuetral and such reviews are ignored from our analysis. This is an approximate and proxy way of determining the polarity (positivity/negativity) of a review.\n",
    "\n",
    "\n"
   ]
  },
  {
   "cell_type": "markdown",
   "metadata": {
    "colab_type": "text",
    "id": "5Uf26aoLJkjJ"
   },
   "source": [
    "# [1]. Reading Data"
   ]
  },
  {
   "cell_type": "markdown",
   "metadata": {
    "colab_type": "text",
    "id": "yo-LaJg3JkjK"
   },
   "source": [
    "## [1.1] Loading the data\n",
    "\n",
    "The dataset is available in two forms\n",
    "1. .csv file\n",
    "2. SQLite Database\n",
    "\n",
    "In order to load the data, We have used the SQLITE dataset as it is easier to query the data and visualise the data efficiently.\n",
    "<br> \n",
    "\n",
    "Here as we only want to get the global sentiment of the recommendations (positive or negative), we will purposefully ignore all Scores equal to 3. If the score is above 3, then the recommendation wil be set to \"positive\". Otherwise, it will be set to \"negative\"."
   ]
  },
  {
   "cell_type": "code",
   "execution_count": 1,
   "metadata": {
    "colab": {},
    "colab_type": "code",
    "id": "dLYq3BkfJkjL"
   },
   "outputs": [],
   "source": [
    "\n",
    "%matplotlib inline\n",
    "import warnings\n",
    "warnings.filterwarnings(\"ignore\")\n",
    "\n",
    "\n",
    "import sqlite3\n",
    "import pandas as pd\n",
    "import numpy as np\n",
    "import nltk\n",
    "import string\n",
    "import matplotlib.pyplot as plt\n",
    "import seaborn as sns\n",
    "from sklearn.feature_extraction.text import TfidfTransformer\n",
    "from sklearn.feature_extraction.text import TfidfVectorizer\n",
    "\n",
    "from sklearn.feature_extraction.text import CountVectorizer\n",
    "from sklearn.metrics import confusion_matrix\n",
    "from sklearn import metrics\n",
    "from sklearn.metrics import roc_curve, auc\n",
    "from nltk.stem.porter import PorterStemmer\n",
    "\n",
    "import re\n",
    "# Tutorial about Python regular expressions: https://pymotw.com/2/re/\n",
    "import string\n",
    "from nltk.corpus import stopwords\n",
    "from nltk.stem import PorterStemmer\n",
    "from nltk.stem.wordnet import WordNetLemmatizer\n",
    "\n",
    "from gensim.models import Word2Vec\n",
    "from gensim.models import KeyedVectors\n",
    "import pickle\n",
    "\n",
    "from tqdm import tqdm\n",
    "import os"
   ]
  },
  {
   "cell_type": "code",
   "execution_count": 2,
   "metadata": {
    "colab": {},
    "colab_type": "code",
    "id": "rXVxnx_NJkjO",
    "outputId": "98628980-4d6e-4c53-913f-2d207932d2d0"
   },
   "outputs": [
    {
     "name": "stdout",
     "output_type": "stream",
     "text": [
      "Number of data points in our data (525814, 10)\n"
     ]
    },
    {
     "data": {
      "text/html": [
       "<div>\n",
       "<style scoped>\n",
       "    .dataframe tbody tr th:only-of-type {\n",
       "        vertical-align: middle;\n",
       "    }\n",
       "\n",
       "    .dataframe tbody tr th {\n",
       "        vertical-align: top;\n",
       "    }\n",
       "\n",
       "    .dataframe thead th {\n",
       "        text-align: right;\n",
       "    }\n",
       "</style>\n",
       "<table border=\"1\" class=\"dataframe\">\n",
       "  <thead>\n",
       "    <tr style=\"text-align: right;\">\n",
       "      <th></th>\n",
       "      <th>Id</th>\n",
       "      <th>ProductId</th>\n",
       "      <th>UserId</th>\n",
       "      <th>ProfileName</th>\n",
       "      <th>HelpfulnessNumerator</th>\n",
       "      <th>HelpfulnessDenominator</th>\n",
       "      <th>Score</th>\n",
       "      <th>Time</th>\n",
       "      <th>Summary</th>\n",
       "      <th>Text</th>\n",
       "    </tr>\n",
       "  </thead>\n",
       "  <tbody>\n",
       "    <tr>\n",
       "      <td>0</td>\n",
       "      <td>1</td>\n",
       "      <td>B001E4KFG0</td>\n",
       "      <td>A3SGXH7AUHU8GW</td>\n",
       "      <td>delmartian</td>\n",
       "      <td>1</td>\n",
       "      <td>1</td>\n",
       "      <td>1</td>\n",
       "      <td>1303862400</td>\n",
       "      <td>Good Quality Dog Food</td>\n",
       "      <td>I have bought several of the Vitality canned d...</td>\n",
       "    </tr>\n",
       "    <tr>\n",
       "      <td>1</td>\n",
       "      <td>2</td>\n",
       "      <td>B00813GRG4</td>\n",
       "      <td>A1D87F6ZCVE5NK</td>\n",
       "      <td>dll pa</td>\n",
       "      <td>0</td>\n",
       "      <td>0</td>\n",
       "      <td>0</td>\n",
       "      <td>1346976000</td>\n",
       "      <td>Not as Advertised</td>\n",
       "      <td>Product arrived labeled as Jumbo Salted Peanut...</td>\n",
       "    </tr>\n",
       "    <tr>\n",
       "      <td>2</td>\n",
       "      <td>3</td>\n",
       "      <td>B000LQOCH0</td>\n",
       "      <td>ABXLMWJIXXAIN</td>\n",
       "      <td>Natalia Corres \"Natalia Corres\"</td>\n",
       "      <td>1</td>\n",
       "      <td>1</td>\n",
       "      <td>1</td>\n",
       "      <td>1219017600</td>\n",
       "      <td>\"Delight\" says it all</td>\n",
       "      <td>This is a confection that has been around a fe...</td>\n",
       "    </tr>\n",
       "  </tbody>\n",
       "</table>\n",
       "</div>"
      ],
      "text/plain": [
       "   Id   ProductId          UserId                      ProfileName  \\\n",
       "0   1  B001E4KFG0  A3SGXH7AUHU8GW                       delmartian   \n",
       "1   2  B00813GRG4  A1D87F6ZCVE5NK                           dll pa   \n",
       "2   3  B000LQOCH0   ABXLMWJIXXAIN  Natalia Corres \"Natalia Corres\"   \n",
       "\n",
       "   HelpfulnessNumerator  HelpfulnessDenominator  Score        Time  \\\n",
       "0                     1                       1      1  1303862400   \n",
       "1                     0                       0      0  1346976000   \n",
       "2                     1                       1      1  1219017600   \n",
       "\n",
       "                 Summary                                               Text  \n",
       "0  Good Quality Dog Food  I have bought several of the Vitality canned d...  \n",
       "1      Not as Advertised  Product arrived labeled as Jumbo Salted Peanut...  \n",
       "2  \"Delight\" says it all  This is a confection that has been around a fe...  "
      ]
     },
     "execution_count": 2,
     "metadata": {},
     "output_type": "execute_result"
    }
   ],
   "source": [
    "# using SQLite Table to read data.\n",
    "con = sqlite3.connect('database.sqlite') \n",
    "\n",
    "# filtering only positive and negative reviews i.e. \n",
    "# not taking into consideration those reviews with Score=3\n",
    "\n",
    "\n",
    "filtered_data = pd.read_sql_query(\"\"\" SELECT * FROM Reviews WHERE Score != 3\"\"\", con) \n",
    "\n",
    "# Give reviews with Score>3 a positive rating(1), and reviews with a score<3 a negative rating(0).\n",
    "def partition(x):\n",
    "    if x < 3:\n",
    "        return 0\n",
    "    return 1\n",
    "\n",
    "#changing reviews with score less than 3 to be positive and vice-versa\n",
    "actualScore = filtered_data['Score']\n",
    "positiveNegative = actualScore.map(partition) \n",
    "filtered_data['Score'] = positiveNegative\n",
    "print(\"Number of data points in our data\", filtered_data.shape)\n",
    "filtered_data.head(3)"
   ]
  },
  {
   "cell_type": "code",
   "execution_count": 3,
   "metadata": {
    "colab": {},
    "colab_type": "code",
    "id": "ZLasp3QxJkjS"
   },
   "outputs": [],
   "source": [
    "display = pd.read_sql_query(\"\"\"\n",
    "SELECT UserId, ProductId, ProfileName, Time, Score, Text, COUNT(*)\n",
    "FROM Reviews\n",
    "GROUP BY UserId\n",
    "HAVING COUNT(*)>1\n",
    "\"\"\", con)"
   ]
  },
  {
   "cell_type": "code",
   "execution_count": 4,
   "metadata": {
    "colab": {},
    "colab_type": "code",
    "id": "pHzk_lUkJkjW",
    "outputId": "3461f626-dc72-4b0d-af37-c3625e7e81b2",
    "scrolled": true
   },
   "outputs": [
    {
     "name": "stdout",
     "output_type": "stream",
     "text": [
      "(80668, 7)\n"
     ]
    },
    {
     "data": {
      "text/html": [
       "<div>\n",
       "<style scoped>\n",
       "    .dataframe tbody tr th:only-of-type {\n",
       "        vertical-align: middle;\n",
       "    }\n",
       "\n",
       "    .dataframe tbody tr th {\n",
       "        vertical-align: top;\n",
       "    }\n",
       "\n",
       "    .dataframe thead th {\n",
       "        text-align: right;\n",
       "    }\n",
       "</style>\n",
       "<table border=\"1\" class=\"dataframe\">\n",
       "  <thead>\n",
       "    <tr style=\"text-align: right;\">\n",
       "      <th></th>\n",
       "      <th>UserId</th>\n",
       "      <th>ProductId</th>\n",
       "      <th>ProfileName</th>\n",
       "      <th>Time</th>\n",
       "      <th>Score</th>\n",
       "      <th>Text</th>\n",
       "      <th>COUNT(*)</th>\n",
       "    </tr>\n",
       "  </thead>\n",
       "  <tbody>\n",
       "    <tr>\n",
       "      <td>0</td>\n",
       "      <td>#oc-R115TNMSPFT9I7</td>\n",
       "      <td>B007Y59HVM</td>\n",
       "      <td>Breyton</td>\n",
       "      <td>1331510400</td>\n",
       "      <td>2</td>\n",
       "      <td>Overall its just OK when considering the price...</td>\n",
       "      <td>2</td>\n",
       "    </tr>\n",
       "    <tr>\n",
       "      <td>1</td>\n",
       "      <td>#oc-R11D9D7SHXIJB9</td>\n",
       "      <td>B005HG9ET0</td>\n",
       "      <td>Louis E. Emory \"hoppy\"</td>\n",
       "      <td>1342396800</td>\n",
       "      <td>5</td>\n",
       "      <td>My wife has recurring extreme muscle spasms, u...</td>\n",
       "      <td>3</td>\n",
       "    </tr>\n",
       "    <tr>\n",
       "      <td>2</td>\n",
       "      <td>#oc-R11DNU2NBKQ23Z</td>\n",
       "      <td>B007Y59HVM</td>\n",
       "      <td>Kim Cieszykowski</td>\n",
       "      <td>1348531200</td>\n",
       "      <td>1</td>\n",
       "      <td>This coffee is horrible and unfortunately not ...</td>\n",
       "      <td>2</td>\n",
       "    </tr>\n",
       "    <tr>\n",
       "      <td>3</td>\n",
       "      <td>#oc-R11O5J5ZVQE25C</td>\n",
       "      <td>B005HG9ET0</td>\n",
       "      <td>Penguin Chick</td>\n",
       "      <td>1346889600</td>\n",
       "      <td>5</td>\n",
       "      <td>This will be the bottle that you grab from the...</td>\n",
       "      <td>3</td>\n",
       "    </tr>\n",
       "    <tr>\n",
       "      <td>4</td>\n",
       "      <td>#oc-R12KPBODL2B5ZD</td>\n",
       "      <td>B007OSBE1U</td>\n",
       "      <td>Christopher P. Presta</td>\n",
       "      <td>1348617600</td>\n",
       "      <td>1</td>\n",
       "      <td>I didnt like this coffee. Instead of telling y...</td>\n",
       "      <td>2</td>\n",
       "    </tr>\n",
       "  </tbody>\n",
       "</table>\n",
       "</div>"
      ],
      "text/plain": [
       "               UserId   ProductId             ProfileName        Time  Score  \\\n",
       "0  #oc-R115TNMSPFT9I7  B007Y59HVM                 Breyton  1331510400      2   \n",
       "1  #oc-R11D9D7SHXIJB9  B005HG9ET0  Louis E. Emory \"hoppy\"  1342396800      5   \n",
       "2  #oc-R11DNU2NBKQ23Z  B007Y59HVM        Kim Cieszykowski  1348531200      1   \n",
       "3  #oc-R11O5J5ZVQE25C  B005HG9ET0           Penguin Chick  1346889600      5   \n",
       "4  #oc-R12KPBODL2B5ZD  B007OSBE1U   Christopher P. Presta  1348617600      1   \n",
       "\n",
       "                                                Text  COUNT(*)  \n",
       "0  Overall its just OK when considering the price...         2  \n",
       "1  My wife has recurring extreme muscle spasms, u...         3  \n",
       "2  This coffee is horrible and unfortunately not ...         2  \n",
       "3  This will be the bottle that you grab from the...         3  \n",
       "4  I didnt like this coffee. Instead of telling y...         2  "
      ]
     },
     "execution_count": 4,
     "metadata": {},
     "output_type": "execute_result"
    }
   ],
   "source": [
    "print(display.shape)\n",
    "display.head()"
   ]
  },
  {
   "cell_type": "code",
   "execution_count": 5,
   "metadata": {
    "colab": {},
    "colab_type": "code",
    "id": "HUsn2lg8Jkjb",
    "outputId": "76e2e98e-b728-46ba-d619-c2008134a3b7"
   },
   "outputs": [
    {
     "data": {
      "text/html": [
       "<div>\n",
       "<style scoped>\n",
       "    .dataframe tbody tr th:only-of-type {\n",
       "        vertical-align: middle;\n",
       "    }\n",
       "\n",
       "    .dataframe tbody tr th {\n",
       "        vertical-align: top;\n",
       "    }\n",
       "\n",
       "    .dataframe thead th {\n",
       "        text-align: right;\n",
       "    }\n",
       "</style>\n",
       "<table border=\"1\" class=\"dataframe\">\n",
       "  <thead>\n",
       "    <tr style=\"text-align: right;\">\n",
       "      <th></th>\n",
       "      <th>UserId</th>\n",
       "      <th>ProductId</th>\n",
       "      <th>ProfileName</th>\n",
       "      <th>Time</th>\n",
       "      <th>Score</th>\n",
       "      <th>Text</th>\n",
       "      <th>COUNT(*)</th>\n",
       "    </tr>\n",
       "  </thead>\n",
       "  <tbody>\n",
       "    <tr>\n",
       "      <td>80638</td>\n",
       "      <td>AZY10LLTJ71NX</td>\n",
       "      <td>B006P7E5ZI</td>\n",
       "      <td>undertheshrine \"undertheshrine\"</td>\n",
       "      <td>1334707200</td>\n",
       "      <td>5</td>\n",
       "      <td>I was recommended to try green tea extract to ...</td>\n",
       "      <td>5</td>\n",
       "    </tr>\n",
       "  </tbody>\n",
       "</table>\n",
       "</div>"
      ],
      "text/plain": [
       "              UserId   ProductId                      ProfileName        Time  \\\n",
       "80638  AZY10LLTJ71NX  B006P7E5ZI  undertheshrine \"undertheshrine\"  1334707200   \n",
       "\n",
       "       Score                                               Text  COUNT(*)  \n",
       "80638      5  I was recommended to try green tea extract to ...         5  "
      ]
     },
     "execution_count": 5,
     "metadata": {},
     "output_type": "execute_result"
    }
   ],
   "source": [
    "display[display['UserId']=='AZY10LLTJ71NX']"
   ]
  },
  {
   "cell_type": "code",
   "execution_count": 6,
   "metadata": {
    "colab": {},
    "colab_type": "code",
    "id": "CyPhzHZKJkjf",
    "outputId": "28b60f13-e2e6-4960-e5ba-3467e16dbd03"
   },
   "outputs": [
    {
     "data": {
      "text/plain": [
       "393063"
      ]
     },
     "execution_count": 6,
     "metadata": {},
     "output_type": "execute_result"
    }
   ],
   "source": [
    "display['COUNT(*)'].sum()"
   ]
  },
  {
   "cell_type": "markdown",
   "metadata": {
    "colab_type": "text",
    "id": "y22fy_WtJkji"
   },
   "source": [
    "#  [2] Exploratory Data Analysis"
   ]
  },
  {
   "cell_type": "markdown",
   "metadata": {
    "colab_type": "text",
    "id": "ZqpW3tWPJkjl"
   },
   "source": [
    "## [2.1] Data Cleaning: Deduplication\n",
    "\n",
    "It is observed (as shown in the table below) that the reviews data had many duplicate entries. Hence it was necessary to remove duplicates in order to get unbiased results for the analysis of the data.  Following is an example:"
   ]
  },
  {
   "cell_type": "code",
   "execution_count": 7,
   "metadata": {
    "colab": {},
    "colab_type": "code",
    "id": "fmlu_oooJkjl",
    "outputId": "9ae82f65-ed65-425a-ad4d-b96091e37940",
    "scrolled": false
   },
   "outputs": [
    {
     "data": {
      "text/html": [
       "<div>\n",
       "<style scoped>\n",
       "    .dataframe tbody tr th:only-of-type {\n",
       "        vertical-align: middle;\n",
       "    }\n",
       "\n",
       "    .dataframe tbody tr th {\n",
       "        vertical-align: top;\n",
       "    }\n",
       "\n",
       "    .dataframe thead th {\n",
       "        text-align: right;\n",
       "    }\n",
       "</style>\n",
       "<table border=\"1\" class=\"dataframe\">\n",
       "  <thead>\n",
       "    <tr style=\"text-align: right;\">\n",
       "      <th></th>\n",
       "      <th>Id</th>\n",
       "      <th>ProductId</th>\n",
       "      <th>UserId</th>\n",
       "      <th>ProfileName</th>\n",
       "      <th>HelpfulnessNumerator</th>\n",
       "      <th>HelpfulnessDenominator</th>\n",
       "      <th>Score</th>\n",
       "      <th>Time</th>\n",
       "      <th>Summary</th>\n",
       "      <th>Text</th>\n",
       "    </tr>\n",
       "  </thead>\n",
       "  <tbody>\n",
       "    <tr>\n",
       "      <td>0</td>\n",
       "      <td>78445</td>\n",
       "      <td>B000HDL1RQ</td>\n",
       "      <td>AR5J8UI46CURR</td>\n",
       "      <td>Geetha Krishnan</td>\n",
       "      <td>2</td>\n",
       "      <td>2</td>\n",
       "      <td>5</td>\n",
       "      <td>1199577600</td>\n",
       "      <td>LOACKER QUADRATINI VANILLA WAFERS</td>\n",
       "      <td>DELICIOUS WAFERS. I FIND THAT EUROPEAN WAFERS ...</td>\n",
       "    </tr>\n",
       "    <tr>\n",
       "      <td>1</td>\n",
       "      <td>138317</td>\n",
       "      <td>B000HDOPYC</td>\n",
       "      <td>AR5J8UI46CURR</td>\n",
       "      <td>Geetha Krishnan</td>\n",
       "      <td>2</td>\n",
       "      <td>2</td>\n",
       "      <td>5</td>\n",
       "      <td>1199577600</td>\n",
       "      <td>LOACKER QUADRATINI VANILLA WAFERS</td>\n",
       "      <td>DELICIOUS WAFERS. I FIND THAT EUROPEAN WAFERS ...</td>\n",
       "    </tr>\n",
       "    <tr>\n",
       "      <td>2</td>\n",
       "      <td>138277</td>\n",
       "      <td>B000HDOPYM</td>\n",
       "      <td>AR5J8UI46CURR</td>\n",
       "      <td>Geetha Krishnan</td>\n",
       "      <td>2</td>\n",
       "      <td>2</td>\n",
       "      <td>5</td>\n",
       "      <td>1199577600</td>\n",
       "      <td>LOACKER QUADRATINI VANILLA WAFERS</td>\n",
       "      <td>DELICIOUS WAFERS. I FIND THAT EUROPEAN WAFERS ...</td>\n",
       "    </tr>\n",
       "    <tr>\n",
       "      <td>3</td>\n",
       "      <td>73791</td>\n",
       "      <td>B000HDOPZG</td>\n",
       "      <td>AR5J8UI46CURR</td>\n",
       "      <td>Geetha Krishnan</td>\n",
       "      <td>2</td>\n",
       "      <td>2</td>\n",
       "      <td>5</td>\n",
       "      <td>1199577600</td>\n",
       "      <td>LOACKER QUADRATINI VANILLA WAFERS</td>\n",
       "      <td>DELICIOUS WAFERS. I FIND THAT EUROPEAN WAFERS ...</td>\n",
       "    </tr>\n",
       "    <tr>\n",
       "      <td>4</td>\n",
       "      <td>155049</td>\n",
       "      <td>B000PAQ75C</td>\n",
       "      <td>AR5J8UI46CURR</td>\n",
       "      <td>Geetha Krishnan</td>\n",
       "      <td>2</td>\n",
       "      <td>2</td>\n",
       "      <td>5</td>\n",
       "      <td>1199577600</td>\n",
       "      <td>LOACKER QUADRATINI VANILLA WAFERS</td>\n",
       "      <td>DELICIOUS WAFERS. I FIND THAT EUROPEAN WAFERS ...</td>\n",
       "    </tr>\n",
       "  </tbody>\n",
       "</table>\n",
       "</div>"
      ],
      "text/plain": [
       "       Id   ProductId         UserId      ProfileName  HelpfulnessNumerator  \\\n",
       "0   78445  B000HDL1RQ  AR5J8UI46CURR  Geetha Krishnan                     2   \n",
       "1  138317  B000HDOPYC  AR5J8UI46CURR  Geetha Krishnan                     2   \n",
       "2  138277  B000HDOPYM  AR5J8UI46CURR  Geetha Krishnan                     2   \n",
       "3   73791  B000HDOPZG  AR5J8UI46CURR  Geetha Krishnan                     2   \n",
       "4  155049  B000PAQ75C  AR5J8UI46CURR  Geetha Krishnan                     2   \n",
       "\n",
       "   HelpfulnessDenominator  Score        Time  \\\n",
       "0                       2      5  1199577600   \n",
       "1                       2      5  1199577600   \n",
       "2                       2      5  1199577600   \n",
       "3                       2      5  1199577600   \n",
       "4                       2      5  1199577600   \n",
       "\n",
       "                             Summary  \\\n",
       "0  LOACKER QUADRATINI VANILLA WAFERS   \n",
       "1  LOACKER QUADRATINI VANILLA WAFERS   \n",
       "2  LOACKER QUADRATINI VANILLA WAFERS   \n",
       "3  LOACKER QUADRATINI VANILLA WAFERS   \n",
       "4  LOACKER QUADRATINI VANILLA WAFERS   \n",
       "\n",
       "                                                Text  \n",
       "0  DELICIOUS WAFERS. I FIND THAT EUROPEAN WAFERS ...  \n",
       "1  DELICIOUS WAFERS. I FIND THAT EUROPEAN WAFERS ...  \n",
       "2  DELICIOUS WAFERS. I FIND THAT EUROPEAN WAFERS ...  \n",
       "3  DELICIOUS WAFERS. I FIND THAT EUROPEAN WAFERS ...  \n",
       "4  DELICIOUS WAFERS. I FIND THAT EUROPEAN WAFERS ...  "
      ]
     },
     "execution_count": 7,
     "metadata": {},
     "output_type": "execute_result"
    }
   ],
   "source": [
    "display= pd.read_sql_query(\"\"\"\n",
    "SELECT *\n",
    "FROM Reviews\n",
    "WHERE Score != 3 AND UserId=\"AR5J8UI46CURR\"\n",
    "ORDER BY ProductID\n",
    "\"\"\", con)\n",
    "display.head()"
   ]
  },
  {
   "cell_type": "markdown",
   "metadata": {
    "colab_type": "text",
    "id": "pvogJHEyJkjq"
   },
   "source": [
    "As it can be seen above that same user has multiple reviews with same values for HelpfulnessNumerator, HelpfulnessDenominator, Score, Time, Summary and Text and on doing analysis it was found that <br>\n",
    "<br> \n",
    "ProductId=B000HDOPZG was Loacker Quadratini Vanilla Wafer Cookies, 8.82-Ounce Packages (Pack of 8)<br>\n",
    "<br> \n",
    "ProductId=B000HDL1RQ was Loacker Quadratini Lemon Wafer Cookies, 8.82-Ounce Packages (Pack of 8) and so on<br>\n",
    "\n",
    "It was inferred after analysis that reviews with same parameters other than ProductId belonged to the same product just having different flavour or quantity. Hence in order to reduce redundancy it was decided to eliminate the rows having same parameters.<br>\n",
    "\n",
    "The method used for the same was that we first sort the data according to ProductId and then just keep the first similar product review and delelte the others. for eg. in the above just the review for ProductId=B000HDL1RQ remains. This method ensures that there is only one representative for each product and deduplication without sorting would lead to possibility of different representatives still existing for the same product."
   ]
  },
  {
   "cell_type": "code",
   "execution_count": 8,
   "metadata": {
    "colab": {},
    "colab_type": "code",
    "id": "LAWOrfBaJkjr"
   },
   "outputs": [],
   "source": [
    "#Sorting data according to ProductId in ascending order\n",
    "sorted_data=filtered_data.sort_values('ProductId', axis=0, ascending=True, inplace=False, kind='quicksort', na_position='last')"
   ]
  },
  {
   "cell_type": "code",
   "execution_count": 9,
   "metadata": {
    "colab": {},
    "colab_type": "code",
    "id": "dfaQob28Jkju",
    "outputId": "21104e4f-cd18-4353-a54a-5b4638fc552b"
   },
   "outputs": [
    {
     "data": {
      "text/plain": [
       "(364173, 10)"
      ]
     },
     "execution_count": 9,
     "metadata": {},
     "output_type": "execute_result"
    }
   ],
   "source": [
    "#Deduplication of entries\n",
    "final=sorted_data.drop_duplicates(subset={\"UserId\",\"ProfileName\",\"Time\",\"Text\"}, keep='first', inplace=False)\n",
    "final.shape"
   ]
  },
  {
   "cell_type": "code",
   "execution_count": 10,
   "metadata": {
    "colab": {},
    "colab_type": "code",
    "id": "9QVxT6oxJkjx",
    "outputId": "f292b9fe-6065-4979-830d-c79bc6785a3d"
   },
   "outputs": [
    {
     "data": {
      "text/plain": [
       "69.25890143662969"
      ]
     },
     "execution_count": 10,
     "metadata": {},
     "output_type": "execute_result"
    }
   ],
   "source": [
    "#Checking to see how much % of data still remains\n",
    "(final['Id'].size*1.0)/(filtered_data['Id'].size*1.0)*100"
   ]
  },
  {
   "cell_type": "markdown",
   "metadata": {
    "colab_type": "text",
    "id": "qVaxONHLJkj1"
   },
   "source": [
    "<b>Observation:-</b> It was also seen that in two rows given below the value of HelpfulnessNumerator is greater than HelpfulnessDenominator which is not practically possible hence these two rows too are removed from calcualtions"
   ]
  },
  {
   "cell_type": "code",
   "execution_count": 11,
   "metadata": {
    "colab": {},
    "colab_type": "code",
    "id": "vLoqfOjcJkj1",
    "outputId": "db3448f8-fbda-4205-a7cc-5048e0f1fd19"
   },
   "outputs": [
    {
     "data": {
      "text/html": [
       "<div>\n",
       "<style scoped>\n",
       "    .dataframe tbody tr th:only-of-type {\n",
       "        vertical-align: middle;\n",
       "    }\n",
       "\n",
       "    .dataframe tbody tr th {\n",
       "        vertical-align: top;\n",
       "    }\n",
       "\n",
       "    .dataframe thead th {\n",
       "        text-align: right;\n",
       "    }\n",
       "</style>\n",
       "<table border=\"1\" class=\"dataframe\">\n",
       "  <thead>\n",
       "    <tr style=\"text-align: right;\">\n",
       "      <th></th>\n",
       "      <th>Id</th>\n",
       "      <th>ProductId</th>\n",
       "      <th>UserId</th>\n",
       "      <th>ProfileName</th>\n",
       "      <th>HelpfulnessNumerator</th>\n",
       "      <th>HelpfulnessDenominator</th>\n",
       "      <th>Score</th>\n",
       "      <th>Time</th>\n",
       "      <th>Summary</th>\n",
       "      <th>Text</th>\n",
       "    </tr>\n",
       "  </thead>\n",
       "  <tbody>\n",
       "    <tr>\n",
       "      <td>0</td>\n",
       "      <td>64422</td>\n",
       "      <td>B000MIDROQ</td>\n",
       "      <td>A161DK06JJMCYF</td>\n",
       "      <td>J. E. Stephens \"Jeanne\"</td>\n",
       "      <td>3</td>\n",
       "      <td>1</td>\n",
       "      <td>5</td>\n",
       "      <td>1224892800</td>\n",
       "      <td>Bought This for My Son at College</td>\n",
       "      <td>My son loves spaghetti so I didn't hesitate or...</td>\n",
       "    </tr>\n",
       "    <tr>\n",
       "      <td>1</td>\n",
       "      <td>44737</td>\n",
       "      <td>B001EQ55RW</td>\n",
       "      <td>A2V0I904FH7ABY</td>\n",
       "      <td>Ram</td>\n",
       "      <td>3</td>\n",
       "      <td>2</td>\n",
       "      <td>4</td>\n",
       "      <td>1212883200</td>\n",
       "      <td>Pure cocoa taste with crunchy almonds inside</td>\n",
       "      <td>It was almost a 'love at first bite' - the per...</td>\n",
       "    </tr>\n",
       "  </tbody>\n",
       "</table>\n",
       "</div>"
      ],
      "text/plain": [
       "      Id   ProductId          UserId              ProfileName  \\\n",
       "0  64422  B000MIDROQ  A161DK06JJMCYF  J. E. Stephens \"Jeanne\"   \n",
       "1  44737  B001EQ55RW  A2V0I904FH7ABY                      Ram   \n",
       "\n",
       "   HelpfulnessNumerator  HelpfulnessDenominator  Score        Time  \\\n",
       "0                     3                       1      5  1224892800   \n",
       "1                     3                       2      4  1212883200   \n",
       "\n",
       "                                        Summary  \\\n",
       "0             Bought This for My Son at College   \n",
       "1  Pure cocoa taste with crunchy almonds inside   \n",
       "\n",
       "                                                Text  \n",
       "0  My son loves spaghetti so I didn't hesitate or...  \n",
       "1  It was almost a 'love at first bite' - the per...  "
      ]
     },
     "execution_count": 11,
     "metadata": {},
     "output_type": "execute_result"
    }
   ],
   "source": [
    "display= pd.read_sql_query(\"\"\"\n",
    "SELECT *\n",
    "FROM Reviews\n",
    "WHERE Score != 3 AND Id=44737 OR Id=64422\n",
    "ORDER BY ProductID\n",
    "\"\"\", con)\n",
    "\n",
    "display.head()"
   ]
  },
  {
   "cell_type": "code",
   "execution_count": 12,
   "metadata": {
    "colab": {},
    "colab_type": "code",
    "id": "f_185ozFJkj9"
   },
   "outputs": [],
   "source": [
    "final=final[final.HelpfulnessNumerator<=final.HelpfulnessDenominator]"
   ]
  },
  {
   "cell_type": "code",
   "execution_count": 13,
   "metadata": {
    "colab": {},
    "colab_type": "code",
    "id": "CofRySJyJkkC",
    "outputId": "a06c52f6-66a9-429b-8a5e-e20259f0bb21"
   },
   "outputs": [
    {
     "name": "stdout",
     "output_type": "stream",
     "text": [
      "(364171, 10)\n"
     ]
    },
    {
     "data": {
      "text/plain": [
       "1    307061\n",
       "0     57110\n",
       "Name: Score, dtype: int64"
      ]
     },
     "execution_count": 13,
     "metadata": {},
     "output_type": "execute_result"
    }
   ],
   "source": [
    "#Before starting the next phase of preprocessing lets see the number of entries left\n",
    "print(final.shape)\n",
    "\n",
    "#How many positive and negative reviews are present in our dataset?\n",
    "final['Score'].value_counts()"
   ]
  },
  {
   "cell_type": "markdown",
   "metadata": {
    "colab_type": "text",
    "id": "-fEWeywxJkkI"
   },
   "source": [
    "#  [3] Preprocessing"
   ]
  },
  {
   "cell_type": "markdown",
   "metadata": {
    "colab_type": "text",
    "id": "tzpbt9aOJkkJ"
   },
   "source": [
    "## [3.1].  Preprocessing Review Text\n",
    "\n",
    "Now that we have finished deduplication our data requires some preprocessing before we go on further with analysis and making the prediction model.\n",
    "\n",
    "Hence in the Preprocessing phase we do the following in the order below:-\n",
    "\n",
    "1. Begin by removing the html tags\n",
    "2. Remove any punctuations or limited set of special characters like , or . or # etc.\n",
    "3. Check if the word is made up of english letters and is not alpha-numeric\n",
    "4. Check to see if the length of the word is greater than 2 (as it was researched that there is no adjective in 2-letters)\n",
    "5. Convert the word to lowercase\n",
    "6. Remove Stopwords\n",
    "7. Finally Snowball Stemming the word (it was obsereved to be better than Porter Stemming)<br>\n",
    "\n",
    "After which we collect the words used to describe positive and negative reviews"
   ]
  },
  {
   "cell_type": "code",
   "execution_count": 14,
   "metadata": {
    "colab": {},
    "colab_type": "code",
    "id": "YqxBeLk8JkkL",
    "outputId": "1819632d-0129-4a13-d7ff-4e7bbf129dff"
   },
   "outputs": [
    {
     "name": "stdout",
     "output_type": "stream",
     "text": [
      "this witty little book makes my son laugh at loud. i recite it in the car as we're driving along and he always can sing the refrain. he's learned about whales, India, drooping roses:  i love all the new words this book  introduces and the silliness of it all.  this is a classic book i am  willing to bet my son will STILL be able to recite from memory when he is  in college\n",
      "==================================================\n",
      "I was really looking forward to these pods based on the reviews.  Starbucks is good, but I prefer bolder taste.... imagine my surprise when I ordered 2 boxes - both were expired! One expired back in 2005 for gosh sakes.  I admit that Amazon agreed to credit me for cost plus part of shipping, but geez, 2 years expired!!!  I'm hoping to find local San Diego area shoppe that carries pods so that I can try something different than starbucks.\n",
      "==================================================\n",
      "Great ingredients although, chicken should have been 1st rather than chicken broth, the only thing I do not think belongs in it is Canola oil. Canola or rapeseed is not someting a dog would ever find in nature and if it did find rapeseed in nature and eat it, it would poison them. Today's Food industries have convinced the masses that Canola oil is a safe and even better oil than olive or virgin coconut, facts though say otherwise. Until the late 70's it was poisonous until they figured out a way to fix that. I still like it but it could be better.\n",
      "==================================================\n",
      "Can't do sugar.  Have tried scores of SF Syrups.  NONE of them can touch the excellence of this product.<br /><br />Thick, delicious.  Perfect.  3 ingredients: Water, Maltitol, Natural Maple Flavor.  PERIOD.  No chemicals.  No garbage.<br /><br />Have numerous friends & family members hooked on this stuff.  My husband & son, who do NOT like \"sugar free\" prefer this over major label regular syrup.<br /><br />I use this as my SWEETENER in baking: cheesecakes, white brownies, muffins, pumpkin pies, etc... Unbelievably delicious...<br /><br />Can you tell I like it? :)\n",
      "==================================================\n"
     ]
    }
   ],
   "source": [
    "# printing some random reviews\n",
    "sent_0 = final['Text'].values[0]\n",
    "print(sent_0)\n",
    "print(\"=\"*50)\n",
    "\n",
    "sent_1000 = final['Text'].values[1000]\n",
    "print(sent_1000)\n",
    "print(\"=\"*50)\n",
    "\n",
    "sent_1500 = final['Text'].values[1500]\n",
    "print(sent_1500)\n",
    "print(\"=\"*50)\n",
    "\n",
    "sent_4900 = final['Text'].values[4900]\n",
    "print(sent_4900)\n",
    "print(\"=\"*50)"
   ]
  },
  {
   "cell_type": "code",
   "execution_count": 15,
   "metadata": {
    "colab": {},
    "colab_type": "code",
    "id": "lWiJ2_9gJkkP",
    "outputId": "08234806-3657-4d8f-c6d2-020dc9cda61c"
   },
   "outputs": [
    {
     "name": "stdout",
     "output_type": "stream",
     "text": [
      "this witty little book makes my son laugh at loud. i recite it in the car as we're driving along and he always can sing the refrain. he's learned about whales, India, drooping roses:  i love all the new words this book  introduces and the silliness of it all.  this is a classic book i am  willing to bet my son will STILL be able to recite from memory when he is  in college\n"
     ]
    }
   ],
   "source": [
    "# remove urls from text python: https://stackoverflow.com/a/40823105/4084039\n",
    "sent_0 = re.sub(r\"http\\S+\", \"\", sent_0)\n",
    "sent_1000 = re.sub(r\"http\\S+\", \"\", sent_1000)\n",
    "sent_150 = re.sub(r\"http\\S+\", \"\", sent_1500)\n",
    "sent_4900 = re.sub(r\"http\\S+\", \"\", sent_4900)\n",
    "\n",
    "print(sent_0)"
   ]
  },
  {
   "cell_type": "code",
   "execution_count": 16,
   "metadata": {
    "colab": {},
    "colab_type": "code",
    "id": "cpLtZ-lAJkkR",
    "outputId": "7e0bf159-4db4-4ffe-d72e-6d5952d453f1"
   },
   "outputs": [
    {
     "name": "stdout",
     "output_type": "stream",
     "text": [
      "this witty little book makes my son laugh at loud. i recite it in the car as we're driving along and he always can sing the refrain. he's learned about whales, India, drooping roses:  i love all the new words this book  introduces and the silliness of it all.  this is a classic book i am  willing to bet my son will STILL be able to recite from memory when he is  in college\n",
      "==================================================\n",
      "I was really looking forward to these pods based on the reviews.  Starbucks is good, but I prefer bolder taste.... imagine my surprise when I ordered 2 boxes - both were expired! One expired back in 2005 for gosh sakes.  I admit that Amazon agreed to credit me for cost plus part of shipping, but geez, 2 years expired!!!  I'm hoping to find local San Diego area shoppe that carries pods so that I can try something different than starbucks.\n",
      "==================================================\n",
      "Great ingredients although, chicken should have been 1st rather than chicken broth, the only thing I do not think belongs in it is Canola oil. Canola or rapeseed is not someting a dog would ever find in nature and if it did find rapeseed in nature and eat it, it would poison them. Today's Food industries have convinced the masses that Canola oil is a safe and even better oil than olive or virgin coconut, facts though say otherwise. Until the late 70's it was poisonous until they figured out a way to fix that. I still like it but it could be better.\n",
      "==================================================\n",
      "Can't do sugar.  Have tried scores of SF Syrups.  NONE of them can touch the excellence of this product.Thick, delicious.  Perfect.  3 ingredients: Water, Maltitol, Natural Maple Flavor.  PERIOD.  No chemicals.  No garbage.Have numerous friends & family members hooked on this stuff.  My husband & son, who do NOT like \"sugar free\" prefer this over major label regular syrup.I use this as my SWEETENER in baking: cheesecakes, white brownies, muffins, pumpkin pies, etc... Unbelievably delicious...Can you tell I like it? :)\n"
     ]
    }
   ],
   "source": [
    "# https://stackoverflow.com/questions/16206380/python-beautifulsoup-how-to-remove-all-tags-from-an-element\n",
    "from bs4 import BeautifulSoup\n",
    "\n",
    "soup = BeautifulSoup(sent_0, 'lxml')\n",
    "text = soup.get_text()\n",
    "print(text)\n",
    "print(\"=\"*50)\n",
    "\n",
    "soup = BeautifulSoup(sent_1000, 'lxml')\n",
    "text = soup.get_text()\n",
    "print(text)\n",
    "print(\"=\"*50)\n",
    "\n",
    "soup = BeautifulSoup(sent_1500, 'lxml')\n",
    "text = soup.get_text()\n",
    "print(text)\n",
    "print(\"=\"*50)\n",
    "\n",
    "soup = BeautifulSoup(sent_4900, 'lxml')\n",
    "text = soup.get_text()\n",
    "print(text)"
   ]
  },
  {
   "cell_type": "code",
   "execution_count": 17,
   "metadata": {
    "colab": {},
    "colab_type": "code",
    "id": "HYBbtiCMJkkW"
   },
   "outputs": [],
   "source": [
    "# https://stackoverflow.com/a/47091490/4084039\n",
    "import re\n",
    "\n",
    "def decontracted(phrase):\n",
    "    # specific\n",
    "    phrase = re.sub(r\"won't\", \"will not\", phrase)\n",
    "    phrase = re.sub(r\"can\\'t\", \"can not\", phrase)\n",
    "\n",
    "    # general\n",
    "    phrase = re.sub(r\"n\\'t\", \" not\", phrase)\n",
    "    phrase = re.sub(r\"\\'re\", \" are\", phrase)\n",
    "    phrase = re.sub(r\"\\'s\", \" is\", phrase)\n",
    "    phrase = re.sub(r\"\\'d\", \" would\", phrase)\n",
    "    phrase = re.sub(r\"\\'ll\", \" will\", phrase)\n",
    "    phrase = re.sub(r\"\\'t\", \" not\", phrase)\n",
    "    phrase = re.sub(r\"\\'ve\", \" have\", phrase)\n",
    "    phrase = re.sub(r\"\\'m\", \" am\", phrase)\n",
    "    return phrase"
   ]
  },
  {
   "cell_type": "code",
   "execution_count": 18,
   "metadata": {
    "colab": {},
    "colab_type": "code",
    "id": "WPQSZurTJkkY",
    "outputId": "6d91fc9f-8f77-497c-95bb-96bfc9781196"
   },
   "outputs": [
    {
     "name": "stdout",
     "output_type": "stream",
     "text": [
      "Great ingredients although, chicken should have been 1st rather than chicken broth, the only thing I do not think belongs in it is Canola oil. Canola or rapeseed is not someting a dog would ever find in nature and if it did find rapeseed in nature and eat it, it would poison them. Today is Food industries have convinced the masses that Canola oil is a safe and even better oil than olive or virgin coconut, facts though say otherwise. Until the late 70 is it was poisonous until they figured out a way to fix that. I still like it but it could be better.\n",
      "==================================================\n"
     ]
    }
   ],
   "source": [
    "sent_1500 = decontracted(sent_1500)\n",
    "print(sent_1500)\n",
    "print(\"=\"*50)"
   ]
  },
  {
   "cell_type": "code",
   "execution_count": 19,
   "metadata": {
    "colab": {},
    "colab_type": "code",
    "id": "6bakeyaQJkkb",
    "outputId": "f7cf0096-0b7b-4ec1-84df-01e838621d62"
   },
   "outputs": [
    {
     "name": "stdout",
     "output_type": "stream",
     "text": [
      "this witty little book makes my son laugh at loud. i recite it in the car as we're driving along and he always can sing the refrain. he's learned about whales, India, drooping roses:  i love all the new words this book  introduces and the silliness of it all.  this is a classic book i am  willing to bet my son will STILL be able to recite from memory when he is  in college\n"
     ]
    }
   ],
   "source": [
    "#remove words with numbers python: https://stackoverflow.com/a/18082370/4084039\n",
    "sent_0 = re.sub(\"\\S*\\d\\S*\", \"\", sent_0).strip()\n",
    "print(sent_0)"
   ]
  },
  {
   "cell_type": "code",
   "execution_count": 20,
   "metadata": {
    "colab": {},
    "colab_type": "code",
    "id": "dMqqVqadJkkg",
    "outputId": "e4a6bd28-9d39-4dd2-9483-0406dd3dff50"
   },
   "outputs": [
    {
     "name": "stdout",
     "output_type": "stream",
     "text": [
      "Great ingredients although chicken should have been 1st rather than chicken broth the only thing I do not think belongs in it is Canola oil Canola or rapeseed is not someting a dog would ever find in nature and if it did find rapeseed in nature and eat it it would poison them Today is Food industries have convinced the masses that Canola oil is a safe and even better oil than olive or virgin coconut facts though say otherwise Until the late 70 is it was poisonous until they figured out a way to fix that I still like it but it could be better \n"
     ]
    }
   ],
   "source": [
    "#remove spacial character: https://stackoverflow.com/a/5843547/4084039\n",
    "sent_1500 = re.sub('[^A-Za-z0-9]+', ' ', sent_1500)\n",
    "print(sent_1500)"
   ]
  },
  {
   "cell_type": "code",
   "execution_count": 21,
   "metadata": {
    "colab": {},
    "colab_type": "code",
    "id": "bvEoXB5NJkkk"
   },
   "outputs": [],
   "source": [
    "# https://gist.github.com/sebleier/554280\n",
    "# we are removing the words from the stop words list: 'no', 'nor', 'not'\n",
    "# <br /><br /> ==> after the above steps, we are getting \"br br\"\n",
    "# we are including them into stop words list\n",
    "# instead of <br /> if we have <br/> these tags would have revmoved in the 1st step\n",
    "\n",
    "stopwords= set(['br', 'the', 'i', 'me', 'my', 'myself', 'we', 'our', 'ours', 'ourselves', 'you', \"you're\", \"you've\",\\\n",
    "            \"you'll\", \"you'd\", 'your', 'yours', 'yourself', 'yourselves', 'he', 'him', 'his', 'himself', \\\n",
    "            'she', \"she's\", 'her', 'hers', 'herself', 'it', \"it's\", 'its', 'itself', 'they', 'them', 'their',\\\n",
    "            'theirs', 'themselves', 'what', 'which', 'who', 'whom', 'this', 'that', \"that'll\", 'these', 'those', \\\n",
    "            'am', 'is', 'are', 'was', 'were', 'be', 'been', 'being', 'have', 'has', 'had', 'having', 'do', 'does', \\\n",
    "            'did', 'doing', 'a', 'an', 'the', 'and', 'but', 'if', 'or', 'because', 'as', 'until', 'while', 'of', \\\n",
    "            'at', 'by', 'for', 'with', 'about', 'against', 'between', 'into', 'through', 'during', 'before', 'after',\\\n",
    "            'above', 'below', 'to', 'from', 'up', 'down', 'in', 'out', 'on', 'off', 'over', 'under', 'again', 'further',\\\n",
    "            'then', 'once', 'here', 'there', 'when', 'where', 'why', 'how', 'all', 'any', 'both', 'each', 'few', 'more',\\\n",
    "            'most', 'other', 'some', 'such', 'only', 'own', 'same', 'so', 'than', 'too', 'very', \\\n",
    "            's', 't', 'can', 'will', 'just', 'don', \"don't\", 'should', \"should've\", 'now', 'd', 'll', 'm', 'o', 're', \\\n",
    "            've', 'y', 'ain', 'aren', \"aren't\", 'couldn', \"couldn't\", 'didn', \"didn't\", 'doesn', \"doesn't\", 'hadn',\\\n",
    "            \"hadn't\", 'hasn', \"hasn't\", 'haven', \"haven't\", 'isn', \"isn't\", 'ma', 'mightn', \"mightn't\", 'mustn',\\\n",
    "            \"mustn't\", 'needn', \"needn't\", 'shan', \"shan't\", 'shouldn', \"shouldn't\", 'wasn', \"wasn't\", 'weren', \"weren't\", \\\n",
    "            'won', \"won't\", 'wouldn', \"wouldn't\"])"
   ]
  },
  {
   "cell_type": "code",
   "execution_count": 22,
   "metadata": {
    "colab": {},
    "colab_type": "code",
    "id": "0j3jfqWCJkko",
    "outputId": "c83c59c5-fe17-4ad2-d43f-0b0947a6e6ba"
   },
   "outputs": [
    {
     "name": "stderr",
     "output_type": "stream",
     "text": [
      "100%|████████████████████████████████████████████████████████████████████████| 364171/364171 [03:30<00:00, 1730.08it/s]\n"
     ]
    }
   ],
   "source": [
    "# Combining all the above stundents \n",
    "from tqdm import tqdm\n",
    "preprocessed_reviews = []\n",
    "# tqdm is for printing the status bar\n",
    "for sentance in tqdm(final['Text'].values):\n",
    "    sentance = re.sub(r\"http\\S+\", \"\", sentance)\n",
    "    sentance = BeautifulSoup(sentance, 'lxml').get_text()\n",
    "    sentance = decontracted(sentance)\n",
    "    sentance = re.sub(\"\\S*\\d\\S*\", \"\", sentance).strip()\n",
    "    sentance = re.sub('[^A-Za-z]+', ' ', sentance)\n",
    "    # https://gist.github.com/sebleier/554280\n",
    "    sentance = ' '.join(e.lower() for e in sentance.split() if e.lower() not in stopwords)\n",
    "    preprocessed_reviews.append(sentance.strip())"
   ]
  },
  {
   "cell_type": "code",
   "execution_count": 23,
   "metadata": {
    "colab": {},
    "colab_type": "code",
    "id": "nS_7EeV7Jkkr",
    "outputId": "4d4cd05e-0730-4e52-dc30-eb97014871dd"
   },
   "outputs": [
    {
     "data": {
      "text/plain": [
       "'great ingredients although chicken rather chicken broth thing not think belongs canola oil canola rapeseed not someting dog would ever find nature find rapeseed nature eat would poison today food industries convinced masses canola oil safe even better oil olive virgin coconut facts though say otherwise late poisonous figured way fix still like could better'"
      ]
     },
     "execution_count": 23,
     "metadata": {},
     "output_type": "execute_result"
    }
   ],
   "source": [
    "preprocessed_reviews[1500]"
   ]
  },
  {
   "cell_type": "markdown",
   "metadata": {
    "colab_type": "text",
    "id": "zak5yP5zJkkt"
   },
   "source": [
    "<h2><font color='red'>[3.2] Preprocessing Review Summary</font></h2>"
   ]
  },
  {
   "cell_type": "code",
   "execution_count": 24,
   "metadata": {
    "colab": {},
    "colab_type": "code",
    "id": "wZ3Epk1wJkku"
   },
   "outputs": [
    {
     "name": "stdout",
     "output_type": "stream",
     "text": [
      "EVERY book is educational\n",
      "Would be best if Canola Oil was left out\n"
     ]
    }
   ],
   "source": [
    "## Similarly doing preprocessing for reviews summary\n",
    "\n",
    "#printing some random values of summary\n",
    "\n",
    "summ_0 = final[\"Summary\"].values[0]\n",
    "print(summ_0)\n",
    "\n",
    "summ_1500 = final[\"Summary\"].values[1500]\n",
    "print(summ_1500)"
   ]
  },
  {
   "cell_type": "code",
   "execution_count": 26,
   "metadata": {},
   "outputs": [
    {
     "name": "stderr",
     "output_type": "stream",
     "text": [
      "100%|████████████████████████████████████████████████████████████████████████| 364171/364171 [02:07<00:00, 2867.07it/s]\n"
     ]
    }
   ],
   "source": [
    "#removing urls\n",
    "#removing all html tags\n",
    "#contracting words \n",
    "#removing words with number\n",
    "#removing words with special character\n",
    "%matplotlib inline\n",
    "import warnings\n",
    "warnings.filterwarnings(\"ignore\")\n",
    "preprocessed_reviews_summary = []\n",
    "\n",
    "from tqdm import tqdm\n",
    "for summary in tqdm(final[\"Summary\"].values):\n",
    "    summary = re.sub(r\"http\\S+\", \"\" ,summary)\n",
    "    summary = BeautifulSoup(summary,\"lxml\").get_text()\n",
    "    summary = decontracted(summary)\n",
    "    summary = re.sub(\"\\S*\\d\\S*\", \"\", summary).strip()\n",
    "    summary = re.sub('[^A-Za-z]+', ' ', summary)\n",
    "    summary = ' '.join(e.lower() for e in summary.split() if e.lower() not in stopwords)\n",
    "    preprocessed_reviews_summary.append(summary.strip())\n",
    "    "
   ]
  },
  {
   "cell_type": "markdown",
   "metadata": {
    "colab_type": "text",
    "id": "ZFN0k_hEJklb"
   },
   "source": [
    "# [5] Naive Bayes"
   ]
  },
  {
   "cell_type": "markdown",
   "metadata": {
    "colab_type": "text",
    "id": "O1ABSoejJklc"
   },
   "source": [
    "<ol>\n",
    "    <li><strong>Apply Multinomial NaiveBayes on these feature sets</strong>\n",
    "        <ul>\n",
    "            <li><font color='red'>SET 1:</font>Review text, preprocessed one converted into vectors using (BOW)</li>\n",
    "            <li><font color='red'>SET 2:</font>Review text, preprocessed one converted into vectors using (TFIDF)</li>\n",
    "        </ul>\n",
    "    </li>\n",
    "    <br>\n",
    "    <li><strong>The hyper paramter tuning(find best Alpha)</strong>\n",
    "        <ul>\n",
    "    <li>Find the best hyper parameter which will give the maximum <a href='https://www.appliedaicourse.com/course/applied-ai-course-online/lessons/receiver-operating-characteristic-curve-roc-curve-and-auc-1/'>AUC</a> value</li>\n",
    "    <li>Consider a wide range of alpha values for hyperparameter tuning, start as low as 0.00001</li>\n",
    "    <li>Find the best hyper paramter using k-fold cross validation or simple cross validation data</li>\n",
    "    <li>Use gridsearch cv or randomsearch cv or you can also write your own for loops to do this task of hyperparameter tuning</li>\n",
    "        </ul>\n",
    "    </li>\n",
    "    <br>\n",
    "    <li><strong>Feature importance</strong>\n",
    "        <ul>\n",
    "    <li>Find the top 10 features of positive class and top 10 features of negative class for both feature sets <font color='red'>Set 1</font> and <font color='red'>Set 2</font> using values of `feature_log_prob_` parameter of  <a href='https://scikit-learn.org/stable/modules/generated/sklearn.naive_bayes.MultinomialNB.html'>MultinomialNB</a> and print their corresponding feature names</li>\n",
    "        </ul>\n",
    "    </li>\n",
    "    <br>\n",
    "    <li><strong>Feature engineering</strong>\n",
    "        <ul>\n",
    "    <li>To increase the performance of your model, you can also experiment with with feature engineering like :</li>\n",
    "            <ul>\n",
    "            <li>Taking length of reviews as another feature.</li>\n",
    "            <li>Considering some features from review summary as well.</li>\n",
    "        </ul>\n",
    "        </ul>\n",
    "    </li>\n",
    "    <br>\n",
    "    <li><strong>Representation of results</strong>\n",
    "        <ul>\n",
    "    <li>You need to plot the performance of model both on train data and cross validation data for each hyper parameter, like shown in the figure. Here on X-axis you will have alpha values, since they have a wide range, just to represent those alpha values on the graph, apply log function on those alpha values.\n",
    "    <img src='train_cv_auc.JPG' width=300px></li>\n",
    "    <li>Once after you found the best hyper parameter, you need to train your model with it, and find the AUC on test data and plot the ROC curve on both train and test.\n",
    "    <img src='train_test_auc.JPG' width=300px></li>\n",
    "    <li>Along with plotting ROC curve, you need to print the <a href='https://www.appliedaicourse.com/course/applied-ai-course-online/lessons/confusion-matrix-tpr-fpr-fnr-tnr-1/'>confusion matrix</a> with predicted and original labels of test data points. Please visualize your confusion matrices using <a href='https://seaborn.pydata.org/generated/seaborn.heatmap.html'>seaborn heatmaps.\n",
    "    <img src='confusion_matrix.png' width=300px></li>\n",
    "        </ul>\n",
    "    </li>\n",
    "    <br>\n",
    "    <li><strong>Conclusion</strong>\n",
    "        <ul>\n",
    "    <li>You need to summarize the results at the end of the notebook, summarize it in the table format. To print out a table please refer to this prettytable library<a href='http://zetcode.com/python/prettytable/'>  link</a> \n",
    "        <img src='summary.JPG' width=400px>\n",
    "    </li>\n",
    "        </ul>\n",
    "</ol>"
   ]
  },
  {
   "cell_type": "markdown",
   "metadata": {
    "colab_type": "text",
    "id": "YawkDx8TJklc"
   },
   "source": [
    "<h4><font color='red'>Note: Data Leakage</font></h4>\n",
    "\n",
    "1. There will be an issue of data-leakage if you vectorize the entire data and then split it into train/cv/test.\n",
    "2. To avoid the issue of data-leakag, make sure to split your data first and then vectorize it. \n",
    "3. While vectorizing your data, apply the method fit_transform() on you train data, and apply the method transform() on cv/test data.\n",
    "4. For more details please go through this <a href='https://soundcloud.com/applied-ai-course/leakage-bow-and-tfidf'>link.</a>"
   ]
  },
  {
   "cell_type": "markdown",
   "metadata": {
    "colab_type": "text",
    "id": "RGRFxjhgJklc"
   },
   "source": [
    "# Applying Multinomial Naive Bayes"
   ]
  },
  {
   "cell_type": "code",
   "execution_count": 73,
   "metadata": {},
   "outputs": [],
   "source": [
    "#importing important modules\n",
    "%matplotlib inline\n",
    "import warnings\n",
    "warnings.filterwarnings(\"ignore\")\n",
    "\n",
    "\n",
    "from sklearn import model_selection\n",
    "from sklearn.model_selection import train_test_split\n",
    "from sklearn.metrics import accuracy_score\n",
    "from sklearn.model_selection import cross_val_score\n",
    "from sklearn.neighbors import KNeighborsClassifier\n",
    "from sklearn.model_selection import GridSearchCV\n",
    "from sklearn.metrics import roc_curve\n",
    "from sklearn.metrics import auc\n",
    "from sklearn.naive_bayes import MultinomialNB\n",
    "from sklearn import neighbors\n",
    "from sklearn.model_selection import TimeSeriesSplit\n",
    "from sklearn.metrics import confusion_matrix\n",
    "from sklearn.metrics import roc_auc_score\n",
    "from sklearn.naive_bayes import MultinomialNB\n",
    "from sklearn.metrics import accuracy_score\n",
    "from sklearn.metrics import precision_score\n",
    "from sklearn.metrics import f1_score\n",
    "from sklearn.metrics import recall_score\n"
   ]
  },
  {
   "cell_type": "code",
   "execution_count": 34,
   "metadata": {},
   "outputs": [
    {
     "name": "stdout",
     "output_type": "stream",
     "text": [
      "(364171, 10)\n",
      "*************************************************\n",
      "(364171, 11)\n",
      "*************************************************************************************\n",
      "(364171, 11)\n"
     ]
    },
    {
     "data": {
      "text/html": [
       "<div>\n",
       "<style scoped>\n",
       "    .dataframe tbody tr th:only-of-type {\n",
       "        vertical-align: middle;\n",
       "    }\n",
       "\n",
       "    .dataframe tbody tr th {\n",
       "        vertical-align: top;\n",
       "    }\n",
       "\n",
       "    .dataframe thead th {\n",
       "        text-align: right;\n",
       "    }\n",
       "</style>\n",
       "<table border=\"1\" class=\"dataframe\">\n",
       "  <thead>\n",
       "    <tr style=\"text-align: right;\">\n",
       "      <th></th>\n",
       "      <th>Id</th>\n",
       "      <th>ProductId</th>\n",
       "      <th>UserId</th>\n",
       "      <th>ProfileName</th>\n",
       "      <th>HelpfulnessNumerator</th>\n",
       "      <th>HelpfulnessDenominator</th>\n",
       "      <th>Score</th>\n",
       "      <th>Time</th>\n",
       "      <th>Summary</th>\n",
       "      <th>Text</th>\n",
       "      <th>cleaned_text</th>\n",
       "    </tr>\n",
       "  </thead>\n",
       "  <tbody>\n",
       "    <tr>\n",
       "      <td>138706</td>\n",
       "      <td>150524</td>\n",
       "      <td>0006641040</td>\n",
       "      <td>ACITT7DI6IDDL</td>\n",
       "      <td>shari zychinski</td>\n",
       "      <td>0</td>\n",
       "      <td>0</td>\n",
       "      <td>1</td>\n",
       "      <td>939340800</td>\n",
       "      <td>EVERY book is educational</td>\n",
       "      <td>this witty little book makes my son laugh at l...</td>\n",
       "      <td>witty little book makes son laugh loud recite ...</td>\n",
       "    </tr>\n",
       "    <tr>\n",
       "      <td>138688</td>\n",
       "      <td>150506</td>\n",
       "      <td>0006641040</td>\n",
       "      <td>A2IW4PEEKO2R0U</td>\n",
       "      <td>Tracy</td>\n",
       "      <td>1</td>\n",
       "      <td>1</td>\n",
       "      <td>1</td>\n",
       "      <td>1194739200</td>\n",
       "      <td>Love the book, miss the hard cover version</td>\n",
       "      <td>I grew up reading these Sendak books, and watc...</td>\n",
       "      <td>grew reading sendak books watching really rosi...</td>\n",
       "    </tr>\n",
       "    <tr>\n",
       "      <td>138689</td>\n",
       "      <td>150507</td>\n",
       "      <td>0006641040</td>\n",
       "      <td>A1S4A3IQ2MU7V4</td>\n",
       "      <td>sally sue \"sally sue\"</td>\n",
       "      <td>1</td>\n",
       "      <td>1</td>\n",
       "      <td>1</td>\n",
       "      <td>1191456000</td>\n",
       "      <td>chicken soup with rice months</td>\n",
       "      <td>This is a fun way for children to learn their ...</td>\n",
       "      <td>fun way children learn months year learn poems...</td>\n",
       "    </tr>\n",
       "    <tr>\n",
       "      <td>138690</td>\n",
       "      <td>150508</td>\n",
       "      <td>0006641040</td>\n",
       "      <td>AZGXZ2UUK6X</td>\n",
       "      <td>Catherine Hallberg \"(Kate)\"</td>\n",
       "      <td>1</td>\n",
       "      <td>1</td>\n",
       "      <td>1</td>\n",
       "      <td>1076025600</td>\n",
       "      <td>a good swingy rhythm for reading aloud</td>\n",
       "      <td>This is a great little book to read aloud- it ...</td>\n",
       "      <td>great little book read aloud nice rhythm well ...</td>\n",
       "    </tr>\n",
       "    <tr>\n",
       "      <td>138691</td>\n",
       "      <td>150509</td>\n",
       "      <td>0006641040</td>\n",
       "      <td>A3CMRKGE0P909G</td>\n",
       "      <td>Teresa</td>\n",
       "      <td>3</td>\n",
       "      <td>4</td>\n",
       "      <td>1</td>\n",
       "      <td>1018396800</td>\n",
       "      <td>A great way to learn the months</td>\n",
       "      <td>This is a book of poetry about the months of t...</td>\n",
       "      <td>book poetry months year goes month cute little...</td>\n",
       "    </tr>\n",
       "  </tbody>\n",
       "</table>\n",
       "</div>"
      ],
      "text/plain": [
       "            Id   ProductId          UserId                  ProfileName  \\\n",
       "138706  150524  0006641040   ACITT7DI6IDDL              shari zychinski   \n",
       "138688  150506  0006641040  A2IW4PEEKO2R0U                        Tracy   \n",
       "138689  150507  0006641040  A1S4A3IQ2MU7V4        sally sue \"sally sue\"   \n",
       "138690  150508  0006641040     AZGXZ2UUK6X  Catherine Hallberg \"(Kate)\"   \n",
       "138691  150509  0006641040  A3CMRKGE0P909G                       Teresa   \n",
       "\n",
       "        HelpfulnessNumerator  HelpfulnessDenominator  Score        Time  \\\n",
       "138706                     0                       0      1   939340800   \n",
       "138688                     1                       1      1  1194739200   \n",
       "138689                     1                       1      1  1191456000   \n",
       "138690                     1                       1      1  1076025600   \n",
       "138691                     3                       4      1  1018396800   \n",
       "\n",
       "                                           Summary  \\\n",
       "138706                   EVERY book is educational   \n",
       "138688  Love the book, miss the hard cover version   \n",
       "138689               chicken soup with rice months   \n",
       "138690      a good swingy rhythm for reading aloud   \n",
       "138691             A great way to learn the months   \n",
       "\n",
       "                                                     Text  \\\n",
       "138706  this witty little book makes my son laugh at l...   \n",
       "138688  I grew up reading these Sendak books, and watc...   \n",
       "138689  This is a fun way for children to learn their ...   \n",
       "138690  This is a great little book to read aloud- it ...   \n",
       "138691  This is a book of poetry about the months of t...   \n",
       "\n",
       "                                             cleaned_text  \n",
       "138706  witty little book makes son laugh loud recite ...  \n",
       "138688  grew reading sendak books watching really rosi...  \n",
       "138689  fun way children learn months year learn poems...  \n",
       "138690  great little book read aloud nice rhythm well ...  \n",
       "138691  book poetry months year goes month cute little...  "
      ]
     },
     "execution_count": 34,
     "metadata": {},
     "output_type": "execute_result"
    }
   ],
   "source": [
    "print(final.shape)\n",
    "print(\"*************************************************\")\n",
    "\n",
    "##adding cleaned_text column to the final dataframe\n",
    "final[\"cleaned_text\"] = preprocessed_reviews\n",
    "\n",
    "print(final.shape)\n",
    "print(\"*************************************************************************************\")\n",
    "\n",
    "#checking if any missing values is present in the reviews.\n",
    "final = final.dropna(axis=0, how='any', thresh=None, subset=None, inplace=False)\n",
    "\n",
    "print(final.shape)\n",
    "\n",
    "final.head()\n"
   ]
  },
  {
   "cell_type": "markdown",
   "metadata": {},
   "source": [
    "#### OBSERVATION:\n",
    "1. No missing values are found in the given data.<br>\n",
    " "
   ]
  },
  {
   "cell_type": "code",
   "execution_count": 35,
   "metadata": {},
   "outputs": [
    {
     "data": {
      "text/plain": [
       "1    307061\n",
       "0     57110\n",
       "Name: Score, dtype: int64"
      ]
     },
     "execution_count": 35,
     "metadata": {},
     "output_type": "execute_result"
    }
   ],
   "source": [
    "final[\"Score\"].value_counts()"
   ]
  },
  {
   "cell_type": "markdown",
   "metadata": {},
   "source": [
    "#### OBSERVATION:\n",
    "The dataset consists of 307061 positive reviews and 57110 negative reviews."
   ]
  },
  {
   "cell_type": "code",
   "execution_count": 36,
   "metadata": {},
   "outputs": [
    {
     "name": "stdout",
     "output_type": "stream",
     "text": [
      "(100000, 11)\n"
     ]
    },
    {
     "data": {
      "text/html": [
       "<div>\n",
       "<style scoped>\n",
       "    .dataframe tbody tr th:only-of-type {\n",
       "        vertical-align: middle;\n",
       "    }\n",
       "\n",
       "    .dataframe tbody tr th {\n",
       "        vertical-align: top;\n",
       "    }\n",
       "\n",
       "    .dataframe thead th {\n",
       "        text-align: right;\n",
       "    }\n",
       "</style>\n",
       "<table border=\"1\" class=\"dataframe\">\n",
       "  <thead>\n",
       "    <tr style=\"text-align: right;\">\n",
       "      <th></th>\n",
       "      <th>Id</th>\n",
       "      <th>ProductId</th>\n",
       "      <th>UserId</th>\n",
       "      <th>ProfileName</th>\n",
       "      <th>HelpfulnessNumerator</th>\n",
       "      <th>HelpfulnessDenominator</th>\n",
       "      <th>Score</th>\n",
       "      <th>Time</th>\n",
       "      <th>Summary</th>\n",
       "      <th>Text</th>\n",
       "      <th>cleaned_text</th>\n",
       "    </tr>\n",
       "  </thead>\n",
       "  <tbody>\n",
       "    <tr>\n",
       "      <td>250943</td>\n",
       "      <td>272078</td>\n",
       "      <td>B005CMA4OI</td>\n",
       "      <td>A1EBARYXAWXPOG</td>\n",
       "      <td>HarshAve</td>\n",
       "      <td>0</td>\n",
       "      <td>0</td>\n",
       "      <td>1</td>\n",
       "      <td>1330473600</td>\n",
       "      <td>You're The Best A-ROOOOOOOOOUND</td>\n",
       "      <td>This is my sauce.  I claim it.  You all stick ...</td>\n",
       "      <td>sauce claim stick tabascos franks whatever els...</td>\n",
       "    </tr>\n",
       "    <tr>\n",
       "      <td>473654</td>\n",
       "      <td>512245</td>\n",
       "      <td>B0029K3EJS</td>\n",
       "      <td>A2IMHO3P54QFYJ</td>\n",
       "      <td>Tammy L. Tappan</td>\n",
       "      <td>1</td>\n",
       "      <td>1</td>\n",
       "      <td>1</td>\n",
       "      <td>1279756800</td>\n",
       "      <td>Perfect Pumpkin for Cooking</td>\n",
       "      <td>The stores were out of canned pumpkin, &amp; I lov...</td>\n",
       "      <td>stores canned pumpkin love make pumpkin spice ...</td>\n",
       "    </tr>\n",
       "    <tr>\n",
       "      <td>106259</td>\n",
       "      <td>115361</td>\n",
       "      <td>B000F4F952</td>\n",
       "      <td>A15N5VDROBEZ50</td>\n",
       "      <td>S. Robinson</td>\n",
       "      <td>0</td>\n",
       "      <td>0</td>\n",
       "      <td>1</td>\n",
       "      <td>1186876800</td>\n",
       "      <td>Top tea - Bottom price.</td>\n",
       "      <td>My wife is Australian and loves her tea.  She ...</td>\n",
       "      <td>wife australian loves tea practically drank tw...</td>\n",
       "    </tr>\n",
       "    <tr>\n",
       "      <td>88770</td>\n",
       "      <td>96614</td>\n",
       "      <td>B001ELL4FY</td>\n",
       "      <td>A31D9IPL1YB8OM</td>\n",
       "      <td>NY Teacher \"NY Teacher\"</td>\n",
       "      <td>1</td>\n",
       "      <td>1</td>\n",
       "      <td>1</td>\n",
       "      <td>1332201600</td>\n",
       "      <td>Tully's Rocks My Mornings</td>\n",
       "      <td>I don't know what we did wrong here in NY that...</td>\n",
       "      <td>not know wrong ny got starbucks seattle kept t...</td>\n",
       "    </tr>\n",
       "    <tr>\n",
       "      <td>285841</td>\n",
       "      <td>309647</td>\n",
       "      <td>B000NMFXSY</td>\n",
       "      <td>A1URABY52WR0U6</td>\n",
       "      <td>D. Kokowski</td>\n",
       "      <td>1</td>\n",
       "      <td>1</td>\n",
       "      <td>1</td>\n",
       "      <td>1285804800</td>\n",
       "      <td>It's All Good!</td>\n",
       "      <td>I ordered this from AmericaRX and it was excel...</td>\n",
       "      <td>ordered americarx excellent swift delivery min...</td>\n",
       "    </tr>\n",
       "  </tbody>\n",
       "</table>\n",
       "</div>"
      ],
      "text/plain": [
       "            Id   ProductId          UserId              ProfileName  \\\n",
       "250943  272078  B005CMA4OI  A1EBARYXAWXPOG                 HarshAve   \n",
       "473654  512245  B0029K3EJS  A2IMHO3P54QFYJ          Tammy L. Tappan   \n",
       "106259  115361  B000F4F952  A15N5VDROBEZ50              S. Robinson   \n",
       "88770    96614  B001ELL4FY  A31D9IPL1YB8OM  NY Teacher \"NY Teacher\"   \n",
       "285841  309647  B000NMFXSY  A1URABY52WR0U6              D. Kokowski   \n",
       "\n",
       "        HelpfulnessNumerator  HelpfulnessDenominator  Score        Time  \\\n",
       "250943                     0                       0      1  1330473600   \n",
       "473654                     1                       1      1  1279756800   \n",
       "106259                     0                       0      1  1186876800   \n",
       "88770                      1                       1      1  1332201600   \n",
       "285841                     1                       1      1  1285804800   \n",
       "\n",
       "                                Summary  \\\n",
       "250943  You're The Best A-ROOOOOOOOOUND   \n",
       "473654      Perfect Pumpkin for Cooking   \n",
       "106259          Top tea - Bottom price.   \n",
       "88770         Tully's Rocks My Mornings   \n",
       "285841                   It's All Good!   \n",
       "\n",
       "                                                     Text  \\\n",
       "250943  This is my sauce.  I claim it.  You all stick ...   \n",
       "473654  The stores were out of canned pumpkin, & I lov...   \n",
       "106259  My wife is Australian and loves her tea.  She ...   \n",
       "88770   I don't know what we did wrong here in NY that...   \n",
       "285841  I ordered this from AmericaRX and it was excel...   \n",
       "\n",
       "                                             cleaned_text  \n",
       "250943  sauce claim stick tabascos franks whatever els...  \n",
       "473654  stores canned pumpkin love make pumpkin spice ...  \n",
       "106259  wife australian loves tea practically drank tw...  \n",
       "88770   not know wrong ny got starbucks seattle kept t...  \n",
       "285841  ordered americarx excellent swift delivery min...  "
      ]
     },
     "execution_count": 36,
     "metadata": {},
     "output_type": "execute_result"
    }
   ],
   "source": [
    "#Randomly taking 50000 points from each positive and negative reviews due to less memory capacity\n",
    "data_pos = final[final[\"Score\"] ==1.0].sample(n = 50000)\n",
    "data_neg = final[final[\"Score\"] ==0.0].sample(n = 50000)\n",
    "\n",
    "\n",
    "#concatenating the positive and negative reviews data \n",
    "final_cleaned_data = pd.concat([data_pos,data_neg],axis=0)\n",
    "\n",
    "print(final_cleaned_data.shape)\n",
    "final_cleaned_data.head()"
   ]
  },
  {
   "cell_type": "markdown",
   "metadata": {},
   "source": [
    "The Amazon food fine reviews dataset include products having reviews at different time/year, considering time as feature.<br> So, sorting the dataset by time for increasing model performance."
   ]
  },
  {
   "cell_type": "markdown",
   "metadata": {},
   "source": [
    "#### Note:\n",
    "Time based splitting of the reviews."
   ]
  },
  {
   "cell_type": "code",
   "execution_count": 37,
   "metadata": {},
   "outputs": [
    {
     "data": {
      "text/html": [
       "<div>\n",
       "<style scoped>\n",
       "    .dataframe tbody tr th:only-of-type {\n",
       "        vertical-align: middle;\n",
       "    }\n",
       "\n",
       "    .dataframe tbody tr th {\n",
       "        vertical-align: top;\n",
       "    }\n",
       "\n",
       "    .dataframe thead th {\n",
       "        text-align: right;\n",
       "    }\n",
       "</style>\n",
       "<table border=\"1\" class=\"dataframe\">\n",
       "  <thead>\n",
       "    <tr style=\"text-align: right;\">\n",
       "      <th></th>\n",
       "      <th>Id</th>\n",
       "      <th>ProductId</th>\n",
       "      <th>UserId</th>\n",
       "      <th>ProfileName</th>\n",
       "      <th>HelpfulnessNumerator</th>\n",
       "      <th>HelpfulnessDenominator</th>\n",
       "      <th>Score</th>\n",
       "      <th>Time</th>\n",
       "      <th>Summary</th>\n",
       "      <th>Text</th>\n",
       "      <th>cleaned_text</th>\n",
       "    </tr>\n",
       "  </thead>\n",
       "  <tbody>\n",
       "    <tr>\n",
       "      <td>417838</td>\n",
       "      <td>451855</td>\n",
       "      <td>B00004CXX9</td>\n",
       "      <td>AJH6LUC1UT1ON</td>\n",
       "      <td>The Phantom of the Opera</td>\n",
       "      <td>0</td>\n",
       "      <td>0</td>\n",
       "      <td>1</td>\n",
       "      <td>2000-01-03</td>\n",
       "      <td>FANTASTIC!</td>\n",
       "      <td>Beetlejuice is an excellent and funny movie. K...</td>\n",
       "      <td>beetlejuice excellent funny movie keaton hilar...</td>\n",
       "    </tr>\n",
       "    <tr>\n",
       "      <td>346041</td>\n",
       "      <td>374343</td>\n",
       "      <td>B00004CI84</td>\n",
       "      <td>A1B2IZU1JLZA6</td>\n",
       "      <td>Wes</td>\n",
       "      <td>19</td>\n",
       "      <td>23</td>\n",
       "      <td>0</td>\n",
       "      <td>2000-01-19</td>\n",
       "      <td>WARNING: CLAMSHELL EDITION IS EDITED TV VERSION</td>\n",
       "      <td>I, myself always enjoyed this movie, it's very...</td>\n",
       "      <td>always enjoyed movie funny entertaining not he...</td>\n",
       "    </tr>\n",
       "    <tr>\n",
       "      <td>346141</td>\n",
       "      <td>374450</td>\n",
       "      <td>B00004CI84</td>\n",
       "      <td>ACJR7EQF9S6FP</td>\n",
       "      <td>Jeremy Robertson</td>\n",
       "      <td>2</td>\n",
       "      <td>3</td>\n",
       "      <td>1</td>\n",
       "      <td>2000-02-26</td>\n",
       "      <td>Bettlejuice...Bettlejuice...BETTLEJUICE!</td>\n",
       "      <td>What happens when you say his name three times...</td>\n",
       "      <td>happens say name three times michael keaten st...</td>\n",
       "    </tr>\n",
       "    <tr>\n",
       "      <td>121041</td>\n",
       "      <td>131217</td>\n",
       "      <td>B00004RAMX</td>\n",
       "      <td>A5NQLNC6QPGSI</td>\n",
       "      <td>Kim Nason</td>\n",
       "      <td>7</td>\n",
       "      <td>8</td>\n",
       "      <td>1</td>\n",
       "      <td>2000-07-31</td>\n",
       "      <td>End your Gopher Problems</td>\n",
       "      <td>I have just recently purchased the Woodstream ...</td>\n",
       "      <td>recently purchased woodstream corp gopher trap...</td>\n",
       "    </tr>\n",
       "    <tr>\n",
       "      <td>346102</td>\n",
       "      <td>374408</td>\n",
       "      <td>B00004CI84</td>\n",
       "      <td>A1GB1Q193DNFGR</td>\n",
       "      <td>Bruce Lee Pullen</td>\n",
       "      <td>5</td>\n",
       "      <td>5</td>\n",
       "      <td>1</td>\n",
       "      <td>2000-10-03</td>\n",
       "      <td>Fabulous Comedic Fanasy Directed by a Master</td>\n",
       "      <td>Beetlejuice is an awe-inspiring wonderfully am...</td>\n",
       "      <td>beetlejuice awe inspiring wonderfully amusing ...</td>\n",
       "    </tr>\n",
       "  </tbody>\n",
       "</table>\n",
       "</div>"
      ],
      "text/plain": [
       "            Id   ProductId          UserId               ProfileName  \\\n",
       "417838  451855  B00004CXX9   AJH6LUC1UT1ON  The Phantom of the Opera   \n",
       "346041  374343  B00004CI84   A1B2IZU1JLZA6                       Wes   \n",
       "346141  374450  B00004CI84   ACJR7EQF9S6FP          Jeremy Robertson   \n",
       "121041  131217  B00004RAMX   A5NQLNC6QPGSI                 Kim Nason   \n",
       "346102  374408  B00004CI84  A1GB1Q193DNFGR          Bruce Lee Pullen   \n",
       "\n",
       "        HelpfulnessNumerator  HelpfulnessDenominator  Score       Time  \\\n",
       "417838                     0                       0      1 2000-01-03   \n",
       "346041                    19                      23      0 2000-01-19   \n",
       "346141                     2                       3      1 2000-02-26   \n",
       "121041                     7                       8      1 2000-07-31   \n",
       "346102                     5                       5      1 2000-10-03   \n",
       "\n",
       "                                                Summary  \\\n",
       "417838                                       FANTASTIC!   \n",
       "346041  WARNING: CLAMSHELL EDITION IS EDITED TV VERSION   \n",
       "346141         Bettlejuice...Bettlejuice...BETTLEJUICE!   \n",
       "121041                         End your Gopher Problems   \n",
       "346102     Fabulous Comedic Fanasy Directed by a Master   \n",
       "\n",
       "                                                     Text  \\\n",
       "417838  Beetlejuice is an excellent and funny movie. K...   \n",
       "346041  I, myself always enjoyed this movie, it's very...   \n",
       "346141  What happens when you say his name three times...   \n",
       "121041  I have just recently purchased the Woodstream ...   \n",
       "346102  Beetlejuice is an awe-inspiring wonderfully am...   \n",
       "\n",
       "                                             cleaned_text  \n",
       "417838  beetlejuice excellent funny movie keaton hilar...  \n",
       "346041  always enjoyed movie funny entertaining not he...  \n",
       "346141  happens say name three times michael keaten st...  \n",
       "121041  recently purchased woodstream corp gopher trap...  \n",
       "346102  beetlejuice awe inspiring wonderfully amusing ...  "
      ]
     },
     "execution_count": 37,
     "metadata": {},
     "output_type": "execute_result"
    }
   ],
   "source": [
    "#time based splitting of the data\n",
    "#converting time to date and time\n",
    "final_cleaned_data[\"Time\"] = pd.to_datetime(final_cleaned_data[\"Time\"],unit=\"s\")\n",
    "final_cleaned_data = final_cleaned_data.sort_values(by = \"Time\")\n",
    "final_cleaned_data.head()"
   ]
  },
  {
   "cell_type": "markdown",
   "metadata": {},
   "source": [
    "##  Applying Naive Bayes on BOW"
   ]
  },
  {
   "cell_type": "markdown",
   "metadata": {},
   "source": [
    "### Hyperparameter Tuning:<font color=\"red\"> CROSS VALIDATION"
   ]
  },
  {
   "attachments": {
    "image.png": {
     "image/png": "[encoded data removed]"
    }
   },
   "cell_type": "markdown",
   "metadata": {},
   "source": [
    "The amazon food fine reviews is a time series data. Considering the variations in future data, we should find hyperparameter in such a way that the performance of model would not get affected much by different reviews.<br>\n",
    "#### NOTE:\n",
    "For above purpose we will do time series split of data and find the hyperparameter using nested crossvalidation: Day-Forward Chaining method.\n",
    "![image.png](attachment:image.png)\n",
    "https://towardsdatascience.com/time-series-nested-cross-validation-76adba623eb9"
   ]
  },
  {
   "cell_type": "code",
   "execution_count": 39,
   "metadata": {},
   "outputs": [
    {
     "name": "stdout",
     "output_type": "stream",
     "text": [
      "(25000, 1)\n",
      "(25000, 1)\n",
      "(25000, 1)\n",
      "(25000, 1)\n",
      "***********************************************************\n",
      "(17500, 1)\n",
      "(7500, 1)\n",
      "(17500, 1)\n",
      "(7500, 1)\n",
      "************************************************************\n",
      "[[0.9855078631853974, 0.9845899832063092, 0.9825485020048105, 0.9773768662542429, 0.9654224455350839, 0.9399718499089859, 0.8778370034466088, 0.8349692100533949, 0.8338071020341578]]\n",
      "************************************************************\n",
      "[[0.8485958910044543, 0.8671733258482904, 0.8875714330567362, 0.9063197394775847, 0.9173664618503916, 0.9107448166235821, 0.8599223598419817, 0.8231337419410648, 0.8234950629969751]]\n",
      "###################################################################\n",
      "(50000, 1)\n",
      "(50000, 1)\n",
      "(25000, 1)\n",
      "(25000, 1)\n",
      "***********************************************************\n",
      "(35000, 1)\n",
      "(15000, 1)\n",
      "(35000, 1)\n",
      "(15000, 1)\n",
      "************************************************************\n",
      "[[0.9855078631853974, 0.9845899832063092, 0.9825485020048105, 0.9773768662542429, 0.9654224455350839, 0.9399718499089859, 0.8778370034466088, 0.8349692100533949, 0.8338071020341578], [0.9792310743174526, 0.9781795936300823, 0.9759587886488498, 0.9709176775566691, 0.959897306637799, 0.9456423094162176, 0.9299907260453144, 0.9049943956546583, 0.8450581092468914]]\n",
      "************************************************************\n",
      "[[0.8485958910044543, 0.8671733258482904, 0.8875714330567362, 0.9063197394775847, 0.9173664618503916, 0.9107448166235821, 0.8599223598419817, 0.8231337419410648, 0.8234950629969751], [0.8622560267386685, 0.8795787203274278, 0.8977650379774657, 0.9139677930881168, 0.9246481798103207, 0.9276140501785249, 0.9220262297379358, 0.9023398568194598, 0.8445226744507115]]\n",
      "###################################################################\n",
      "(75000, 1)\n",
      "(75000, 1)\n",
      "(25000, 1)\n",
      "(25000, 1)\n",
      "***********************************************************\n",
      "(52500, 1)\n",
      "(22500, 1)\n",
      "(52500, 1)\n",
      "(22500, 1)\n",
      "************************************************************\n",
      "[[0.9855078631853974, 0.9845899832063092, 0.9825485020048105, 0.9773768662542429, 0.9654224455350839, 0.9399718499089859, 0.8778370034466088, 0.8349692100533949, 0.8338071020341578], [0.9792310743174526, 0.9781795936300823, 0.9759587886488498, 0.9709176775566691, 0.959897306637799, 0.9456423094162176, 0.9299907260453144, 0.9049943956546583, 0.8450581092468914], [0.9763974032664267, 0.9752885756067202, 0.9728753512318662, 0.9676914202927195, 0.9575413019613975, 0.9460078753142962, 0.933063115528343, 0.907128974020817, 0.8384873338630703]]\n",
      "************************************************************\n",
      "[[0.8485958910044543, 0.8671733258482904, 0.8875714330567362, 0.9063197394775847, 0.9173664618503916, 0.9107448166235821, 0.8599223598419817, 0.8231337419410648, 0.8234950629969751], [0.8622560267386685, 0.8795787203274278, 0.8977650379774657, 0.9139677930881168, 0.9246481798103207, 0.9276140501785249, 0.9220262297379358, 0.9023398568194598, 0.8445226744507115], [0.883699123882065, 0.897371494435116, 0.9117314152368143, 0.9240170622424175, 0.9313160176206862, 0.9339514187645936, 0.9292545564490722, 0.9070394337329007, 0.8371219457698911]]\n",
      "###################################################################\n"
     ]
    }
   ],
   "source": [
    "X = np.array(final_cleaned_data.loc[:,[\"cleaned_text\"]])  #getting all preprocessed text values\n",
    "Y = np.array(final_cleaned_data.loc[:,[\"Score\"]]) #getting all scores values\n",
    "\n",
    "\n",
    "roc_auc_train_mean = []\n",
    "roc_auc_cv_mean = []\n",
    "\n",
    "\n",
    "### TIMESERIES DATA SPLIT\n",
    "\n",
    "tscv = TimeSeriesSplit(n_splits = 3)      #taking number of split = 3\n",
    "for train_index,test_index in tscv.split(X):\n",
    "    x_train , x_test = X[train_index],X[test_index]\n",
    "    y_train , y_test =  Y[train_index], Y[test_index]\n",
    "    print(x_train.shape)   \n",
    "    print(y_train.shape)\n",
    "    print(x_test.shape)\n",
    "    print(y_test.shape)\n",
    "    print(\"***********************************************************\")\n",
    "    \n",
    "    ####splitting the x_train data into x_train and x_crossval for finding alpha value.\n",
    "    x_train , x_cv ,y_train , y_cv = model_selection.train_test_split(x_train,y_train,test_size = 0.3,random_state =42)\n",
    "    print(x_train.shape)\n",
    "    print(x_cv.shape)\n",
    "    print(y_train.shape)\n",
    "    print(y_cv.shape)\n",
    "    print(\"************************************************************\")\n",
    "    \n",
    "    ### converting the x_train,x_cv into vectors to fit the model.\n",
    "    x_train_bow = pd.DataFrame(x_train,columns = [\"text\"])\n",
    "    x_cv_bow = pd.DataFrame(x_cv,columns = [\"text\"])\n",
    "    \n",
    "    count_vec = CountVectorizer()\n",
    "    count_vec.fit(x_train_bow[\"text\"].values.astype('U'))\n",
    "    \n",
    "    x_train_bow = count_vec.transform(x_train_bow[\"text\"].values.astype('U'))\n",
    "    x_cv_bow = count_vec.transform(x_cv_bow[\"text\"].values.astype('U'))\n",
    "    \n",
    "    ## finding auc score value for each set of train and cross val\n",
    "\n",
    "\n",
    "\n",
    "    roc_auc_train=[]\n",
    "    roc_auc_cv = []\n",
    "\n",
    "    alpha_values = [10**-4,10**-3,10**-2,10**-1,1,10**1,10**2,10**3,10**4]   # taking odd values of k.\n",
    "\n",
    "    for i in alpha_values:\n",
    "    \n",
    "        naive_bayes  = MultinomialNB(alpha = i,class_prior=[0.5,0.5] )\n",
    "        naive_bayes.fit(x_train_bow,y_train.ravel())\n",
    "    \n",
    "        y_train_score = naive_bayes.predict_proba(x_train_bow)[:,1]\n",
    "        y_cv_score = naive_bayes.predict_proba(x_cv_bow)[:,1]          \n",
    "\n",
    "        roc_auc_train.append(roc_auc_score(y_train,y_train_score))\n",
    "        roc_auc_cv.append(roc_auc_score(y_cv,y_cv_score)) \n",
    "        \n",
    "    roc_auc_train_mean.append(roc_auc_train)\n",
    "    roc_auc_cv_mean.append(roc_auc_cv) \n",
    "    print(roc_auc_train_mean)\n",
    "    print(\"************************************************************\")\n",
    "    print(roc_auc_cv_mean)\n",
    "    print(\"###################################################################\")\n",
    "\n",
    "\n",
    "\n"
   ]
  },
  {
   "cell_type": "markdown",
   "metadata": {},
   "source": [
    "#### OBSERVATION:\n",
    "1. For each splits auc score is calculated for train and crossval. Now taking mean of the auc value ,alpha having highest auc value of crossval and less difference between crossval and train will be the best hyperparameter. "
   ]
  },
  {
   "cell_type": "code",
   "execution_count": 40,
   "metadata": {},
   "outputs": [
    {
     "name": "stdout",
     "output_type": "stream",
     "text": [
      "[0.98037878 0.97935272 0.97712755 0.97199532 0.96095368 0.94387401\n",
      " 0.91363028 0.88236419 0.83911752]\n",
      "********************************************\n",
      "[0.86485035 0.88137451 0.89902263 0.9147682  0.92444355 0.92410343\n",
      " 0.90373438 0.87750434 0.83504656]\n"
     ]
    }
   ],
   "source": [
    "## MEAN OF AUC SCORE OF EACH SPLITS.\n",
    "\n",
    "a = np.array(roc_auc_train_mean)\n",
    "b = np.array(roc_auc_cv_mean)\n",
    "print(np.mean(a,axis=0))\n",
    "print(\"********************************************\")\n",
    "print(np.mean(b,axis=0))"
   ]
  },
  {
   "cell_type": "code",
   "execution_count": 41,
   "metadata": {},
   "outputs": [
    {
     "data": {
      "image/png": "[encoded data removed]",
      "text/plain": [
       "<Figure size 432x288 with 1 Axes>"
      ]
     },
     "metadata": {},
     "output_type": "display_data"
    }
   ],
   "source": [
    "##PLOT BETWEEN AUC AND ALPHA\n",
    "import math as m\n",
    "\n",
    "plt.plot(np.log10(alpha_values),np.mean(a,axis=0),label =\"auc_train\",linestyle =\"dashed\")\n",
    "plt.scatter(np.log10(alpha_values),np.mean(a,axis=0))\n",
    "plt.plot(np.log10(alpha_values),np.mean(b,axis=0),label =\"auc_cv\",linestyle = \"dashed\")\n",
    "plt.scatter(np.log10(alpha_values),np.mean(b,axis=0))\n",
    "plt.xlabel(\"alpha\")\n",
    "plt.ylabel(\"Auc value\")\n",
    "plt.legend()\n",
    "plt.title(\"Error plot\")\n",
    "plt.show()\n"
   ]
  },
  {
   "cell_type": "markdown",
   "metadata": {},
   "source": [
    "#### OBSERVATION:\n",
    "The Optimal value of alpha  = 100"
   ]
  },
  {
   "cell_type": "markdown",
   "metadata": {},
   "source": [
    "##### converting texts into BOW representation."
   ]
  },
  {
   "cell_type": "code",
   "execution_count": 42,
   "metadata": {},
   "outputs": [
    {
     "name": "stdout",
     "output_type": "stream",
     "text": [
      "(75000, 1) (75000, 1)\n",
      "(25000, 1) (25000, 1)\n"
     ]
    }
   ],
   "source": [
    "\n",
    "tscv = TimeSeriesSplit(n_splits = 3)\n",
    "for train_index,test_index in tscv.split(X):\n",
    "    x_train , x_test = X[train_index],X[test_index]\n",
    "    y_train , y_test =  Y[train_index], Y[test_index]\n",
    "print(x_train.shape,y_train.shape)   \n",
    "\n",
    "print(x_test.shape,y_test.shape)\n",
    "  "
   ]
  },
  {
   "cell_type": "code",
   "execution_count": 43,
   "metadata": {
    "colab": {},
    "colab_type": "code",
    "id": "UR0f8SfZJkle"
   },
   "outputs": [],
   "source": [
    "\n",
    "x_train = pd.DataFrame(x_train,columns = [\"text\"])    ### making dataframe so that it can fit with countvectorizer.\n",
    "x_test = pd.DataFrame(x_test,columns = [\"text\"])\n",
    "\n",
    "\n",
    "#########################################################################\n",
    "count_vec = CountVectorizer()\n",
    "count_vec.fit(x_train[\"text\"].values.astype('U'))\n",
    "\n",
    "\n",
    "################################################################################\n",
    "\n",
    "x_train_bow = count_vec.transform(x_train[\"text\"].values.astype('U'))\n",
    "x_test_bow = count_vec.transform(x_test[\"text\"].values.astype('U'))\n",
    "\n",
    "\n",
    "\n"
   ]
  },
  {
   "cell_type": "markdown",
   "metadata": {},
   "source": [
    "##### Fitting with the model and predicting responses."
   ]
  },
  {
   "cell_type": "code",
   "execution_count": 45,
   "metadata": {},
   "outputs": [
    {
     "data": {
      "text/plain": [
       "MultinomialNB(alpha=100, class_prior=[0.5, 0.5], fit_prior=True)"
      ]
     },
     "execution_count": 45,
     "metadata": {},
     "output_type": "execute_result"
    }
   ],
   "source": [
    "# INITILAISING THE MODEL.\n",
    "naive_bayes_bow = MultinomialNB(alpha = 100,class_prior = [0.5,0.5])\n",
    "naive_bayes_bow.fit(x_train_bow,y_train.ravel())"
   ]
  },
  {
   "cell_type": "code",
   "execution_count": 46,
   "metadata": {},
   "outputs": [],
   "source": [
    "#predicting the responses \n",
    "pred_bow = naive_bayes_bow.predict(x_test_bow)"
   ]
  },
  {
   "cell_type": "code",
   "execution_count": 47,
   "metadata": {},
   "outputs": [
    {
     "name": "stdout",
     "output_type": "stream",
     "text": [
      "['aa', 'aaa', 'aaaaa', 'aaaaaa', 'aaaaaaaaaaaaaaaaaaaaaaaaaaaaaaaaaaaaaaaaaaaa', 'aaaaaaaaaaaaaaaaacccccccckkkkkk', 'aaaaaaarrrrrggghhh', 'aaaaaahhhhhyaaaaaa', 'aaaand', 'aaah', 'aaahs', 'aachener', 'aadults', 'aafco', 'aahing', 'aalmost', 'aamazon', 'aamzon', 'aarrgh', 'aauces']\n"
     ]
    }
   ],
   "source": [
    "# getting all the features names.\n",
    "bow_features = count_vec.get_feature_names()\n",
    "print(bow_features[:20])"
   ]
  },
  {
   "cell_type": "code",
   "execution_count": 48,
   "metadata": {},
   "outputs": [
    {
     "data": {
      "text/plain": [
       "(2, 53526)"
      ]
     },
     "execution_count": 48,
     "metadata": {},
     "output_type": "execute_result"
    }
   ],
   "source": [
    "# counting the feature\n",
    "feature_count_bow = naive_bayes_bow.feature_count_\n",
    "feature_count_bow.shape"
   ]
  },
  {
   "cell_type": "code",
   "execution_count": 49,
   "metadata": {},
   "outputs": [
    {
     "data": {
      "text/plain": [
       "array([36738., 38262.])"
      ]
     },
     "execution_count": 49,
     "metadata": {},
     "output_type": "execute_result"
    }
   ],
   "source": [
    "#counting class values\n",
    "naive_bayes_bow.class_count_"
   ]
  },
  {
   "cell_type": "code",
   "execution_count": 50,
   "metadata": {},
   "outputs": [
    {
     "name": "stdout",
     "output_type": "stream",
     "text": [
      "(2, 53526)\n"
     ]
    }
   ],
   "source": [
    "# Empirical log probability of features given a class(i.e. P(x_i|y))\n",
    "\n",
    "log_prob_bow = naive_bayes_bow.feature_log_prob_\n",
    "log_prob_bow\n",
    "print(log_prob_bow.shape)\n"
   ]
  },
  {
   "cell_type": "code",
   "execution_count": 51,
   "metadata": {},
   "outputs": [
    {
     "name": "stdout",
     "output_type": "stream",
     "text": [
      "                                                      0          1\n",
      "aa                                           -11.067007 -11.055014\n",
      "aaa                                          -11.143968 -11.102417\n",
      "aaaaa                                        -11.134017 -11.122025\n",
      "aaaaaa                                       -11.143968 -11.122025\n",
      "aaaaaaaaaaaaaaaaaaaaaaaaaaaaaaaaaaaaaaaaaaaa -11.143968 -11.122025\n"
     ]
    }
   ],
   "source": [
    "#making dataframe of all features.\n",
    "feature_prob_bow = pd.DataFrame(log_prob_bow, columns = bow_features)\n",
    "feature_prob_tr_bow = feature_prob_bow.T\n",
    "feature_prob_tr_bow.shape\n",
    "print(feature_prob_tr_bow.head())"
   ]
  },
  {
   "cell_type": "markdown",
   "metadata": {},
   "source": [
    "#### TOP 10 FEATURES FROM  NEGATIVE CLASS"
   ]
  },
  {
   "cell_type": "code",
   "execution_count": 52,
   "metadata": {},
   "outputs": [
    {
     "name": "stdout",
     "output_type": "stream",
     "text": [
      "Top 10 Negative Features:-\n",
      " not       -4.755827\n",
      "like      -5.864884\n",
      "would     -6.130005\n",
      "taste     -6.143181\n",
      "product   -6.164754\n",
      "one       -6.339209\n",
      "good      -6.577954\n",
      "flavor    -6.606755\n",
      "no        -6.615895\n",
      "coffee    -6.631132\n",
      "Name: 0, dtype: float64\n"
     ]
    }
   ],
   "source": [
    "# To show top 10 feature from both class\n",
    "# Feature Importance\n",
    "print(\"Top 10 Negative Features:-\\n\",feature_prob_tr_bow[0].sort_values(ascending = False)[0:10])\n"
   ]
  },
  {
   "cell_type": "markdown",
   "metadata": {},
   "source": [
    "#### TOP 10 FEATURES FROM POSITIVE  CLASS"
   ]
  },
  {
   "cell_type": "code",
   "execution_count": 53,
   "metadata": {},
   "outputs": [
    {
     "name": "stdout",
     "output_type": "stream",
     "text": [
      "\n",
      "\n",
      " Top 10 Positive Features:-\n",
      " not      -5.249963\n",
      "like     -6.081799\n",
      "good     -6.222119\n",
      "great    -6.274258\n",
      "one      -6.423166\n",
      "taste    -6.481545\n",
      "tea      -6.544257\n",
      "love     -6.598087\n",
      "flavor   -6.604767\n",
      "coffee   -6.623096\n",
      "Name: 1, dtype: float64\n"
     ]
    }
   ],
   "source": [
    "print(\"\\n\\n Top 10 Positive Features:-\\n\",feature_prob_tr_bow[1].sort_values(ascending = False)[0:10])"
   ]
  },
  {
   "cell_type": "markdown",
   "metadata": {},
   "source": [
    "##### PERFORMANCE METRICS"
   ]
  },
  {
   "cell_type": "code",
   "execution_count": 76,
   "metadata": {},
   "outputs": [
    {
     "name": "stdout",
     "output_type": "stream",
     "text": [
      "\n",
      "Train accuracy=86.588000%\n",
      "\n",
      "Test accuracy=8.548800e+01% \n",
      "\n",
      "Train ROC value=0.933239\n",
      "\n",
      "Test ROC value=0.923248\n",
      "\n",
      "precision=88.937968%\n",
      "\n",
      "recall=78.906117%\n",
      "\n",
      "F1-Score=83.622246%\n"
     ]
    }
   ],
   "source": [
    "pred_bow = naive_bayes_bow.predict(x_test_bow)\n",
    "#train test accuracy\n",
    "train_acc_bow = naive_bayes_bow.score(x_train_bow,y_train.ravel())\n",
    "test_acc_bow = naive_bayes_bow.score(x_test_bow,y_test)\n",
    "\n",
    "#train test ROC value\n",
    "y_scores_bow_train = naive_bayes_bow.predict_proba(x_train_bow)\n",
    "fpr,tpr,thresholds = roc_curve(y_train,y_scores_bow_train[:,1])     # only positive y_scores to be comsidered\n",
    "roc_auc_train_bow = auc(fpr,tpr)\n",
    "\n",
    "y_scores_bow_test = naive_bayes_bow.predict_proba(x_test_bow)\n",
    "fpr_1,tpr_1,thresholds = roc_curve(y_test,y_scores_bow_test[:,1])     # only positive y_scores to be comsidered\n",
    "roc_auc_test_bow = auc(fpr_1,tpr_1)\n",
    "\n",
    "#Precision , recall and f1_score \n",
    "pre_bow = precision_score(y_test, pred_bow) * 100\n",
    "rec_bow = recall_score(y_test, pred_bow) * 100\n",
    "f1_bow = f1_score(y_test, pred_bow) * 100\n",
    "\n",
    "\n",
    "print(\"\\nTrain accuracy=%f%%\"% (train_acc_bow*100))\n",
    "print(\"\\nTest accuracy=%e%% \"% (test_acc_bow*100))\n",
    "print(\"\\nTrain ROC value=%f\"% (roc_auc_train_bow))\n",
    "print(\"\\nTest ROC value=%f\"% (roc_auc_test_bow))\n",
    "print('\\nprecision=%f%%' % (pre_bow))\n",
    "print('\\nrecall=%f%%' % (rec_bow))\n",
    "print('\\nF1-Score=%f%%' % (f1_bow))\n",
    "\n"
   ]
  },
  {
   "cell_type": "code",
   "execution_count": 77,
   "metadata": {},
   "outputs": [
    {
     "data": {
      "image/png": "[encoded data removed]",
      "text/plain": [
       "<Figure size 432x288 with 1 Axes>"
      ]
     },
     "metadata": {},
     "output_type": "display_data"
    }
   ],
   "source": [
    "plt.figure()\n",
    "plt.plot(fpr,tpr,label = \"roc curve for training with area({})\".format(roc_auc_train_bow))\n",
    "plt.plot(fpr_1,tpr_1,label = \"roc curve for test data with area({})\".format(roc_auc_test_bow))\n",
    "plt.legend(loc=\"lower right\")\n",
    "plt.show()"
   ]
  },
  {
   "cell_type": "code",
   "execution_count": 78,
   "metadata": {},
   "outputs": [
    {
     "data": {
      "text/plain": [
       "array([[12110,  1152],\n",
       "       [ 2476,  9262]], dtype=int64)"
      ]
     },
     "execution_count": 78,
     "metadata": {},
     "output_type": "execute_result"
    }
   ],
   "source": [
    " #Confusion Matrix\n",
    "from sklearn.metrics import confusion_matrix\n",
    "cm_bow = confusion_matrix(y_test, pred_bow)\n",
    "cm_bow"
   ]
  },
  {
   "cell_type": "code",
   "execution_count": 79,
   "metadata": {},
   "outputs": [
    {
     "data": {
      "image/png": "[encoded data removed]",
      "text/plain": [
       "<Figure size 432x288 with 2 Axes>"
      ]
     },
     "metadata": {},
     "output_type": "display_data"
    }
   ],
   "source": [
    "class_label = [\"negative\", \"positive\"]\n",
    "df_cm = pd.DataFrame(cm_bow, index = class_label, columns = class_label)\n",
    "sns.heatmap(df_cm, annot = True, fmt = \"d\")\n",
    "plt.title(\"Confusion Matrix\")\n",
    "plt.xlabel(\"Predicted Label\")\n",
    "plt.ylabel(\"True Label\")\n",
    "plt.show()"
   ]
  },
  {
   "cell_type": "code",
   "execution_count": 142,
   "metadata": {
    "scrolled": true
   },
   "outputs": [
    {
     "name": "stdout",
     "output_type": "stream",
     "text": [
      "+---------------------+-------------+----------------+---------------+--------------+-----------+-------------+------+-------+------+------+-----------+----------+\n",
      "|          CV         | alpha_value | Train_error(%) | Test_error(%) | Precision(%) | Recall(%) | F1-Score(%) | TPR  |  TNR  | FPR  | FNR  | AUC_train | AUC_test |\n",
      "+---------------------+-------------+----------------+---------------+--------------+-----------+-------------+------+-------+------+------+-----------+----------+\n",
      "| double chain method |     100     |     13.41      |     14.51     |    88.94     |   78.91   |    83.62    | 9262 | 12110 | 2476 | 1152 |    0.93   |   0.92   |\n",
      "+---------------------+-------------+----------------+---------------+--------------+-----------+-------------+------+-------+------+------+-----------+----------+\n"
     ]
    }
   ],
   "source": [
    "from prettytable import PrettyTable\n",
    "x = PrettyTable()\n",
    "\n",
    "alpha_bow = 100\n",
    "cv = 'double chain method'\n",
    "x.field_names = [\"CV\",\"alpha_value\",\"Train_error(%)\",\"Test_error(%)\",\"Precision(%)\",\"Recall(%)\",\"F1-Score(%)\",\"TPR\",\"TNR\",\"FPR\",\"FNR\",\"AUC_train\",\"AUC_test\"]\n",
    "\n",
    "\n",
    "err_train_bow = np.around(100 - train_acc_bow*100 , decimals = 2)\n",
    "err_test_bow =  np.around(100 - test_acc_bow*100 , decimals = 2)\n",
    "pre_bow= np.around(pre_bow, decimals = 2)\n",
    "rec_bow = np.around(rec_bow, decimals = 2)\n",
    "f1_bow = np.around(f1_bow, decimals = 2)\n",
    "AUC_train_bow = np.around(roc_auc_train_bow,decimals=2)\n",
    "AUC_test_bow = np.around(roc_auc_test_bow,decimals=2)\n",
    "TPR = 9262\n",
    "TNR = 12110\n",
    "FPR = 2476\n",
    "FNR = 1152\n",
    "\n",
    "\n",
    "x.add_row([cv,alpha_bow,err_train_bow,err_test_bow,pre_bow,rec_bow,f1_bow,TPR,TNR,FPR,FNR,AUC_train_bow,AUC_test_bow])\n",
    "\n",
    "\n",
    "print(x)"
   ]
  },
  {
   "cell_type": "markdown",
   "metadata": {},
   "source": [
    "#### OBSERVATION:\n",
    "The f_1 score value for positive and negative reviews are 0.85 and 0.87 respectively.."
   ]
  },
  {
   "cell_type": "markdown",
   "metadata": {
    "colab_type": "text",
    "id": "6bp7BbwCJkll"
   },
   "source": [
    "##  Applying Naive Bayes on TFIDF"
   ]
  },
  {
   "cell_type": "markdown",
   "metadata": {},
   "source": [
    "### HYPERPARAMETER TUNING:<font color=\"red\"> CROSS VALIDATION"
   ]
  },
  {
   "attachments": {
    "image.png": {
     "image/png": "[encoded data removed]"
    }
   },
   "cell_type": "markdown",
   "metadata": {},
   "source": [
    "The amazon food fine reviews is a time series data. Considering the variations in future data, we should find hyperparameter in such a way that the performance of model would not get affected much by different reviews.\n",
    "\n",
    "#### NOTE:\n",
    "For above purpose we will do time series split of data and find the hyperparameter using nested crossvalidation: Day-Forward Chaining method.\n",
    "![image.png](attachment:image.png)"
   ]
  },
  {
   "cell_type": "code",
   "execution_count": 84,
   "metadata": {},
   "outputs": [
    {
     "name": "stdout",
     "output_type": "stream",
     "text": [
      "(25000, 1)\n",
      "(25000, 1)\n",
      "(25000, 1)\n",
      "(25000, 1)\n",
      "***********************************************************\n",
      "(17500, 1)\n",
      "(7500, 1)\n",
      "(17500, 1)\n",
      "(7500, 1)\n",
      "************************************************************\n",
      "[[0.9908525491619686, 0.9903068169756922, 0.9887786039330431, 0.9834304658992566, 0.9685014602268789, 0.939826589745128, 0.9062499048514211, 0.8897629997797629, 0.8871014836981972]]\n",
      "************************************************************\n",
      "[[0.8396716307282855, 0.8642303683857779, 0.8932902832190045, 0.9198314647192793, 0.9322483501810847, 0.9215112487010606, 0.8965761802628791, 0.8819100114066657, 0.8792786688824984]]\n",
      "###################################################################\n",
      "(50000, 1)\n",
      "(50000, 1)\n",
      "(25000, 1)\n",
      "(25000, 1)\n",
      "***********************************************************\n",
      "(35000, 1)\n",
      "(15000, 1)\n",
      "(35000, 1)\n",
      "(15000, 1)\n",
      "************************************************************\n",
      "[[0.9908525491619686, 0.9903068169756922, 0.9887786039330431, 0.9834304658992566, 0.9685014602268789, 0.939826589745128, 0.9062499048514211, 0.8897629997797629, 0.8871014836981972], [0.9849756380533247, 0.9842942636797793, 0.9824151320928305, 0.9766754731830193, 0.9641336035956929, 0.9496864073082891, 0.9327495842201557, 0.9169811254298685, 0.909968220200151]]\n",
      "************************************************************\n",
      "[[0.8396716307282855, 0.8642303683857779, 0.8932902832190045, 0.9198314647192793, 0.9322483501810847, 0.9215112487010606, 0.8965761802628791, 0.8819100114066657, 0.8792786688824984], [0.850306109609167, 0.8736837388641958, 0.9011473377594416, 0.9249235929698119, 0.9371834850152856, 0.9381287923800699, 0.9289136758449554, 0.9165136429786813, 0.9101912802501796]]\n",
      "###################################################################\n",
      "(75000, 1)\n",
      "(75000, 1)\n",
      "(25000, 1)\n",
      "(25000, 1)\n",
      "***********************************************************\n",
      "(52500, 1)\n",
      "(22500, 1)\n",
      "(52500, 1)\n",
      "(22500, 1)\n",
      "************************************************************\n",
      "[[0.9908525491619686, 0.9903068169756922, 0.9887786039330431, 0.9834304658992566, 0.9685014602268789, 0.939826589745128, 0.9062499048514211, 0.8897629997797629, 0.8871014836981972], [0.9849756380533247, 0.9842942636797793, 0.9824151320928305, 0.9766754731830193, 0.9641336035956929, 0.9496864073082891, 0.9327495842201557, 0.9169811254298685, 0.909968220200151], [0.9820507356547633, 0.9812790290852206, 0.9792457866114053, 0.9734930878772035, 0.9621440225341269, 0.9512819539170597, 0.9399220488729568, 0.9253386118757267, 0.9141926958290573]]\n",
      "************************************************************\n",
      "[[0.8396716307282855, 0.8642303683857779, 0.8932902832190045, 0.9198314647192793, 0.9322483501810847, 0.9215112487010606, 0.8965761802628791, 0.8819100114066657, 0.8792786688824984], [0.850306109609167, 0.8736837388641958, 0.9011473377594416, 0.9249235929698119, 0.9371834850152856, 0.9381287923800699, 0.9289136758449554, 0.9165136429786813, 0.9101912802501796], [0.8715591740430552, 0.8900090292248297, 0.9117157966396684, 0.9306979408839893, 0.9406424581888733, 0.9430249977228148, 0.9375471778854829, 0.9241365018281822, 0.9124382990323331]]\n",
      "###################################################################\n"
     ]
    }
   ],
   "source": [
    "X = np.array(final_cleaned_data.loc[:,[\"cleaned_text\"]])  #getting all preprocessed text values\n",
    "Y = np.array(final_cleaned_data.loc[:,[\"Score\"]]) #getting all scores values\n",
    "\n",
    "roc_auc_train_mean = []\n",
    "roc_auc_cv_mean = []\n",
    "\n",
    "##TIMESERIES DATA SPLIT\n",
    "tscv = TimeSeriesSplit(n_splits = 3)\n",
    "for train_index,test_index in tscv.split(X):\n",
    "    x_train , x_test = X[train_index],X[test_index]\n",
    "    y_train , y_test =  Y[train_index], Y[test_index]\n",
    "    print(x_train.shape)   \n",
    "    print(y_train.shape)\n",
    "    print(x_test.shape)\n",
    "    print(y_test.shape)\n",
    "    print(\"***********************************************************\")\n",
    "    \n",
    "    ####splitting the x_train data into x_train and x_crossval for finding alpha value\n",
    "    x_train , x_cv ,y_train , y_cv = model_selection.train_test_split(x_train,y_train,test_size = 0.3,random_state =42)\n",
    "    print(x_train.shape)\n",
    "    print(x_cv.shape)\n",
    "    print(y_train.shape)\n",
    "    print(y_cv.shape)\n",
    "    print(\"************************************************************\")\n",
    "    \n",
    "    ### converting the x_train,x_cv into vectors to fit the model.\n",
    "    x_train_tfidf = pd.DataFrame(x_train,columns = [\"text\"])\n",
    "    x_cv_tfidf = pd.DataFrame(x_cv,columns = [\"text\"])\n",
    "    \n",
    "    tfidf_vec = TfidfVectorizer()\n",
    "    tfidf_vec.fit(x_train_tfidf[\"text\"].values.astype('U'))\n",
    "    \n",
    "    x_train_tfidf = tfidf_vec.transform(x_train_tfidf[\"text\"].values.astype('U'))\n",
    "    x_cv_tfidf = tfidf_vec.transform(x_cv_tfidf[\"text\"].values.astype('U'))\n",
    "    \n",
    "    ## finding auc score value for each set of train and cross val\n",
    "\n",
    "\n",
    "\n",
    "    roc_auc_train=[]\n",
    "    roc_auc_cv = []\n",
    "\n",
    "    alpha_values = [10**-4,10**-3,10**-2,10**-1,1,10**1,10**2,10**3,10**4]   # taking odd values of k.\n",
    "\n",
    "    for i in alpha_values:\n",
    "    \n",
    "        naive_bayes  = MultinomialNB(alpha = i,class_prior=[0.5,0.5] )\n",
    "        naive_bayes.fit(x_train_tfidf,y_train.ravel())\n",
    "    \n",
    "        y_train_score = naive_bayes.predict_proba(x_train_tfidf)[:,1]\n",
    "        y_cv_score = naive_bayes.predict_proba(x_cv_tfidf)[:,1]          \n",
    "\n",
    "        roc_auc_train.append(roc_auc_score(y_train,y_train_score))\n",
    "        roc_auc_cv.append(roc_auc_score(y_cv,y_cv_score)) \n",
    "        \n",
    "    roc_auc_train_mean.append(roc_auc_train)\n",
    "    roc_auc_cv_mean.append(roc_auc_cv) \n",
    "    print(roc_auc_train_mean)\n",
    "    print(\"************************************************************\")\n",
    "    print(roc_auc_cv_mean)\n",
    "    print(\"###################################################################\")\n",
    "\n",
    "\n",
    "\n"
   ]
  },
  {
   "cell_type": "code",
   "execution_count": 85,
   "metadata": {},
   "outputs": [
    {
     "name": "stdout",
     "output_type": "stream",
     "text": [
      "[0.98595964 0.98529337 0.98347984 0.97786634 0.96492636 0.94693165\n",
      " 0.92630718 0.91069425 0.90375413]\n",
      "********************************************\n",
      "[0.85384564 0.87597438 0.90205114 0.925151   0.93669143 0.93422168\n",
      " 0.92101234 0.90752005 0.90063608]\n"
     ]
    }
   ],
   "source": [
    "#MEAN OF AUC SCORES\n",
    "\n",
    "a = np.array(roc_auc_train_mean)\n",
    "b = np.array(roc_auc_cv_mean)\n",
    "print(np.mean(a,axis=0))\n",
    "print(\"********************************************\")\n",
    "print(np.mean(b,axis=0))"
   ]
  },
  {
   "cell_type": "code",
   "execution_count": 86,
   "metadata": {},
   "outputs": [
    {
     "data": {
      "image/png": "[encoded data removed]",
      "text/plain": [
       "<Figure size 432x288 with 1 Axes>"
      ]
     },
     "metadata": {},
     "output_type": "display_data"
    }
   ],
   "source": [
    "# GRAPH\n",
    "\n",
    "plt.plot(np.log10(alpha_values),np.mean(a,axis=0),label =\"auc_train\",linestyle = \"dashed\")\n",
    "plt.scatter(np.log10(alpha_values),np.mean(a,axis=0))\n",
    "plt.plot(np.log10(alpha_values),np.mean(b,axis=0),label =\"auc_cv\",linestyle = \"dashed\")\n",
    "plt.scatter(np.log10(alpha_values),np.mean(b,axis=0))\n",
    "plt.xlabel(\"alpha\")\n",
    "plt.ylabel(\"Auc value\")\n",
    "plt.legend()\n",
    "plt.title(\"Error plot\")\n",
    "plt.show()"
   ]
  },
  {
   "cell_type": "markdown",
   "metadata": {},
   "source": [
    "#### OBSERVATION:\n",
    "The optimal value of alpha = 100"
   ]
  },
  {
   "cell_type": "markdown",
   "metadata": {},
   "source": [
    "##### Converting text reviews into TFIDF vector representation"
   ]
  },
  {
   "cell_type": "code",
   "execution_count": 87,
   "metadata": {},
   "outputs": [
    {
     "name": "stdout",
     "output_type": "stream",
     "text": [
      "(75000, 1) (75000, 1)\n",
      "(25000, 1) (25000, 1)\n"
     ]
    }
   ],
   "source": [
    "X = np.array(final_cleaned_data.loc[:,[\"cleaned_text\"]])  #getting all preprocessed text values\n",
    "Y = np.array(final_cleaned_data.loc[:,[\"Score\"]]) #getting all scores values\n",
    "\n",
    "tscv = TimeSeriesSplit(n_splits = 3)\n",
    "for train_index,test_index in tscv.split(X):\n",
    "    x_train , x_test = X[train_index],X[test_index]\n",
    "    y_train , y_test =  Y[train_index], Y[test_index]\n",
    "print(x_train.shape,y_train.shape)   \n",
    "\n",
    "print(x_test.shape,y_test.shape)\n",
    "  "
   ]
  },
  {
   "cell_type": "code",
   "execution_count": 88,
   "metadata": {
    "colab": {},
    "colab_type": "code",
    "id": "oL29fzPFJkll"
   },
   "outputs": [],
   "source": [
    "#converting train,cross validation , and test data into vectors using BOW representation\n",
    "\n",
    "x_train = pd.DataFrame(x_train,columns = [\"text\"])\n",
    "x_test = pd.DataFrame(x_test,columns = [\"text\"])\n",
    "\n",
    "\n",
    "#########################################################################\n",
    "tf_idf_vect = TfidfVectorizer()\n",
    "tf_idf_vect.fit(x_train[\"text\"].values.astype('U'))\n",
    "\n",
    "\n",
    "################################################################################\n",
    "\n",
    "x_train_tfidf = tf_idf_vect.transform(x_train[\"text\"].values.astype('U'))\n",
    "x_test_tfidf= tf_idf_vect.transform(x_test[\"text\"].values.astype('U'))\n",
    "\n"
   ]
  },
  {
   "cell_type": "markdown",
   "metadata": {},
   "source": [
    "##### Fitting the model and predicting responses"
   ]
  },
  {
   "cell_type": "code",
   "execution_count": 89,
   "metadata": {},
   "outputs": [
    {
     "data": {
      "text/plain": [
       "MultinomialNB(alpha=100, class_prior=[0.5, 0.5], fit_prior=True)"
      ]
     },
     "execution_count": 89,
     "metadata": {},
     "output_type": "execute_result"
    }
   ],
   "source": [
    "#INITIALISING THE MODEL\n",
    "naive_bayes_tfidf = MultinomialNB(alpha = 100,class_prior = [0.5,0.5])\n",
    "naive_bayes_tfidf.fit(x_train_tfidf,y_train.ravel())"
   ]
  },
  {
   "cell_type": "code",
   "execution_count": 90,
   "metadata": {},
   "outputs": [],
   "source": [
    "#predicting the responses \n",
    "pred_tfidf = naive_bayes_tfidf.predict(x_test_tfidf)"
   ]
  },
  {
   "cell_type": "code",
   "execution_count": 91,
   "metadata": {},
   "outputs": [
    {
     "name": "stdout",
     "output_type": "stream",
     "text": [
      "['aa', 'aaa', 'aaaaa', 'aaaaaa', 'aaaaaaaaaaaaaaaaaaaaaaaaaaaaaaaaaaaaaaaaaaaa', 'aaaaaaaaaaaaaaaaacccccccckkkkkk', 'aaaaaaarrrrrggghhh', 'aaaaaahhhhhyaaaaaa', 'aaaand', 'aaah', 'aaahs', 'aachener', 'aadults', 'aafco', 'aahing', 'aalmost', 'aamazon', 'aamzon', 'aarrgh', 'aauces']\n"
     ]
    }
   ],
   "source": [
    "# getting all the features names\n",
    "tfidf_features = tf_idf_vect.get_feature_names()\n",
    "print(tfidf_features[:20])"
   ]
  },
  {
   "cell_type": "code",
   "execution_count": 92,
   "metadata": {},
   "outputs": [
    {
     "data": {
      "text/plain": [
       "(2, 53526)"
      ]
     },
     "execution_count": 92,
     "metadata": {},
     "output_type": "execute_result"
    }
   ],
   "source": [
    "#counting the feature\n",
    "feature_count_tfidf = naive_bayes_tfidf.feature_count_\n",
    "feature_count_tfidf.shape"
   ]
  },
  {
   "cell_type": "code",
   "execution_count": 93,
   "metadata": {},
   "outputs": [
    {
     "data": {
      "text/plain": [
       "array([36738., 38262.])"
      ]
     },
     "execution_count": 93,
     "metadata": {},
     "output_type": "execute_result"
    }
   ],
   "source": [
    "#counting class labels \n",
    "naive_bayes_tfidf.class_count_"
   ]
  },
  {
   "cell_type": "code",
   "execution_count": 94,
   "metadata": {},
   "outputs": [
    {
     "name": "stdout",
     "output_type": "stream",
     "text": [
      "(2, 53526)\n"
     ]
    }
   ],
   "source": [
    "# Empirical log probability of features given a class(i.e. P(x_i|y))\n",
    "\n",
    "log_prob_tfidf = naive_bayes_tfidf.feature_log_prob_\n",
    "log_prob_tfidf\n",
    "print(log_prob_tfidf.shape)\n"
   ]
  },
  {
   "cell_type": "code",
   "execution_count": 95,
   "metadata": {},
   "outputs": [
    {
     "name": "stdout",
     "output_type": "stream",
     "text": [
      "                                                      0          1\n",
      "aa                                           -10.905474 -10.908001\n",
      "aaa                                          -10.921449 -10.911786\n",
      "aaaaa                                        -10.917878 -10.917637\n",
      "aaaaaa                                       -10.921449 -10.919031\n",
      "aaaaaaaaaaaaaaaaaaaaaaaaaaaaaaaaaaaaaaaaaaaa -10.921449 -10.917350\n"
     ]
    }
   ],
   "source": [
    "#making dataframe of features\n",
    "feature_prob_tfidf = pd.DataFrame(log_prob_tfidf, columns = tfidf_features)\n",
    "feature_prob_tr_tfidf = feature_prob_tfidf.T\n",
    "feature_prob_tr_tfidf.shape\n",
    "print(feature_prob_tr_tfidf.head())"
   ]
  },
  {
   "cell_type": "markdown",
   "metadata": {},
   "source": [
    "### TOP 10 FEATURES FROM  NEGATIVE REVIEWS."
   ]
  },
  {
   "cell_type": "code",
   "execution_count": 96,
   "metadata": {},
   "outputs": [
    {
     "name": "stdout",
     "output_type": "stream",
     "text": [
      "Top 10 Negative Features:-\n",
      " not       -7.749032\n",
      "like      -8.447347\n",
      "taste     -8.537495\n",
      "product   -8.580349\n",
      "would     -8.607524\n",
      "coffee    -8.759498\n",
      "one       -8.813910\n",
      "flavor    -8.892130\n",
      "no        -8.949391\n",
      "good      -8.952714\n",
      "Name: 0, dtype: float64\n"
     ]
    }
   ],
   "source": [
    "# To show top 10 feature from both class\n",
    "# Feature Importance\n",
    "print(\"Top 10 Negative Features:-\\n\",feature_prob_tr_tfidf[0].sort_values(ascending = False)[0:10])\n"
   ]
  },
  {
   "cell_type": "markdown",
   "metadata": {},
   "source": [
    "### TOP 10 FEATURES FROM  POSITIVE REVIEWS."
   ]
  },
  {
   "cell_type": "code",
   "execution_count": 97,
   "metadata": {},
   "outputs": [
    {
     "name": "stdout",
     "output_type": "stream",
     "text": [
      "\n",
      "\n",
      " Top 10 Positive Features:-\n",
      " not      -8.270060\n",
      "great    -8.388509\n",
      "good     -8.532281\n",
      "love     -8.630207\n",
      "tea      -8.644219\n",
      "like     -8.652560\n",
      "coffee   -8.661916\n",
      "taste    -8.851681\n",
      "flavor   -8.851939\n",
      "one      -8.852102\n",
      "Name: 1, dtype: float64\n"
     ]
    }
   ],
   "source": [
    "print(\"\\n\\n Top 10 Positive Features:-\\n\",feature_prob_tr_tfidf[1].sort_values(ascending = False)[0:10])"
   ]
  },
  {
   "cell_type": "markdown",
   "metadata": {},
   "source": [
    "##### PERFORMANCE METRICS"
   ]
  },
  {
   "cell_type": "code",
   "execution_count": 98,
   "metadata": {},
   "outputs": [
    {
     "name": "stdout",
     "output_type": "stream",
     "text": [
      "\n",
      "Train accuracy=86.306667%\n",
      "\n",
      "Test accuracy=8.517600e+01% \n",
      "\n",
      "Train ROC value=0.940779\n",
      "\n",
      "Test ROC value=0.933432\n",
      "\n",
      "precision=81.478288%\n",
      "\n",
      "recall=88.558528%\n",
      "\n",
      "F1-Score=84.870999%\n"
     ]
    }
   ],
   "source": [
    "pred_tfidf = naive_bayes_tfidf.predict(x_test_tfidf)\n",
    "#train test accuracy\n",
    "train_acc_tfidf = naive_bayes_tfidf.score(x_train_tfidf,y_train.ravel())\n",
    "test_acc_tfidf = naive_bayes_tfidf.score(x_test_tfidf,y_test)\n",
    "\n",
    "#train test ROC value\n",
    "y_scores_tfidf_train = naive_bayes_tfidf.predict_proba(x_train_tfidf)\n",
    "fpr,tpr,thresholds = roc_curve(y_train,y_scores_tfidf_train[:,1])     # only positive y_scores to be comsidered\n",
    "roc_auc_train_tfidf = auc(fpr,tpr)\n",
    "\n",
    "y_scores_tfidf_test = naive_bayes_tfidf.predict_proba(x_test_tfidf)\n",
    "fpr_1,tpr_1,thresholds = roc_curve(y_test,y_scores_tfidf_test[:,1])     # only positive y_scores to be comsidered\n",
    "roc_auc_test_tfidf = auc(fpr_1,tpr_1)\n",
    "\n",
    "#Precision , recall and f1_score \n",
    "pre_tfidf = precision_score(y_test, pred_tfidf) * 100\n",
    "rec_tfidf = recall_score(y_test, pred_tfidf) * 100\n",
    "f1_tfidf = f1_score(y_test, pred_tfidf) * 100\n",
    "\n",
    "\n",
    "print(\"\\nTrain accuracy=%f%%\"% (train_acc_tfidf*100))\n",
    "print(\"\\nTest accuracy=%e%% \"% (test_acc_tfidf*100))\n",
    "print(\"\\nTrain ROC value=%f\"% (roc_auc_train_tfidf))\n",
    "print(\"\\nTest ROC value=%f\"% (roc_auc_test_tfidf))\n",
    "print('\\nprecision=%f%%' % (pre_tfidf))\n",
    "print('\\nrecall=%f%%' % (rec_tfidf))\n",
    "print('\\nF1-Score=%f%%' % (f1_tfidf))\n",
    "\n"
   ]
  },
  {
   "cell_type": "code",
   "execution_count": 99,
   "metadata": {},
   "outputs": [
    {
     "data": {
      "image/png": "[encoded data removed]",
      "text/plain": [
       "<Figure size 432x288 with 1 Axes>"
      ]
     },
     "metadata": {},
     "output_type": "display_data"
    }
   ],
   "source": [
    "plt.figure()\n",
    "plt.plot(fpr,tpr,label = \"roc curve for training with area({})\".format(roc_auc_train_tfidf))\n",
    "plt.plot(fpr_1,tpr_1,label = \"roc curve for test data with area({})\".format(roc_auc_test_tfidf))\n",
    "plt.legend(loc=\"lower right\")\n",
    "plt.show()"
   ]
  },
  {
   "cell_type": "code",
   "execution_count": 100,
   "metadata": {},
   "outputs": [
    {
     "data": {
      "text/plain": [
       "array([[10899,  2363],\n",
       "       [ 1343, 10395]], dtype=int64)"
      ]
     },
     "execution_count": 100,
     "metadata": {},
     "output_type": "execute_result"
    }
   ],
   "source": [
    " #Confusion Matrix\n",
    "from sklearn.metrics import confusion_matrix\n",
    "cm_tfidf = confusion_matrix(y_test, pred_tfidf)\n",
    "cm_tfidf"
   ]
  },
  {
   "cell_type": "code",
   "execution_count": 101,
   "metadata": {},
   "outputs": [
    {
     "data": {
      "image/png": "[encoded data removed]",
      "text/plain": [
       "<Figure size 432x288 with 2 Axes>"
      ]
     },
     "metadata": {},
     "output_type": "display_data"
    }
   ],
   "source": [
    "class_label = [\"negative\", \"positive\"]\n",
    "df_cm = pd.DataFrame(cm_tfidf, index = class_label, columns = class_label)\n",
    "sns.heatmap(df_cm, annot = True, fmt = \"d\")\n",
    "plt.title(\"Confusion Matrix\")\n",
    "plt.xlabel(\"Predicted Label\")\n",
    "plt.ylabel(\"True Label\")\n",
    "plt.show()"
   ]
  },
  {
   "cell_type": "code",
   "execution_count": 144,
   "metadata": {},
   "outputs": [
    {
     "name": "stdout",
     "output_type": "stream",
     "text": [
      "+---------------------+-------------+----------------+---------------+--------------+-----------+-------------+-------+-------+------+------+-----------+----------+\n",
      "|          CV         | alpha_value | Train_error(%) | Test_error(%) | Precision(%) | Recall(%) | F1-Score(%) |  TPR  |  TNR  | FPR  | FNR  | AUC_train | AUC_test |\n",
      "+---------------------+-------------+----------------+---------------+--------------+-----------+-------------+-------+-------+------+------+-----------+----------+\n",
      "| double chain method |     100     |     13.69      |     14.82     |    81.48     |   88.56   |    84.87    | 10395 | 10899 | 1343 | 2363 |    0.94   |   0.93   |\n",
      "+---------------------+-------------+----------------+---------------+--------------+-----------+-------------+-------+-------+------+------+-----------+----------+\n"
     ]
    }
   ],
   "source": [
    "from prettytable import PrettyTable\n",
    "x = PrettyTable()\n",
    "\n",
    "alpha_tfidf = 100\n",
    "cv = 'double chain method'\n",
    "x.field_names = [\"CV\",\"alpha_value\",\"Train_error(%)\",\"Test_error(%)\",\"Precision(%)\",\"Recall(%)\",\"F1-Score(%)\",\"TPR\",\"TNR\",\"FPR\",\"FNR\",\"AUC_train\",\"AUC_test\"]\n",
    "\n",
    "\n",
    "err_train_tfidf = np.around(100 - train_acc_tfidf*100 , decimals = 2)\n",
    "err_test_tfidf =  np.around(100 - test_acc_tfidf*100 , decimals = 2)\n",
    "pre_tfidf= np.around(pre_tfidf, decimals = 2)\n",
    "rec_tfidf = np.around(rec_tfidf, decimals = 2)\n",
    "f1_tfidf = np.around(f1_tfidf, decimals = 2)\n",
    "AUC_train_tfidf = np.around(roc_auc_train_tfidf,decimals=2)\n",
    "AUC_test_tfidf = np.around(roc_auc_test_tfidf,decimals=2)\n",
    "TPR = 10395\n",
    "TNR = 10899\n",
    "FPR = 1343\n",
    "FNR = 2363\n",
    "\n",
    "\n",
    "x.add_row([cv,alpha_tfidf,err_train_tfidf,err_test_tfidf,pre_tfidf,rec_tfidf,f1_tfidf,TPR,TNR,FPR,FNR,AUC_train_tfidf,AUC_test_tfidf])\n",
    "\n",
    "\n",
    "print(x)"
   ]
  },
  {
   "cell_type": "markdown",
   "metadata": {},
   "source": [
    "#### OBSERVATION:\n",
    "The f_1 score of postive and negative reviews are 0.85  and 0.86 respectively."
   ]
  },
  {
   "cell_type": "markdown",
   "metadata": {
    "colab_type": "text",
    "id": "vst5Y7mmJklu"
   },
   "source": [
    "# Performance Table"
   ]
  },
  {
   "cell_type": "code",
   "execution_count": 145,
   "metadata": {},
   "outputs": [
    {
     "name": "stdout",
     "output_type": "stream",
     "text": [
      "+-------+-------------+----------------+---------------+--------------+-----------+-------------+-----------+----------+\n",
      "| model | alpha_value | Train_error(%) | Test_error(%) | Precision(%) | Recall(%) | F1-Score(%) | AUC_train | AUC_test |\n",
      "+-------+-------------+----------------+---------------+--------------+-----------+-------------+-----------+----------+\n",
      "|  BOW  |     100     |     13.41      |     14.51     |    88.94     |   78.91   |    83.62    |    0.93   |   0.92   |\n",
      "| TFIDF |     100     |     13.69      |     14.82     |    81.48     |   88.56   |    84.87    |    0.94   |   0.93   |\n",
      "+-------+-------------+----------------+---------------+--------------+-----------+-------------+-----------+----------+\n"
     ]
    }
   ],
   "source": [
    "from prettytable import PrettyTable\n",
    "x = PrettyTable()\n",
    "\n",
    "\n",
    "model1 = \"BOW\"\n",
    "model2 =\"TFIDF\"\n",
    "\n",
    "x.field_names = [\"model\",\"alpha_value\",\"Train_error(%)\",\"Test_error(%)\",\"Precision(%)\",\"Recall(%)\",\"F1-Score(%)\",\"AUC_train\",\"AUC_test\"]\n",
    "x.add_row([model1,alpha_bow,err_train_bow,err_test_bow,pre_bow,rec_bow,f1_bow,AUC_train_bow,AUC_test_bow])\n",
    "x.add_row([model2,alpha_tfidf,err_train_tfidf,err_test_tfidf,pre_tfidf,rec_tfidf,f1_tfidf,AUC_train_tfidf,AUC_test_tfidf])\n",
    "\n",
    "\n",
    "print(x)"
   ]
  },
  {
   "cell_type": "markdown",
   "metadata": {},
   "source": [
    "## CONCLUSION:\n",
    "1.The AUC value for both train and test data are high which implies Naive Bayes algorithm is working well for text classification.<br>\n",
    "2.From all the performance metrics, it can be concluded that naive bayes model can do good text classification, that's why it's widely used in real world cases like spam filtering.<br>\n",
    "3.Comparing AUC value of both models tfidf  works slightly good than bow, not much difference, both are working fine."
   ]
  },
  {
   "cell_type": "markdown",
   "metadata": {
    "colab": {},
    "colab_type": "code",
    "id": "De9HYtIGJklv"
   },
   "source": [
    "### <font color = \"BLUE\"> CONSIDERING LENGTH OF REVIEWS AS A FEATURE TO TRAIN OUR MODEL."
   ]
  },
  {
   "cell_type": "code",
   "execution_count": 105,
   "metadata": {},
   "outputs": [
    {
     "data": {
      "text/plain": [
       "(364171, 11)"
      ]
     },
     "execution_count": 105,
     "metadata": {},
     "output_type": "execute_result"
    }
   ],
   "source": [
    "final.shape"
   ]
  },
  {
   "cell_type": "code",
   "execution_count": 106,
   "metadata": {},
   "outputs": [
    {
     "name": "stdout",
     "output_type": "stream",
     "text": [
      "364171\n"
     ]
    }
   ],
   "source": [
    "#Creating a list of lengths of all reviews\n",
    "length_of_reviews = []\n",
    "for i in preprocessed_reviews:\n",
    "    length_of_reviews.append(len(i))\n",
    "print(len(length_of_reviews))    "
   ]
  },
  {
   "cell_type": "code",
   "execution_count": 107,
   "metadata": {},
   "outputs": [
    {
     "name": "stdout",
     "output_type": "stream",
     "text": [
      "[222, 173, 98, 309, 230, 210, 302, 114, 99, 69]\n"
     ]
    }
   ],
   "source": [
    "print(length_of_reviews[:10])"
   ]
  },
  {
   "cell_type": "code",
   "execution_count": 108,
   "metadata": {},
   "outputs": [],
   "source": [
    "# adding length of reviews in amazon food fine reviews dataset\n",
    "final[\"length_of_reviews\"] = length_of_reviews"
   ]
  },
  {
   "cell_type": "code",
   "execution_count": 109,
   "metadata": {},
   "outputs": [
    {
     "data": {
      "text/plain": [
       "(364171, 12)"
      ]
     },
     "execution_count": 109,
     "metadata": {},
     "output_type": "execute_result"
    }
   ],
   "source": [
    "final.shape\n"
   ]
  },
  {
   "cell_type": "code",
   "execution_count": 110,
   "metadata": {},
   "outputs": [
    {
     "name": "stdout",
     "output_type": "stream",
     "text": [
      "(100000, 12)\n"
     ]
    },
    {
     "data": {
      "text/html": [
       "<div>\n",
       "<style scoped>\n",
       "    .dataframe tbody tr th:only-of-type {\n",
       "        vertical-align: middle;\n",
       "    }\n",
       "\n",
       "    .dataframe tbody tr th {\n",
       "        vertical-align: top;\n",
       "    }\n",
       "\n",
       "    .dataframe thead th {\n",
       "        text-align: right;\n",
       "    }\n",
       "</style>\n",
       "<table border=\"1\" class=\"dataframe\">\n",
       "  <thead>\n",
       "    <tr style=\"text-align: right;\">\n",
       "      <th></th>\n",
       "      <th>Id</th>\n",
       "      <th>ProductId</th>\n",
       "      <th>UserId</th>\n",
       "      <th>ProfileName</th>\n",
       "      <th>HelpfulnessNumerator</th>\n",
       "      <th>HelpfulnessDenominator</th>\n",
       "      <th>Score</th>\n",
       "      <th>Time</th>\n",
       "      <th>Summary</th>\n",
       "      <th>Text</th>\n",
       "      <th>cleaned_text</th>\n",
       "      <th>length_of_reviews</th>\n",
       "    </tr>\n",
       "  </thead>\n",
       "  <tbody>\n",
       "    <tr>\n",
       "      <td>222509</td>\n",
       "      <td>241289</td>\n",
       "      <td>B001W9L2GE</td>\n",
       "      <td>A2AUA0LHP10Z7O</td>\n",
       "      <td>Jared Mevissen</td>\n",
       "      <td>1</td>\n",
       "      <td>1</td>\n",
       "      <td>1</td>\n",
       "      <td>1282694400</td>\n",
       "      <td>Awesome stuff but price may be a bit high</td>\n",
       "      <td>This stuff is awesome however the price may be...</td>\n",
       "      <td>stuff awesome however price may bit high howev...</td>\n",
       "      <td>276</td>\n",
       "    </tr>\n",
       "    <tr>\n",
       "      <td>8875</td>\n",
       "      <td>9719</td>\n",
       "      <td>B001LXYA5Q</td>\n",
       "      <td>A1L00F5RGURLCU</td>\n",
       "      <td>Jamie</td>\n",
       "      <td>0</td>\n",
       "      <td>0</td>\n",
       "      <td>1</td>\n",
       "      <td>1261440000</td>\n",
       "      <td>Miracle? No. Fun? Absolutely!</td>\n",
       "      <td>Bought some of these after getting frustrated ...</td>\n",
       "      <td>bought getting frustrated not able grow plant ...</td>\n",
       "      <td>765</td>\n",
       "    </tr>\n",
       "    <tr>\n",
       "      <td>313968</td>\n",
       "      <td>339946</td>\n",
       "      <td>B001FA1DKA</td>\n",
       "      <td>A37GGAULI13P7Y</td>\n",
       "      <td>John C. Nielsen \"John Nielsen\"</td>\n",
       "      <td>6</td>\n",
       "      <td>6</td>\n",
       "      <td>1</td>\n",
       "      <td>1271894400</td>\n",
       "      <td>Great Macadamia Nuts</td>\n",
       "      <td>I ordered these after the ones I bought in Haw...</td>\n",
       "      <td>ordered ones bought hawaii gone fresh ones bou...</td>\n",
       "      <td>96</td>\n",
       "    </tr>\n",
       "    <tr>\n",
       "      <td>339577</td>\n",
       "      <td>367403</td>\n",
       "      <td>B0051CDE3W</td>\n",
       "      <td>A2YN5NM1O1HFZV</td>\n",
       "      <td>Shanat Lopez</td>\n",
       "      <td>1</td>\n",
       "      <td>1</td>\n",
       "      <td>1</td>\n",
       "      <td>1345334400</td>\n",
       "      <td>I think it's a biased opinion</td>\n",
       "      <td>Being of Mexican descent I grew up around Mexi...</td>\n",
       "      <td>mexican descent grew around mexican candy wier...</td>\n",
       "      <td>461</td>\n",
       "    </tr>\n",
       "    <tr>\n",
       "      <td>221477</td>\n",
       "      <td>240089</td>\n",
       "      <td>B001VJ0B0I</td>\n",
       "      <td>A3SMD3T0QTN109</td>\n",
       "      <td>Dustin</td>\n",
       "      <td>0</td>\n",
       "      <td>0</td>\n",
       "      <td>1</td>\n",
       "      <td>1350518400</td>\n",
       "      <td>A good normal dog food</td>\n",
       "      <td>For the money, this is an OK dog food in many ...</td>\n",
       "      <td>money ok dog food many respects first package ...</td>\n",
       "      <td>98</td>\n",
       "    </tr>\n",
       "  </tbody>\n",
       "</table>\n",
       "</div>"
      ],
      "text/plain": [
       "            Id   ProductId          UserId                     ProfileName  \\\n",
       "222509  241289  B001W9L2GE  A2AUA0LHP10Z7O                  Jared Mevissen   \n",
       "8875      9719  B001LXYA5Q  A1L00F5RGURLCU                           Jamie   \n",
       "313968  339946  B001FA1DKA  A37GGAULI13P7Y  John C. Nielsen \"John Nielsen\"   \n",
       "339577  367403  B0051CDE3W  A2YN5NM1O1HFZV                    Shanat Lopez   \n",
       "221477  240089  B001VJ0B0I  A3SMD3T0QTN109                          Dustin   \n",
       "\n",
       "        HelpfulnessNumerator  HelpfulnessDenominator  Score        Time  \\\n",
       "222509                     1                       1      1  1282694400   \n",
       "8875                       0                       0      1  1261440000   \n",
       "313968                     6                       6      1  1271894400   \n",
       "339577                     1                       1      1  1345334400   \n",
       "221477                     0                       0      1  1350518400   \n",
       "\n",
       "                                          Summary  \\\n",
       "222509  Awesome stuff but price may be a bit high   \n",
       "8875                Miracle? No. Fun? Absolutely!   \n",
       "313968                       Great Macadamia Nuts   \n",
       "339577              I think it's a biased opinion   \n",
       "221477                     A good normal dog food   \n",
       "\n",
       "                                                     Text  \\\n",
       "222509  This stuff is awesome however the price may be...   \n",
       "8875    Bought some of these after getting frustrated ...   \n",
       "313968  I ordered these after the ones I bought in Haw...   \n",
       "339577  Being of Mexican descent I grew up around Mexi...   \n",
       "221477  For the money, this is an OK dog food in many ...   \n",
       "\n",
       "                                             cleaned_text  length_of_reviews  \n",
       "222509  stuff awesome however price may bit high howev...                276  \n",
       "8875    bought getting frustrated not able grow plant ...                765  \n",
       "313968  ordered ones bought hawaii gone fresh ones bou...                 96  \n",
       "339577  mexican descent grew around mexican candy wier...                461  \n",
       "221477  money ok dog food many respects first package ...                 98  "
      ]
     },
     "execution_count": 110,
     "metadata": {},
     "output_type": "execute_result"
    }
   ],
   "source": [
    "#Randomly taking 50000 points from each positive and negative reviews due to less memory capacity\n",
    "data_pos_length = final[final[\"Score\"] ==1.0].sample(n = 50000)\n",
    "data_neg_length= final[final[\"Score\"] ==0.0].sample(n = 50000)\n",
    "\n",
    "\n",
    "#concatenating the positive and negative reviews data \n",
    "final_length_data= pd.concat([data_pos_length,data_neg_length],axis=0)\n",
    "\n",
    "print(final_length_data.shape)\n",
    "final_length_data.head()"
   ]
  },
  {
   "cell_type": "markdown",
   "metadata": {},
   "source": [
    "#### NOTE:\n",
    "1.The length of review is a Numerical feature. So, To deal with, we consider that the length of reviews are normally\n",
    "distributed.<br>\n",
    "2.We will plot pdf for both positive and negative reviews. Then, we will  calculate the probability for each query point of both classes using pdf.   \n"
   ]
  },
  {
   "cell_type": "markdown",
   "metadata": {},
   "source": [
    "#### PDF FOR POSITIVE REVIEWS."
   ]
  },
  {
   "cell_type": "code",
   "execution_count": 111,
   "metadata": {},
   "outputs": [
    {
     "name": "stdout",
     "output_type": "stream",
     "text": [
      "counts are [1.52128592e-03 8.68322780e-05 1.15927910e-05 2.79266115e-06\n",
      " 5.19564864e-07 1.94836824e-07 2.27309628e-07 3.24728040e-08\n",
      " 6.49456081e-08 9.74184121e-08]\n",
      "***********************************************************\n",
      "bin_edges are [   0.   615.9 1231.8 1847.7 2463.6 3079.5 3695.4 4311.3 4927.2 5543.1\n",
      " 6159. ]\n",
      "***********************************************************\n"
     ]
    },
    {
     "data": {
      "image/png": "[encoded data removed]",
      "text/plain": [
       "<Figure size 432x288 with 1 Axes>"
      ]
     },
     "metadata": {},
     "output_type": "display_data"
    }
   ],
   "source": [
    "counts,bin_edges = np.histogram(data_pos_length[\"length_of_reviews\"],bins=10,density=True)\n",
    "pdf = counts/counts.sum()\n",
    "cdf = np.cumsum(pdf)\n",
    "print(\"counts are\",counts)\n",
    "print(\"***********************************************************\")\n",
    "print(\"bin_edges are\",bin_edges)\n",
    "print(\"***********************************************************\")\n",
    "\n",
    "plt.plot(bin_edges[1:],pdf)\n",
    "#plt.plot(bin_edges[1:],cdf)\n",
    "plt.ylabel(\"normalized counts\")\n",
    "plt.xlabel(\"length_of_positive_reviews\")\n",
    "plt.title(\"pdf for positive reviews\")\n",
    "plt.show()"
   ]
  },
  {
   "cell_type": "markdown",
   "metadata": {},
   "source": [
    "#### PDF FOR NEGATIVE REVIEWS"
   ]
  },
  {
   "cell_type": "code",
   "execution_count": 112,
   "metadata": {},
   "outputs": [
    {
     "name": "stdout",
     "output_type": "stream",
     "text": [
      "counts are [1.36098830e-03 7.10879931e-05 9.50729663e-06 1.96503395e-06\n",
      " 7.51336512e-07 2.60078023e-07 1.15590233e-07 8.66926745e-08\n",
      " 5.77951163e-08 5.77951163e-08]\n",
      "***********************************************************\n",
      "bin_edges are [   0.   692.1 1384.2 2076.3 2768.4 3460.5 4152.6 4844.7 5536.8 6228.9\n",
      " 6921. ]\n",
      "***********************************************************\n"
     ]
    },
    {
     "data": {
      "image/png": "[encoded data removed]",
      "text/plain": [
       "<Figure size 432x288 with 1 Axes>"
      ]
     },
     "metadata": {},
     "output_type": "display_data"
    }
   ],
   "source": [
    "counts,bin_edges = np.histogram(data_neg_length[\"length_of_reviews\"],bins=10,density=True)\n",
    "pdf = counts/counts.sum()\n",
    "cdf = np.cumsum(pdf)\n",
    "print(\"counts are\",counts)\n",
    "print(\"***********************************************************\")\n",
    "print(\"bin_edges are\",bin_edges)\n",
    "print(\"***********************************************************\")\n",
    "\n",
    "plt.plot(bin_edges[1:],pdf)\n",
    "#plt.plot(bin_edges[1:],cdf)\n",
    "plt.ylabel(\"normalized counts\")\n",
    "plt.xlabel(\"length_of__negative_reviews\")\n",
    "plt.title(\"pdf for negative reviews\")\n",
    "plt.show()"
   ]
  },
  {
   "cell_type": "markdown",
   "metadata": {},
   "source": [
    "### OBSERVATION: \n",
    "1.The pdf of both the classes are not distributed normally.<br>\n",
    "2.It seems that positive and negative reviews are having power law distribution."
   ]
  },
  {
   "cell_type": "markdown",
   "metadata": {},
   "source": [
    "### CONCLUSION:\n",
    "1. Using length of reviews as a feature is not so helpful because these are not following any of these distribiutions-normal, binomial, and poisson's. It's difficult and lengthy to train a probablistic model which is not following above mentioned distributions.<br>\n",
    "2. There can be another method to calculate probablities- using power law transformation which transform power law distribution to normal distribution. But it's our assumption that above pdf is following power law distribution. Using it simply will not give a well working model as we are fully relying on assumptions."
   ]
  },
  {
   "cell_type": "markdown",
   "metadata": {},
   "source": [
    "### <font color = \"blue\"> CONSIDERING SUMMARY AS ANOTHER FEATURE FOR MODEL TRAINING."
   ]
  },
  {
   "cell_type": "code",
   "execution_count": 113,
   "metadata": {},
   "outputs": [],
   "source": [
    "### APPLYING ALL THE SAME METHODS AS DONE FOR TEXT REVIEWS."
   ]
  },
  {
   "cell_type": "code",
   "execution_count": 114,
   "metadata": {},
   "outputs": [
    {
     "name": "stdout",
     "output_type": "stream",
     "text": [
      "(364171, 12)\n",
      "*************************************************\n",
      "(364171, 13)\n",
      "*************************************************************************************\n",
      "(364171, 13)\n"
     ]
    },
    {
     "data": {
      "text/html": [
       "<div>\n",
       "<style scoped>\n",
       "    .dataframe tbody tr th:only-of-type {\n",
       "        vertical-align: middle;\n",
       "    }\n",
       "\n",
       "    .dataframe tbody tr th {\n",
       "        vertical-align: top;\n",
       "    }\n",
       "\n",
       "    .dataframe thead th {\n",
       "        text-align: right;\n",
       "    }\n",
       "</style>\n",
       "<table border=\"1\" class=\"dataframe\">\n",
       "  <thead>\n",
       "    <tr style=\"text-align: right;\">\n",
       "      <th></th>\n",
       "      <th>Id</th>\n",
       "      <th>ProductId</th>\n",
       "      <th>UserId</th>\n",
       "      <th>ProfileName</th>\n",
       "      <th>HelpfulnessNumerator</th>\n",
       "      <th>HelpfulnessDenominator</th>\n",
       "      <th>Score</th>\n",
       "      <th>Time</th>\n",
       "      <th>Summary</th>\n",
       "      <th>Text</th>\n",
       "      <th>cleaned_text</th>\n",
       "      <th>length_of_reviews</th>\n",
       "      <th>cleaned_summary</th>\n",
       "    </tr>\n",
       "  </thead>\n",
       "  <tbody>\n",
       "    <tr>\n",
       "      <td>138706</td>\n",
       "      <td>150524</td>\n",
       "      <td>0006641040</td>\n",
       "      <td>ACITT7DI6IDDL</td>\n",
       "      <td>shari zychinski</td>\n",
       "      <td>0</td>\n",
       "      <td>0</td>\n",
       "      <td>1</td>\n",
       "      <td>939340800</td>\n",
       "      <td>EVERY book is educational</td>\n",
       "      <td>this witty little book makes my son laugh at l...</td>\n",
       "      <td>witty little book makes son laugh loud recite ...</td>\n",
       "      <td>222</td>\n",
       "      <td>every book educational</td>\n",
       "    </tr>\n",
       "    <tr>\n",
       "      <td>138688</td>\n",
       "      <td>150506</td>\n",
       "      <td>0006641040</td>\n",
       "      <td>A2IW4PEEKO2R0U</td>\n",
       "      <td>Tracy</td>\n",
       "      <td>1</td>\n",
       "      <td>1</td>\n",
       "      <td>1</td>\n",
       "      <td>1194739200</td>\n",
       "      <td>Love the book, miss the hard cover version</td>\n",
       "      <td>I grew up reading these Sendak books, and watc...</td>\n",
       "      <td>grew reading sendak books watching really rosi...</td>\n",
       "      <td>173</td>\n",
       "      <td>love book miss hard cover version</td>\n",
       "    </tr>\n",
       "    <tr>\n",
       "      <td>138689</td>\n",
       "      <td>150507</td>\n",
       "      <td>0006641040</td>\n",
       "      <td>A1S4A3IQ2MU7V4</td>\n",
       "      <td>sally sue \"sally sue\"</td>\n",
       "      <td>1</td>\n",
       "      <td>1</td>\n",
       "      <td>1</td>\n",
       "      <td>1191456000</td>\n",
       "      <td>chicken soup with rice months</td>\n",
       "      <td>This is a fun way for children to learn their ...</td>\n",
       "      <td>fun way children learn months year learn poems...</td>\n",
       "      <td>98</td>\n",
       "      <td>chicken soup rice months</td>\n",
       "    </tr>\n",
       "    <tr>\n",
       "      <td>138690</td>\n",
       "      <td>150508</td>\n",
       "      <td>0006641040</td>\n",
       "      <td>AZGXZ2UUK6X</td>\n",
       "      <td>Catherine Hallberg \"(Kate)\"</td>\n",
       "      <td>1</td>\n",
       "      <td>1</td>\n",
       "      <td>1</td>\n",
       "      <td>1076025600</td>\n",
       "      <td>a good swingy rhythm for reading aloud</td>\n",
       "      <td>This is a great little book to read aloud- it ...</td>\n",
       "      <td>great little book read aloud nice rhythm well ...</td>\n",
       "      <td>309</td>\n",
       "      <td>good swingy rhythm reading aloud</td>\n",
       "    </tr>\n",
       "    <tr>\n",
       "      <td>138691</td>\n",
       "      <td>150509</td>\n",
       "      <td>0006641040</td>\n",
       "      <td>A3CMRKGE0P909G</td>\n",
       "      <td>Teresa</td>\n",
       "      <td>3</td>\n",
       "      <td>4</td>\n",
       "      <td>1</td>\n",
       "      <td>1018396800</td>\n",
       "      <td>A great way to learn the months</td>\n",
       "      <td>This is a book of poetry about the months of t...</td>\n",
       "      <td>book poetry months year goes month cute little...</td>\n",
       "      <td>230</td>\n",
       "      <td>great way learn months</td>\n",
       "    </tr>\n",
       "  </tbody>\n",
       "</table>\n",
       "</div>"
      ],
      "text/plain": [
       "            Id   ProductId          UserId                  ProfileName  \\\n",
       "138706  150524  0006641040   ACITT7DI6IDDL              shari zychinski   \n",
       "138688  150506  0006641040  A2IW4PEEKO2R0U                        Tracy   \n",
       "138689  150507  0006641040  A1S4A3IQ2MU7V4        sally sue \"sally sue\"   \n",
       "138690  150508  0006641040     AZGXZ2UUK6X  Catherine Hallberg \"(Kate)\"   \n",
       "138691  150509  0006641040  A3CMRKGE0P909G                       Teresa   \n",
       "\n",
       "        HelpfulnessNumerator  HelpfulnessDenominator  Score        Time  \\\n",
       "138706                     0                       0      1   939340800   \n",
       "138688                     1                       1      1  1194739200   \n",
       "138689                     1                       1      1  1191456000   \n",
       "138690                     1                       1      1  1076025600   \n",
       "138691                     3                       4      1  1018396800   \n",
       "\n",
       "                                           Summary  \\\n",
       "138706                   EVERY book is educational   \n",
       "138688  Love the book, miss the hard cover version   \n",
       "138689               chicken soup with rice months   \n",
       "138690      a good swingy rhythm for reading aloud   \n",
       "138691             A great way to learn the months   \n",
       "\n",
       "                                                     Text  \\\n",
       "138706  this witty little book makes my son laugh at l...   \n",
       "138688  I grew up reading these Sendak books, and watc...   \n",
       "138689  This is a fun way for children to learn their ...   \n",
       "138690  This is a great little book to read aloud- it ...   \n",
       "138691  This is a book of poetry about the months of t...   \n",
       "\n",
       "                                             cleaned_text  length_of_reviews  \\\n",
       "138706  witty little book makes son laugh loud recite ...                222   \n",
       "138688  grew reading sendak books watching really rosi...                173   \n",
       "138689  fun way children learn months year learn poems...                 98   \n",
       "138690  great little book read aloud nice rhythm well ...                309   \n",
       "138691  book poetry months year goes month cute little...                230   \n",
       "\n",
       "                          cleaned_summary  \n",
       "138706             every book educational  \n",
       "138688  love book miss hard cover version  \n",
       "138689           chicken soup rice months  \n",
       "138690   good swingy rhythm reading aloud  \n",
       "138691             great way learn months  "
      ]
     },
     "execution_count": 114,
     "metadata": {},
     "output_type": "execute_result"
    }
   ],
   "source": [
    "print(final.shape)\n",
    "print(\"*************************************************\")\n",
    "\n",
    "##adding cleaned_text column to the final dataframe\n",
    "final[\"cleaned_summary\"] = preprocessed_reviews_summary\n",
    "\n",
    "print(final.shape)\n",
    "print(\"*************************************************************************************\")\n",
    "#checking if any missing values is present in the reviews.\n",
    "final = final.dropna(axis=0, how='any', thresh=None, subset=None, inplace=False)\n",
    "\n",
    "print(final.shape)\n",
    "\n",
    "final.head()"
   ]
  },
  {
   "cell_type": "code",
   "execution_count": 115,
   "metadata": {},
   "outputs": [
    {
     "name": "stdout",
     "output_type": "stream",
     "text": [
      "(100000, 13)\n"
     ]
    },
    {
     "data": {
      "text/html": [
       "<div>\n",
       "<style scoped>\n",
       "    .dataframe tbody tr th:only-of-type {\n",
       "        vertical-align: middle;\n",
       "    }\n",
       "\n",
       "    .dataframe tbody tr th {\n",
       "        vertical-align: top;\n",
       "    }\n",
       "\n",
       "    .dataframe thead th {\n",
       "        text-align: right;\n",
       "    }\n",
       "</style>\n",
       "<table border=\"1\" class=\"dataframe\">\n",
       "  <thead>\n",
       "    <tr style=\"text-align: right;\">\n",
       "      <th></th>\n",
       "      <th>Id</th>\n",
       "      <th>ProductId</th>\n",
       "      <th>UserId</th>\n",
       "      <th>ProfileName</th>\n",
       "      <th>HelpfulnessNumerator</th>\n",
       "      <th>HelpfulnessDenominator</th>\n",
       "      <th>Score</th>\n",
       "      <th>Time</th>\n",
       "      <th>Summary</th>\n",
       "      <th>Text</th>\n",
       "      <th>cleaned_text</th>\n",
       "      <th>length_of_reviews</th>\n",
       "      <th>cleaned_summary</th>\n",
       "    </tr>\n",
       "  </thead>\n",
       "  <tbody>\n",
       "    <tr>\n",
       "      <td>175380</td>\n",
       "      <td>190200</td>\n",
       "      <td>B004APZYVG</td>\n",
       "      <td>A3DBXS2APREN5C</td>\n",
       "      <td>Tink</td>\n",
       "      <td>0</td>\n",
       "      <td>0</td>\n",
       "      <td>1</td>\n",
       "      <td>1339891200</td>\n",
       "      <td>Yum!</td>\n",
       "      <td>I love Cafe Escapes Cafe Mocha but it seems to...</td>\n",
       "      <td>love cafe escapes cafe mocha seems sell stores...</td>\n",
       "      <td>258</td>\n",
       "      <td>yum</td>\n",
       "    </tr>\n",
       "    <tr>\n",
       "      <td>22251</td>\n",
       "      <td>24355</td>\n",
       "      <td>B003VMY4KG</td>\n",
       "      <td>AX3T5TI76TOJ1</td>\n",
       "      <td>TurquoiseEyes13579 \"Author of &amp;#34;The Organi...</td>\n",
       "      <td>0</td>\n",
       "      <td>0</td>\n",
       "      <td>1</td>\n",
       "      <td>1338595200</td>\n",
       "      <td>Full of vitamins &amp; minerals, made with ingredi...</td>\n",
       "      <td>I'm allergic to soy protein, and it breaks me ...</td>\n",
       "      <td>allergic soy protein breaks terribly glad find...</td>\n",
       "      <td>711</td>\n",
       "      <td>full vitamins minerals made ingredients actual...</td>\n",
       "    </tr>\n",
       "    <tr>\n",
       "      <td>159358</td>\n",
       "      <td>172761</td>\n",
       "      <td>B000FVZW8E</td>\n",
       "      <td>A331T1MEPUCBYV</td>\n",
       "      <td>Suzanna Davis \"suzanna\"</td>\n",
       "      <td>0</td>\n",
       "      <td>0</td>\n",
       "      <td>1</td>\n",
       "      <td>1185408000</td>\n",
       "      <td>Good enough to snack on without a topping</td>\n",
       "      <td>Good with peanut butter, good alone.  Not too ...</td>\n",
       "      <td>good peanut butter good alone not sweet defini...</td>\n",
       "      <td>64</td>\n",
       "      <td>good enough snack without topping</td>\n",
       "    </tr>\n",
       "    <tr>\n",
       "      <td>280291</td>\n",
       "      <td>303702</td>\n",
       "      <td>B000E65OJW</td>\n",
       "      <td>AK5LUYO0MMBVV</td>\n",
       "      <td>T. Blankenbaker</td>\n",
       "      <td>0</td>\n",
       "      <td>0</td>\n",
       "      <td>1</td>\n",
       "      <td>1191888000</td>\n",
       "      <td>Doesn't taste herbal</td>\n",
       "      <td>This tea is herbal, but tastes like a smooth r...</td>\n",
       "      <td>tea herbal tastes like smooth regular tea make...</td>\n",
       "      <td>243</td>\n",
       "      <td>not taste herbal</td>\n",
       "    </tr>\n",
       "    <tr>\n",
       "      <td>108168</td>\n",
       "      <td>117416</td>\n",
       "      <td>B001AVK422</td>\n",
       "      <td>A2C7VMQESBQZN4</td>\n",
       "      <td>B. Devine</td>\n",
       "      <td>6</td>\n",
       "      <td>6</td>\n",
       "      <td>1</td>\n",
       "      <td>1243987200</td>\n",
       "      <td>great farro resotto</td>\n",
       "      <td>Made this risotto with farro rather than rice ...</td>\n",
       "      <td>made risotto farro rather rice using standard ...</td>\n",
       "      <td>167</td>\n",
       "      <td>great farro resotto</td>\n",
       "    </tr>\n",
       "  </tbody>\n",
       "</table>\n",
       "</div>"
      ],
      "text/plain": [
       "            Id   ProductId          UserId  \\\n",
       "175380  190200  B004APZYVG  A3DBXS2APREN5C   \n",
       "22251    24355  B003VMY4KG   AX3T5TI76TOJ1   \n",
       "159358  172761  B000FVZW8E  A331T1MEPUCBYV   \n",
       "280291  303702  B000E65OJW   AK5LUYO0MMBVV   \n",
       "108168  117416  B001AVK422  A2C7VMQESBQZN4   \n",
       "\n",
       "                                             ProfileName  \\\n",
       "175380                                              Tink   \n",
       "22251   TurquoiseEyes13579 \"Author of &#34;The Organi...   \n",
       "159358                           Suzanna Davis \"suzanna\"   \n",
       "280291                                   T. Blankenbaker   \n",
       "108168                                         B. Devine   \n",
       "\n",
       "        HelpfulnessNumerator  HelpfulnessDenominator  Score        Time  \\\n",
       "175380                     0                       0      1  1339891200   \n",
       "22251                      0                       0      1  1338595200   \n",
       "159358                     0                       0      1  1185408000   \n",
       "280291                     0                       0      1  1191888000   \n",
       "108168                     6                       6      1  1243987200   \n",
       "\n",
       "                                                  Summary  \\\n",
       "175380                                               Yum!   \n",
       "22251   Full of vitamins & minerals, made with ingredi...   \n",
       "159358          Good enough to snack on without a topping   \n",
       "280291                               Doesn't taste herbal   \n",
       "108168                                great farro resotto   \n",
       "\n",
       "                                                     Text  \\\n",
       "175380  I love Cafe Escapes Cafe Mocha but it seems to...   \n",
       "22251   I'm allergic to soy protein, and it breaks me ...   \n",
       "159358  Good with peanut butter, good alone.  Not too ...   \n",
       "280291  This tea is herbal, but tastes like a smooth r...   \n",
       "108168  Made this risotto with farro rather than rice ...   \n",
       "\n",
       "                                             cleaned_text  length_of_reviews  \\\n",
       "175380  love cafe escapes cafe mocha seems sell stores...                258   \n",
       "22251   allergic soy protein breaks terribly glad find...                711   \n",
       "159358  good peanut butter good alone not sweet defini...                 64   \n",
       "280291  tea herbal tastes like smooth regular tea make...                243   \n",
       "108168  made risotto farro rather rice using standard ...                167   \n",
       "\n",
       "                                          cleaned_summary  \n",
       "175380                                                yum  \n",
       "22251   full vitamins minerals made ingredients actual...  \n",
       "159358                  good enough snack without topping  \n",
       "280291                                   not taste herbal  \n",
       "108168                                great farro resotto  "
      ]
     },
     "execution_count": 115,
     "metadata": {},
     "output_type": "execute_result"
    }
   ],
   "source": [
    "#Randomly taking 40000 points from each positive and negative reviews due to less memory capacity\n",
    "data_pos_summ = final[final[\"Score\"] ==1.0].sample(n = 50000)\n",
    "data_neg_summ = final[final[\"Score\"] ==0.0].sample(n = 50000)\n",
    "\n",
    "\n",
    "#concatenating the positive and negative reviews data \n",
    "final_cleaned_summ_data = pd.concat([data_pos_summ,data_neg_summ],axis=0)\n",
    "\n",
    "print(final_cleaned_summ_data.shape)\n",
    "final_cleaned_summ_data.head()"
   ]
  },
  {
   "cell_type": "markdown",
   "metadata": {},
   "source": [
    "#### Note:\n",
    "Time based splitting of the reviews."
   ]
  },
  {
   "cell_type": "code",
   "execution_count": 116,
   "metadata": {},
   "outputs": [
    {
     "data": {
      "text/html": [
       "<div>\n",
       "<style scoped>\n",
       "    .dataframe tbody tr th:only-of-type {\n",
       "        vertical-align: middle;\n",
       "    }\n",
       "\n",
       "    .dataframe tbody tr th {\n",
       "        vertical-align: top;\n",
       "    }\n",
       "\n",
       "    .dataframe thead th {\n",
       "        text-align: right;\n",
       "    }\n",
       "</style>\n",
       "<table border=\"1\" class=\"dataframe\">\n",
       "  <thead>\n",
       "    <tr style=\"text-align: right;\">\n",
       "      <th></th>\n",
       "      <th>Id</th>\n",
       "      <th>ProductId</th>\n",
       "      <th>UserId</th>\n",
       "      <th>ProfileName</th>\n",
       "      <th>HelpfulnessNumerator</th>\n",
       "      <th>HelpfulnessDenominator</th>\n",
       "      <th>Score</th>\n",
       "      <th>Time</th>\n",
       "      <th>Summary</th>\n",
       "      <th>Text</th>\n",
       "      <th>cleaned_text</th>\n",
       "      <th>length_of_reviews</th>\n",
       "      <th>cleaned_summary</th>\n",
       "    </tr>\n",
       "  </thead>\n",
       "  <tbody>\n",
       "    <tr>\n",
       "      <td>417839</td>\n",
       "      <td>451856</td>\n",
       "      <td>B00004CXX9</td>\n",
       "      <td>AIUWLEQ1ADEG5</td>\n",
       "      <td>Elizabeth Medina</td>\n",
       "      <td>0</td>\n",
       "      <td>0</td>\n",
       "      <td>1</td>\n",
       "      <td>1999-12-02</td>\n",
       "      <td>Entertainingl Funny!</td>\n",
       "      <td>Beetlejuice is a well written movie ..... ever...</td>\n",
       "      <td>beetlejuice well written movie everything exce...</td>\n",
       "      <td>101</td>\n",
       "      <td>entertainingl funny</td>\n",
       "    </tr>\n",
       "    <tr>\n",
       "      <td>417838</td>\n",
       "      <td>451855</td>\n",
       "      <td>B00004CXX9</td>\n",
       "      <td>AJH6LUC1UT1ON</td>\n",
       "      <td>The Phantom of the Opera</td>\n",
       "      <td>0</td>\n",
       "      <td>0</td>\n",
       "      <td>1</td>\n",
       "      <td>2000-01-03</td>\n",
       "      <td>FANTASTIC!</td>\n",
       "      <td>Beetlejuice is an excellent and funny movie. K...</td>\n",
       "      <td>beetlejuice excellent funny movie keaton hilar...</td>\n",
       "      <td>171</td>\n",
       "      <td>fantastic</td>\n",
       "    </tr>\n",
       "    <tr>\n",
       "      <td>346094</td>\n",
       "      <td>374400</td>\n",
       "      <td>B00004CI84</td>\n",
       "      <td>A2DEE7F9XKP3ZR</td>\n",
       "      <td>jerome</td>\n",
       "      <td>0</td>\n",
       "      <td>3</td>\n",
       "      <td>1</td>\n",
       "      <td>2000-06-03</td>\n",
       "      <td>Research - Beatlejuice video - French version</td>\n",
       "      <td>I'm getting crazy.I'm looking for Beatlejuice ...</td>\n",
       "      <td>getting crazy looking beatlejuice french versi...</td>\n",
       "      <td>145</td>\n",
       "      <td>research beatlejuice video french version</td>\n",
       "    </tr>\n",
       "    <tr>\n",
       "      <td>1146</td>\n",
       "      <td>1245</td>\n",
       "      <td>B00002Z754</td>\n",
       "      <td>A29Z5PI9BW2PU3</td>\n",
       "      <td>Robbie</td>\n",
       "      <td>7</td>\n",
       "      <td>7</td>\n",
       "      <td>1</td>\n",
       "      <td>2000-06-23</td>\n",
       "      <td>Great Product</td>\n",
       "      <td>This was a really good idea and the final prod...</td>\n",
       "      <td>really good idea final product outstanding use...</td>\n",
       "      <td>109</td>\n",
       "      <td>great product</td>\n",
       "    </tr>\n",
       "    <tr>\n",
       "      <td>138001</td>\n",
       "      <td>149770</td>\n",
       "      <td>B00004S1C5</td>\n",
       "      <td>A1KXONFPU2XQ5K</td>\n",
       "      <td>Stephanie Manley</td>\n",
       "      <td>8</td>\n",
       "      <td>8</td>\n",
       "      <td>1</td>\n",
       "      <td>2000-08-09</td>\n",
       "      <td>Very easy to use</td>\n",
       "      <td>This are so much easier to use than the Wilson...</td>\n",
       "      <td>much easier use wilson paste colors colors vib...</td>\n",
       "      <td>155</td>\n",
       "      <td>easy use</td>\n",
       "    </tr>\n",
       "  </tbody>\n",
       "</table>\n",
       "</div>"
      ],
      "text/plain": [
       "            Id   ProductId          UserId               ProfileName  \\\n",
       "417839  451856  B00004CXX9   AIUWLEQ1ADEG5          Elizabeth Medina   \n",
       "417838  451855  B00004CXX9   AJH6LUC1UT1ON  The Phantom of the Opera   \n",
       "346094  374400  B00004CI84  A2DEE7F9XKP3ZR                    jerome   \n",
       "1146      1245  B00002Z754  A29Z5PI9BW2PU3                    Robbie   \n",
       "138001  149770  B00004S1C5  A1KXONFPU2XQ5K          Stephanie Manley   \n",
       "\n",
       "        HelpfulnessNumerator  HelpfulnessDenominator  Score       Time  \\\n",
       "417839                     0                       0      1 1999-12-02   \n",
       "417838                     0                       0      1 2000-01-03   \n",
       "346094                     0                       3      1 2000-06-03   \n",
       "1146                       7                       7      1 2000-06-23   \n",
       "138001                     8                       8      1 2000-08-09   \n",
       "\n",
       "                                              Summary  \\\n",
       "417839                           Entertainingl Funny!   \n",
       "417838                                     FANTASTIC!   \n",
       "346094  Research - Beatlejuice video - French version   \n",
       "1146                                    Great Product   \n",
       "138001                               Very easy to use   \n",
       "\n",
       "                                                     Text  \\\n",
       "417839  Beetlejuice is a well written movie ..... ever...   \n",
       "417838  Beetlejuice is an excellent and funny movie. K...   \n",
       "346094  I'm getting crazy.I'm looking for Beatlejuice ...   \n",
       "1146    This was a really good idea and the final prod...   \n",
       "138001  This are so much easier to use than the Wilson...   \n",
       "\n",
       "                                             cleaned_text  length_of_reviews  \\\n",
       "417839  beetlejuice well written movie everything exce...                101   \n",
       "417838  beetlejuice excellent funny movie keaton hilar...                171   \n",
       "346094  getting crazy looking beatlejuice french versi...                145   \n",
       "1146    really good idea final product outstanding use...                109   \n",
       "138001  much easier use wilson paste colors colors vib...                155   \n",
       "\n",
       "                                  cleaned_summary  \n",
       "417839                        entertainingl funny  \n",
       "417838                                  fantastic  \n",
       "346094  research beatlejuice video french version  \n",
       "1146                                great product  \n",
       "138001                                   easy use  "
      ]
     },
     "execution_count": 116,
     "metadata": {},
     "output_type": "execute_result"
    }
   ],
   "source": [
    "#time based splitting of the data\n",
    "#converting time to date and time\n",
    "final_cleaned_summ_data[\"Time\"] = pd.to_datetime(final_cleaned_summ_data[\"Time\"],unit=\"s\")\n",
    "final_cleaned_summ_data = final_cleaned_summ_data.sort_values(by = \"Time\")\n",
    "final_cleaned_summ_data.head()"
   ]
  },
  {
   "cell_type": "markdown",
   "metadata": {},
   "source": [
    "### HYPERPARAMETER TUNING:<font color = \"red\"> CROSS VALIDATION"
   ]
  },
  {
   "attachments": {
    "image.png": {
     "image/png": "[encoded data removed]"
    }
   },
   "cell_type": "markdown",
   "metadata": {},
   "source": [
    "The amazon food fine reviews is a time series data. Considering the variations in future data, we should find hyperparameter in such a way that the performance of model would not get affected much by different reviews.\n",
    "\n",
    "#### NOTE:\n",
    "For above purpose we will do time series split of data and find the hyperparameter using nested crossvalidation: Day-Forward Chaining method.\n",
    "![image.png](attachment:image.png)"
   ]
  },
  {
   "cell_type": "code",
   "execution_count": 118,
   "metadata": {},
   "outputs": [
    {
     "name": "stdout",
     "output_type": "stream",
     "text": [
      "(25000, 1)\n",
      "(25000, 1)\n",
      "(25000, 1)\n",
      "(25000, 1)\n",
      "***********************************************************\n",
      "(17500, 1)\n",
      "(7500, 1)\n",
      "(17500, 1)\n",
      "(7500, 1)\n",
      "************************************************************\n",
      "[[0.9738341977370579, 0.9737825167558389, 0.9734108214883868, 0.9707360708394595, 0.9572933118906569, 0.9313360393217904, 0.905048384286343, 0.8917883878379111, 0.8890906486143054]]\n",
      "************************************************************\n",
      "[[0.8583139786660772, 0.8632182804213151, 0.8753223372006429, 0.8970833008691934, 0.9134097131498793, 0.9112771906046665, 0.8976244222138067, 0.8863408172990682, 0.8840117342011375]]\n",
      "###################################################################\n",
      "(50000, 1)\n",
      "(50000, 1)\n",
      "(25000, 1)\n",
      "(25000, 1)\n",
      "***********************************************************\n",
      "(35000, 1)\n",
      "(15000, 1)\n",
      "(35000, 1)\n",
      "(15000, 1)\n",
      "************************************************************\n",
      "[[0.9738341977370579, 0.9737825167558389, 0.9734108214883868, 0.9707360708394595, 0.9572933118906569, 0.9313360393217904, 0.905048384286343, 0.8917883878379111, 0.8890906486143054], [0.9676875956574379, 0.9676382409777342, 0.9672953844441384, 0.9649759044245056, 0.954488313327922, 0.9359272960378566, 0.9151376752588868, 0.8985426128278367, 0.8937751708211571]]\n",
      "************************************************************\n",
      "[[0.8583139786660772, 0.8632182804213151, 0.8753223372006429, 0.8970833008691934, 0.9134097131498793, 0.9112771906046665, 0.8976244222138067, 0.8863408172990682, 0.8840117342011375], [0.8717043742582526, 0.8758765091502863, 0.8861262741778393, 0.9046488765798147, 0.9188799091008302, 0.9183066640134289, 0.9047177731389173, 0.8877951138481709, 0.8832394762068555]]\n",
      "###################################################################\n",
      "(75000, 1)\n",
      "(75000, 1)\n",
      "(25000, 1)\n",
      "(25000, 1)\n",
      "***********************************************************\n",
      "(52500, 1)\n",
      "(22500, 1)\n",
      "(52500, 1)\n",
      "(22500, 1)\n",
      "************************************************************\n",
      "[[0.9738341977370579, 0.9737825167558389, 0.9734108214883868, 0.9707360708394595, 0.9572933118906569, 0.9313360393217904, 0.905048384286343, 0.8917883878379111, 0.8890906486143054], [0.9676875956574379, 0.9676382409777342, 0.9672953844441384, 0.9649759044245056, 0.954488313327922, 0.9359272960378566, 0.9151376752588868, 0.8985426128278367, 0.8937751708211571], [0.9636695935907609, 0.9636117695693043, 0.963269877982676, 0.9611450284939855, 0.9519847638385774, 0.9358876434327414, 0.9169408050670657, 0.8992722366254841, 0.8929973742345174]]\n",
      "************************************************************\n",
      "[[0.8583139786660772, 0.8632182804213151, 0.8753223372006429, 0.8970833008691934, 0.9134097131498793, 0.9112771906046665, 0.8976244222138067, 0.8863408172990682, 0.8840117342011375], [0.8717043742582526, 0.8758765091502863, 0.8861262741778393, 0.9046488765798147, 0.9188799091008302, 0.9183066640134289, 0.9047177731389173, 0.8877951138481709, 0.8832394762068555], [0.8819186834535402, 0.885602371092209, 0.8945243186893012, 0.9098045721715909, 0.9224191683437144, 0.9231770865538346, 0.9122274702877595, 0.8962303735047079, 0.8900624361538223]]\n",
      "###################################################################\n"
     ]
    }
   ],
   "source": [
    "\n",
    "X = np.array(final_cleaned_summ_data.loc[:,[\"cleaned_summary\"]])  #getting all preprocessed text values\n",
    "Y = np.array(final_cleaned_summ_data.loc[:,[\"Score\"]]) #getting all scores values\n",
    "from sklearn.metrics import roc_auc_score\n",
    "from sklearn.naive_bayes import MultinomialNB\n",
    "from sklearn.model_selection import train_test_split\n",
    "\n",
    "roc_auc_train_mean = []\n",
    "roc_auc_cv_mean = []\n",
    "## USING TIMESERIES DATA SPLIT\n",
    "tscv = TimeSeriesSplit(n_splits = 3)\n",
    "for train_index,test_index in tscv.split(X):\n",
    "    x_train , x_test = X[train_index],X[test_index]\n",
    "    y_train , y_test =  Y[train_index], Y[test_index]\n",
    "    print(x_train.shape)   \n",
    "    print(y_train.shape)\n",
    "    print(x_test.shape)\n",
    "    print(y_test.shape)\n",
    "    print(\"***********************************************************\")\n",
    "    \n",
    "    ####splitting the x_train data into x_train and x_crossval for finding alpha value\n",
    "    x_train , x_cv ,y_train , y_cv = model_selection.train_test_split(x_train,y_train,test_size = 0.3,random_state =42)\n",
    "    print(x_train.shape)\n",
    "    print(x_cv.shape)\n",
    "    print(y_train.shape)\n",
    "    print(y_cv.shape)\n",
    "    print(\"************************************************************\")\n",
    "    \n",
    "    ### converting the x_train,x_cv into vectors to fit the model.\n",
    "    x_train_tfidf = pd.DataFrame(x_train,columns = [\"text\"])\n",
    "    x_cv_tfidf = pd.DataFrame(x_cv,columns = [\"text\"])\n",
    "    \n",
    "    tfidf_vec = TfidfVectorizer()\n",
    "    tfidf_vec.fit(x_train_tfidf[\"text\"].values.astype('U'))\n",
    "    \n",
    "    x_train_tfidf = tfidf_vec.transform(x_train_tfidf[\"text\"].values.astype('U'))\n",
    "    x_cv_tfidf = tfidf_vec.transform(x_cv_tfidf[\"text\"].values.astype('U'))\n",
    "    \n",
    "    ## finding auc score value for each set of train and cross val\n",
    "\n",
    "\n",
    "\n",
    "    roc_auc_train=[]\n",
    "    roc_auc_cv = []\n",
    "\n",
    "    alpha_values = [10**-4,10**-3,10**-2,10**-1,1,10**1,10**2,10**3,10**4]   # taking odd values of k.\n",
    "\n",
    "    for i in alpha_values:\n",
    "    \n",
    "        naive_bayes  = MultinomialNB(alpha = i,class_prior=[0.5,0.5] )\n",
    "        naive_bayes.fit(x_train_tfidf,y_train.ravel())\n",
    "    \n",
    "        y_train_score = naive_bayes.predict_proba(x_train_tfidf)[:,1]\n",
    "        y_cv_score = naive_bayes.predict_proba(x_cv_tfidf)[:,1]          \n",
    "\n",
    "        roc_auc_train.append(roc_auc_score(y_train,y_train_score))\n",
    "        roc_auc_cv.append(roc_auc_score(y_cv,y_cv_score)) \n",
    "        \n",
    "    roc_auc_train_mean.append(roc_auc_train)\n",
    "    roc_auc_cv_mean.append(roc_auc_cv) \n",
    "    print(roc_auc_train_mean)\n",
    "    print(\"************************************************************\")\n",
    "    print(roc_auc_cv_mean)\n",
    "    print(\"###################################################################\")\n",
    "\n",
    "\n",
    "\n"
   ]
  },
  {
   "cell_type": "code",
   "execution_count": 119,
   "metadata": {},
   "outputs": [
    {
     "name": "stdout",
     "output_type": "stream",
     "text": [
      "[0.96839713 0.96834418 0.96799203 0.965619   0.9545888  0.93438366\n",
      " 0.91237562 0.89653441 0.8919544 ]\n",
      "********************************************\n",
      "[0.87064568 0.87489905 0.88532431 0.90384558 0.91823626 0.91758698\n",
      " 0.90485656 0.8901221  0.88577122]\n"
     ]
    }
   ],
   "source": [
    "#FINDING MEAN\n",
    "a = np.array(roc_auc_train_mean)\n",
    "b = np.array(roc_auc_cv_mean)\n",
    "print(np.mean(a,axis=0))\n",
    "print(\"********************************************\")\n",
    "print(np.mean(b,axis=0))"
   ]
  },
  {
   "cell_type": "code",
   "execution_count": 120,
   "metadata": {},
   "outputs": [
    {
     "data": {
      "image/png": "[encoded data removed]",
      "text/plain": [
       "<Figure size 432x288 with 1 Axes>"
      ]
     },
     "metadata": {},
     "output_type": "display_data"
    }
   ],
   "source": [
    "#GRAPH\n",
    "\n",
    "plt.plot(np.log10(alpha_values),np.mean(a,axis=0),label =\"auc_train\",linestyle = \"dashed\")\n",
    "plt.scatter(np.log10(alpha_values),np.mean(a,axis=0))\n",
    "plt.plot(np.log10(alpha_values),np.mean(b,axis=0),label =\"auc_cv\",linestyle = \"dashed\")\n",
    "plt.scatter(np.log10(alpha_values),np.mean(b,axis=0))\n",
    "plt.xlabel(\"alpha\")\n",
    "plt.ylabel(\"Auc value\")\n",
    "plt.legend()\n",
    "plt.title(\"Error plot\")\n",
    "plt.show()"
   ]
  },
  {
   "cell_type": "markdown",
   "metadata": {},
   "source": [
    "#### OBSERVATION:\n",
    "The optimal value of alpha is 100"
   ]
  },
  {
   "cell_type": "markdown",
   "metadata": {},
   "source": [
    "##### CONVERTING SUMMARY  INTO TFIDF VECTOR REPRESENTATION"
   ]
  },
  {
   "cell_type": "code",
   "execution_count": 121,
   "metadata": {},
   "outputs": [
    {
     "name": "stdout",
     "output_type": "stream",
     "text": [
      "(75000, 1) (75000, 1)\n",
      "(25000, 1) (25000, 1)\n"
     ]
    }
   ],
   "source": [
    "tscv = TimeSeriesSplit(n_splits = 3)\n",
    "for train_index,test_index in tscv.split(X):\n",
    "    x_train , x_test = X[train_index],X[test_index]\n",
    "    y_train , y_test =  Y[train_index], Y[test_index]\n",
    "print(x_train.shape,y_train.shape)   \n",
    "\n",
    "print(x_test.shape,y_test.shape)\n",
    "  "
   ]
  },
  {
   "cell_type": "code",
   "execution_count": 122,
   "metadata": {},
   "outputs": [],
   "source": [
    "#converting train,cross validation , and test data into vectors using BOW representation\n",
    "\n",
    "x_train_summ = pd.DataFrame(x_train,columns = [\"text\"])\n",
    "x_test_summ = pd.DataFrame(x_test,columns = [\"text\"])\n",
    "\n",
    "\n",
    "#########################################################################\n",
    "tfidf_vec = TfidfVectorizer()\n",
    "tfidf_vec.fit(x_train_summ[\"text\"].values.astype('U'))\n",
    "\n",
    "\n",
    "################################################################################\n",
    "\n",
    "x_train_summ_tfidf = tfidf_vec.transform(x_train_summ[\"text\"].values.astype('U'))\n",
    "x_test_summ_tfidf = tfidf_vec.transform(x_test_summ[\"text\"].values.astype('U'))\n",
    "\n"
   ]
  },
  {
   "cell_type": "markdown",
   "metadata": {},
   "source": [
    "##### TRAINING THE MODEL AND PREDICTING LABELS"
   ]
  },
  {
   "cell_type": "code",
   "execution_count": 123,
   "metadata": {},
   "outputs": [
    {
     "data": {
      "text/plain": [
       "MultinomialNB(alpha=100, class_prior=[0.5, 0.5], fit_prior=True)"
      ]
     },
     "execution_count": 123,
     "metadata": {},
     "output_type": "execute_result"
    }
   ],
   "source": [
    "naive_bayes_summ_tfidf = MultinomialNB(alpha = 100,class_prior=[0.5,0.5])\n",
    "naive_bayes_summ_tfidf.fit(x_train_summ_tfidf,y_train.ravel())"
   ]
  },
  {
   "cell_type": "code",
   "execution_count": 124,
   "metadata": {},
   "outputs": [],
   "source": [
    "#predicting the responses \n",
    "pred_summ_tfidf = naive_bayes_summ_tfidf.predict(x_test_summ_tfidf)"
   ]
  },
  {
   "cell_type": "code",
   "execution_count": 125,
   "metadata": {},
   "outputs": [
    {
     "name": "stdout",
     "output_type": "stream",
     "text": [
      "['aa', 'aaa', 'aaaamaaaazing', 'aaaarrrrrgggghhhhh', 'aaah', 'aachener', 'aack', 'abalone', 'abbey', 'abc', 'abdominal', 'abi', 'abide', 'able', 'aboard', 'abomination', 'abominations', 'abounds', 'absence', 'absent']\n"
     ]
    }
   ],
   "source": [
    "#all the features names\n",
    "tfidf_summ_features = tfidf_vec.get_feature_names()\n",
    "print(tfidf_summ_features[:20])"
   ]
  },
  {
   "cell_type": "code",
   "execution_count": 126,
   "metadata": {},
   "outputs": [
    {
     "name": "stdout",
     "output_type": "stream",
     "text": [
      "(2, 14406)\n"
     ]
    }
   ],
   "source": [
    "# Empirical log probability of features given a class(i.e. P(x_i|y))\n",
    "\n",
    "log_prob_summ_tfidf = naive_bayes_summ_tfidf.feature_log_prob_\n",
    "log_prob_summ_tfidf\n",
    "print(log_prob_summ_tfidf.shape)\n"
   ]
  },
  {
   "cell_type": "code",
   "execution_count": 127,
   "metadata": {},
   "outputs": [
    {
     "name": "stdout",
     "output_type": "stream",
     "text": [
      "                           0         1\n",
      "aa                 -9.615497 -9.610909\n",
      "aaa                -9.615497 -9.606895\n",
      "aaaamaaaazing      -9.615497 -9.606895\n",
      "aaaarrrrrgggghhhhh -9.605547 -9.616846\n",
      "aaah               -9.615497 -9.609085\n"
     ]
    }
   ],
   "source": [
    "#making dataframes of features\n",
    "feature_prob_summ_tfidf = pd.DataFrame(log_prob_summ_tfidf, columns = tfidf_summ_features)\n",
    "feature_prob_tr_summ_tfidf = feature_prob_summ_tfidf.T\n",
    "feature_prob_tr_summ_tfidf.shape\n",
    "print(feature_prob_tr_summ_tfidf.head())"
   ]
  },
  {
   "cell_type": "code",
   "execution_count": 128,
   "metadata": {},
   "outputs": [
    {
     "name": "stdout",
     "output_type": "stream",
     "text": [
      "Top 10 Negative Features:-\n",
      " not            -6.252615\n",
      "good           -7.492265\n",
      "taste          -7.504498\n",
      "disappointed   -7.634702\n",
      "like           -7.691616\n",
      "bad            -7.833870\n",
      "product        -7.958295\n",
      "yuck           -7.996274\n",
      "terrible       -8.002590\n",
      "no             -8.011094\n",
      "Name: 0, dtype: float64\n"
     ]
    }
   ],
   "source": [
    "# To show top 10 feature from both class\n",
    "# Feature Importance\n",
    "print(\"Top 10 Negative Features:-\\n\",feature_prob_tr_summ_tfidf[0].sort_values(ascending = False)[0:10])\n"
   ]
  },
  {
   "cell_type": "code",
   "execution_count": 129,
   "metadata": {},
   "outputs": [
    {
     "name": "stdout",
     "output_type": "stream",
     "text": [
      "\n",
      "\n",
      " Top 10 Positive Features:-\n",
      " great       -6.433286\n",
      "good        -6.809007\n",
      "best        -7.029609\n",
      "love        -7.083469\n",
      "delicious   -7.182198\n",
      "product     -7.460232\n",
      "coffee      -7.492856\n",
      "tea         -7.508825\n",
      "yummy       -7.578449\n",
      "excellent   -7.595957\n",
      "Name: 1, dtype: float64\n"
     ]
    }
   ],
   "source": [
    "print(\"\\n\\n Top 10 Positive Features:-\\n\",feature_prob_tr_summ_tfidf[1].sort_values(ascending = False)[0:10])"
   ]
  },
  {
   "cell_type": "markdown",
   "metadata": {},
   "source": [
    "##### PERFORMANCE METRICS"
   ]
  },
  {
   "cell_type": "code",
   "execution_count": 132,
   "metadata": {},
   "outputs": [
    {
     "name": "stdout",
     "output_type": "stream",
     "text": [
      "\n",
      "Train accuracy=85.164000%\n",
      "\n",
      "Test accuracy=8.360800e+01% \n",
      "\n",
      "Train ROC value=0.919191\n",
      "\n",
      "Test ROC value=0.913697\n",
      "\n",
      "precision=81.243440%\n",
      "\n",
      "recall=85.004646%\n",
      "\n",
      "F1-Score=83.081496%\n"
     ]
    }
   ],
   "source": [
    "pred_summ_tfidf = naive_bayes_summ_tfidf.predict(x_test_summ_tfidf)\n",
    "#train test accuracy\n",
    "train_acc_summ_tfidf = naive_bayes_summ_tfidf.score(x_train_summ_tfidf,y_train.ravel())\n",
    "test_acc_summ_tfidf = naive_bayes_summ_tfidf.score(x_test_summ_tfidf,y_test)\n",
    "\n",
    "#train test ROC value\n",
    "y_scores_summ_tfidf_train = naive_bayes_summ_tfidf.predict_proba(x_train_summ_tfidf)\n",
    "fpr,tpr,thresholds = roc_curve(y_train,y_scores_summ_tfidf_train[:,1])     # only positive y_scores to be comsidered\n",
    "roc_auc_train_summ_tfidf = auc(fpr,tpr)\n",
    "\n",
    "y_scores_summ_tfidf_test = naive_bayes_summ_tfidf.predict_proba(x_test_summ_tfidf)\n",
    "fpr_1,tpr_1,thresholds = roc_curve(y_test,y_scores_summ_tfidf_test[:,1])     # only positive y_scores to be comsidered\n",
    "roc_auc_test_summ_tfidf = auc(fpr_1,tpr_1)\n",
    "\n",
    "#Precision , recall and f1_score \n",
    "pre_summ_tfidf = precision_score(y_test, pred_summ_tfidf) * 100\n",
    "rec_summ_tfidf = recall_score(y_test, pred_summ_tfidf) * 100\n",
    "f1_summ_tfidf = f1_score(y_test, pred_summ_tfidf) * 100\n",
    "\n",
    "\n",
    "print(\"\\nTrain accuracy=%f%%\"% (train_acc_summ_tfidf*100))\n",
    "print(\"\\nTest accuracy=%e%% \"% (test_acc_summ_tfidf*100))\n",
    "print(\"\\nTrain ROC value=%f\"% (roc_auc_train_summ_tfidf))\n",
    "print(\"\\nTest ROC value=%f\"% (roc_auc_test_summ_tfidf))\n",
    "print('\\nprecision=%f%%' % (pre_summ_tfidf))\n",
    "print('\\nrecall=%f%%' % (rec_summ_tfidf))\n",
    "print('\\nF1-Score=%f%%' % (f1_summ_tfidf))\n",
    "\n"
   ]
  },
  {
   "cell_type": "code",
   "execution_count": 134,
   "metadata": {},
   "outputs": [
    {
     "data": {
      "image/png": "[encoded data removed]",
      "text/plain": [
       "<Figure size 432x288 with 1 Axes>"
      ]
     },
     "metadata": {},
     "output_type": "display_data"
    }
   ],
   "source": [
    "plt.figure()\n",
    "plt.plot(fpr,tpr,label = \"roc curve for training with area({})\".format(roc_auc_train_summ_tfidf))\n",
    "plt.plot(fpr_1,tpr_1,label = \"roc curve for test data with area({})\".format(roc_auc_test_summ_tfidf))\n",
    "plt.legend(loc=\"lower right\")\n",
    "plt.show()"
   ]
  },
  {
   "cell_type": "code",
   "execution_count": 135,
   "metadata": {},
   "outputs": [
    {
     "data": {
      "text/plain": [
       "array([[10840,  2323],\n",
       "       [ 1775, 10062]], dtype=int64)"
      ]
     },
     "execution_count": 135,
     "metadata": {},
     "output_type": "execute_result"
    }
   ],
   "source": [
    "#Confusion Matrix\n",
    "from sklearn.metrics import confusion_matrix\n",
    "cm_summ_tfidf = confusion_matrix(y_test, pred_summ_tfidf)\n",
    "cm_summ_tfidf"
   ]
  },
  {
   "cell_type": "code",
   "execution_count": 136,
   "metadata": {},
   "outputs": [
    {
     "data": {
      "image/png": "[encoded data removed]",
      "text/plain": [
       "<Figure size 432x288 with 2 Axes>"
      ]
     },
     "metadata": {},
     "output_type": "display_data"
    }
   ],
   "source": [
    "class_label = [\"negative\", \"positive\"]\n",
    "df_cm = pd.DataFrame(cm_summ_tfidf, index = class_label, columns = class_label)\n",
    "sns.heatmap(df_cm, annot = True, fmt = \"d\")\n",
    "plt.title(\"Confusion Matrix\")\n",
    "plt.xlabel(\"Predicted Label\")\n",
    "plt.ylabel(\"True Label\")\n",
    "plt.show()"
   ]
  },
  {
   "cell_type": "code",
   "execution_count": 146,
   "metadata": {},
   "outputs": [
    {
     "name": "stdout",
     "output_type": "stream",
     "text": [
      "+---------------------+-------------+----------------+---------------+--------------+-----------+-------------+-------+--------+------+------+\n",
      "|          CV         | alpha_value | Train_error(%) | Test_error(%) | Precision(%) | Recall(%) | F1-Score(%) |  TPR  |  TNR   | FPR  | FNR  |\n",
      "+---------------------+-------------+----------------+---------------+--------------+-----------+-------------+-------+--------+------+------+\n",
      "| double chain method |     100     |     14.84      |     16.39     |    81.24     |    85.0   |    83.08    | 10062 | 108840 | 1775 | 2323 |\n",
      "+---------------------+-------------+----------------+---------------+--------------+-----------+-------------+-------+--------+------+------+\n"
     ]
    }
   ],
   "source": [
    "from prettytable import PrettyTable\n",
    "x = PrettyTable()\n",
    "\n",
    "alpha_summ_tfidf = 100\n",
    "cv = 'double chain method'\n",
    "x.field_names = [\"CV\",\"alpha_value\",\"Train_error(%)\",\"Test_error(%)\",\"Precision(%)\",\"Recall(%)\",\"F1-Score(%)\",\"TPR\",\"TNR\",\"FPR\",\"FNR\"]\n",
    "\n",
    "\n",
    "err_train_summ_tfidf = np.around(100 - train_acc_summ_tfidf*100 , decimals = 2)\n",
    "err_test_summ_tfidf =  np.around(100 - test_acc_summ_tfidf*100 , decimals = 2)\n",
    "pre_summ_tfidf= np.around(pre_summ_tfidf, decimals = 2)\n",
    "rec_summ_tfidf = np.around(rec_summ_tfidf, decimals = 2)\n",
    "f1_summ_tfidf = np.around(f1_summ_tfidf, decimals = 2)\n",
    "AUC_train_summ_tfidf = np.around(roc_auc_train_summ_tfidf,decimals=2)\n",
    "AUC_test_summ_tfidf = np.around(roc_auc_test_summ_tfidf,decimals=2)\n",
    "TPR = 10062\n",
    "TNR = 108840\n",
    "FPR = 1775\n",
    "FNR = 2323\n",
    "\n",
    "\n",
    "x.add_row([cv,alpha_summ_tfidf,err_train_summ_tfidf,err_test_summ_tfidf,pre_summ_tfidf,rec_summ_tfidf,f1_summ_tfidf,TPR,TNR,FPR,FNR])\n",
    "\n",
    "\n",
    "print(x)"
   ]
  },
  {
   "cell_type": "markdown",
   "metadata": {},
   "source": [
    "#### OBSERVATION:\n",
    "The F_1 score of positive and negative reviews are 0.84 and 0.86 respectively."
   ]
  },
  {
   "cell_type": "code",
   "execution_count": 147,
   "metadata": {},
   "outputs": [
    {
     "name": "stdout",
     "output_type": "stream",
     "text": [
      "+------------------+-------------+----------------+---------------+--------------+-----------+-------------+-----------+----------+\n",
      "|      model       | alpha_value | Train_error(%) | Test_error(%) | Precision(%) | Recall(%) | F1-Score(%) | AUC_train | AUC_test |\n",
      "+------------------+-------------+----------------+---------------+--------------+-----------+-------------+-----------+----------+\n",
      "|  naive_text_BOW  |     100     |     13.41      |     14.51     |    88.94     |   78.91   |    83.62    |    0.93   |   0.92   |\n",
      "| naive_text_TFIDF |     100     |     13.69      |     14.82     |    81.48     |   88.56   |    84.87    |    0.94   |   0.93   |\n",
      "| naive_summ_TFIDF |     100     |     14.84      |     16.39     |    81.24     |    85.0   |    83.08    |    0.92   |   0.91   |\n",
      "+------------------+-------------+----------------+---------------+--------------+-----------+-------------+-----------+----------+\n"
     ]
    }
   ],
   "source": [
    "from prettytable import PrettyTable\n",
    "x = PrettyTable()\n",
    "\n",
    "\n",
    "model1 = \"naive_text_BOW\"\n",
    "model2 =\"naive_text_TFIDF\"\n",
    "model3 =\"naive_summ_TFIDF\"\n",
    "\n",
    "x.field_names = [\"model\",\"alpha_value\",\"Train_error(%)\",\"Test_error(%)\",\"Precision(%)\",\"Recall(%)\",\"F1-Score(%)\",\"AUC_train\",\"AUC_test\"]\n",
    "x.add_row([model1,alpha_bow,err_train_bow,err_test_bow,pre_bow,rec_bow,f1_bow,AUC_train_bow,AUC_test_bow])\n",
    "x.add_row([model2,alpha_tfidf,err_train_tfidf,err_test_tfidf,pre_tfidf,rec_tfidf,f1_tfidf,AUC_train_tfidf,AUC_test_tfidf])\n",
    "x.add_row([model3,alpha_summ_tfidf,err_train_summ_tfidf,err_test_summ_tfidf,pre_summ_tfidf,rec_summ_tfidf,f1_summ_tfidf,AUC_train_summ_tfidf,AUC_test_summ_tfidf])\n",
    "\n",
    "\n",
    "print(x)"
   ]
  },
  {
   "cell_type": "markdown",
   "metadata": {},
   "source": [
    "#### CONCLUSION:\n",
    "1. Using summary as feature for training Naive Bayes model haven't affect much on AUC values and other metrices. So, both feature can be used for classification.<br>\n",
    "2. But if we have to choose from text and summary, then text is preferrable because of significant difference in AUC value of text_tfidf and summary_tfidf."
   ]
  }
 ],
 "metadata": {
  "colab": {
   "name": "04 Amazon Fine Food Reviews Analysis_NaiveBayes.ipynb",
   "provenance": [],
   "version": "0.3.2"
  },
  "kernelspec": {
   "display_name": "Python 3",
   "language": "python",
   "name": "python3"
  },
  "language_info": {
   "codemirror_mode": {
    "name": "ipython",
    "version": 3
   },
   "file_extension": ".py",
   "mimetype": "text/x-python",
   "name": "python",
   "nbconvert_exporter": "python",
   "pygments_lexer": "ipython3",
   "version": "3.8.8"
  }
 },
 "nbformat": 4,
 "nbformat_minor": 1
}
